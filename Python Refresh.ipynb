{
 "cells": [
  {
   "cell_type": "code",
   "execution_count": 64,
   "id": "5f147582-713d-452e-81d6-0c927e6a162f",
   "metadata": {
    "collapsed": true,
    "jupyter": {
     "outputs_hidden": true
    },
    "tags": []
   },
   "outputs": [
    {
     "name": "stdout",
     "output_type": "stream",
     "text": [
      "Collecting functools\n",
      "  Downloading functools-0.5.tar.gz (4.9 kB)\n",
      "Building wheels for collected packages: functools\n",
      "  Building wheel for functools (setup.py) ... \u001b[?25lerror\n",
      "\u001b[31m  ERROR: Command errored out with exit status 1:\n",
      "   command: /home/spencer/anaconda3/bin/python -u -c 'import io, os, sys, setuptools, tokenize; sys.argv[0] = '\"'\"'/tmp/pip-install-0183mt6o/functools_dfce44e5bb6641259b391d038bb7e505/setup.py'\"'\"'; __file__='\"'\"'/tmp/pip-install-0183mt6o/functools_dfce44e5bb6641259b391d038bb7e505/setup.py'\"'\"';f = getattr(tokenize, '\"'\"'open'\"'\"', open)(__file__) if os.path.exists(__file__) else io.StringIO('\"'\"'from setuptools import setup; setup()'\"'\"');code = f.read().replace('\"'\"'\\r\\n'\"'\"', '\"'\"'\\n'\"'\"');f.close();exec(compile(code, __file__, '\"'\"'exec'\"'\"'))' bdist_wheel -d /tmp/pip-wheel-4qk0ocrh\n",
      "       cwd: /tmp/pip-install-0183mt6o/functools_dfce44e5bb6641259b391d038bb7e505/\n",
      "  Complete output (88 lines):\n",
      "  running bdist_wheel\n",
      "  running build\n",
      "  running build_py\n",
      "  creating build\n",
      "  creating build/lib.linux-x86_64-3.9\n",
      "  copying functools.py -> build/lib.linux-x86_64-3.9\n",
      "  running build_ext\n",
      "  building '_functools' extension\n",
      "  creating build/temp.linux-x86_64-3.9\n",
      "  creating build/temp.linux-x86_64-3.9/src\n",
      "  gcc -pthread -B /home/spencer/anaconda3/compiler_compat -Wno-unused-result -Wsign-compare -DNDEBUG -O2 -Wall -fPIC -O2 -isystem /home/spencer/anaconda3/include -I/home/spencer/anaconda3/include -fPIC -O2 -isystem /home/spencer/anaconda3/include -fPIC -I/home/spencer/anaconda3/include/python3.9 -c src/compose.c -o build/temp.linux-x86_64-3.9/src/compose.o\n",
      "  src/compose.c: In function ‘compose_dealloc’:\n",
      "  src/compose.c:96:4: error: ‘struct compose’ has no member named ‘ob_type’\n",
      "     96 |  co->ob_type->tp_free(co);\n",
      "        |    ^~\n",
      "  src/compose.c: In function ‘compose_repr’:\n",
      "  src/compose.c:137:6: warning: implicit declaration of function ‘PyString_FromFormat’; did you mean ‘PyBytes_FromFormat’? [-Wimplicit-function-declaration]\n",
      "    137 |  s = PyString_FromFormat(\"<composition on %s at %p>\",\n",
      "        |      ^~~~~~~~~~~~~~~~~~~\n",
      "        |      PyBytes_FromFormat\n",
      "  src/compose.c:138:6: warning: implicit declaration of function ‘PyString_AsString’ [-Wimplicit-function-declaration]\n",
      "    138 |      PyString_AsString(grepr), (void *)co);\n",
      "        |      ^~~~~~~~~~~~~~~~~\n",
      "  src/compose.c:137:4: warning: assignment to ‘PyObject *’ {aka ‘struct _object *’} from ‘int’ makes pointer from integer without a cast [-Wint-conversion]\n",
      "    137 |  s = PyString_FromFormat(\"<composition on %s at %p>\",\n",
      "        |    ^\n",
      "  src/compose.c: At top level:\n",
      "  src/compose.c:143:36: warning: missing braces around initializer [-Wmissing-braces]\n",
      "    143 | static PyTypeObject compose_type = {\n",
      "        |                                    ^\n",
      "  src/compose.c:146:2: warning: initialization of ‘long int’ from ‘char *’ makes integer from pointer without a cast [-Wint-conversion]\n",
      "    146 |  \"compose\",   /* tp_name */\n",
      "        |  ^~~~~~~~~\n",
      "  src/compose.c:146:2: note: (near initialization for ‘compose_type.tp_basicsize’)\n",
      "  src/compose.c:150:2: warning: initialization of ‘long int’ from ‘void (*)(PyObject *)’ {aka ‘void (*)(struct _object *)’} makes integer from pointer without a cast [-Wint-conversion]\n",
      "    150 |  (destructor)compose_dealloc, /* tp_dealloc */\n",
      "        |  ^\n",
      "  src/compose.c:150:2: note: (near initialization for ‘compose_type.tp_vectorcall_offset’)\n",
      "  src/compose.c:155:2: warning: initialization of ‘PyNumberMethods *’ {aka ‘struct <anonymous> *’} from incompatible pointer type ‘PyObject * (*)(PyObject *)’ {aka ‘struct _object * (*)(struct _object *)’} [-Wincompatible-pointer-types]\n",
      "    155 |  (reprfunc)compose_repr,  /* tp_repr */\n",
      "        |  ^\n",
      "  src/compose.c:155:2: note: (near initialization for ‘compose_type.tp_as_number’)\n",
      "  src/compose.c:160:2: warning: initialization of ‘PyObject * (*)(PyObject *)’ {aka ‘struct _object * (*)(struct _object *)’} from incompatible pointer type ‘PyObject * (*)(PyObject *, PyObject *, PyObject *)’ {aka ‘struct _object * (*)(struct _object *, struct _object *, struct _object *)’} [-Wincompatible-pointer-types]\n",
      "    160 |  (ternaryfunc)compose_call, /* tp_call */\n",
      "        |  ^\n",
      "  src/compose.c:160:2: note: (near initialization for ‘compose_type.tp_str’)\n",
      "  In file included from /home/spencer/anaconda3/include/python3.9/pytime.h:6,\n",
      "                   from /home/spencer/anaconda3/include/python3.9/Python.h:94,\n",
      "                   from src/compose.c:31:\n",
      "  /home/spencer/anaconda3/include/python3.9/object.h:350:29: warning: initialization of ‘const char *’ from ‘long unsigned int’ makes pointer from integer without a cast [-Wint-conversion]\n",
      "    350 | #define Py_TPFLAGS_DEFAULT  ( \\\n",
      "        |                             ^\n",
      "  src/compose.c:165:2: note: in expansion of macro ‘Py_TPFLAGS_DEFAULT’\n",
      "    165 |  Py_TPFLAGS_DEFAULT | Py_TPFLAGS_HAVE_GC |\n",
      "        |  ^~~~~~~~~~~~~~~~~~\n",
      "  /home/spencer/anaconda3/include/python3.9/object.h:350:29: note: (near initialization for ‘compose_type.tp_doc’)\n",
      "    350 | #define Py_TPFLAGS_DEFAULT  ( \\\n",
      "        |                             ^\n",
      "  src/compose.c:165:2: note: in expansion of macro ‘Py_TPFLAGS_DEFAULT’\n",
      "    165 |  Py_TPFLAGS_DEFAULT | Py_TPFLAGS_HAVE_GC |\n",
      "        |  ^~~~~~~~~~~~~~~~~~\n",
      "  src/compose.c:167:2: warning: initialization of ‘int (*)(PyObject *, int (*)(PyObject *, void *), void *)’ {aka ‘int (*)(struct _object *, int (*)(struct _object *, void *), void *)’} from incompatible pointer type ‘const char *’ [-Wincompatible-pointer-types]\n",
      "    167 |  compose_doc,   /* tp_doc */\n",
      "        |  ^~~~~~~~~~~\n",
      "  src/compose.c:167:2: note: (near initialization for ‘compose_type.tp_traverse’)\n",
      "  src/compose.c:168:2: warning: initialization of ‘int (*)(PyObject *)’ {aka ‘int (*)(struct _object *)’} from incompatible pointer type ‘int (*)(PyObject *, int (*)(PyObject *, void *), void *)’ {aka ‘int (*)(struct _object *, int (*)(struct _object *, void *), void *)’} [-Wincompatible-pointer-types]\n",
      "    168 |  (traverseproc)compose_traverse, /* tp_traverse */\n",
      "        |  ^\n",
      "  src/compose.c:168:2: note: (near initialization for ‘compose_type.tp_clear’)\n",
      "  src/compose.c:179:2: warning: initialization of ‘int (*)(PyObject *, PyObject *, PyObject *)’ {aka ‘int (*)(struct _object *, struct _object *, struct _object *)’} from incompatible pointer type ‘PyObject * (*)(PyObject *, PyObject *)’ {aka ‘struct _object * (*)(struct _object *, struct _object *)’} [-Wincompatible-pointer-types]\n",
      "    179 |  PyMethod_New,   /* tp_descr_get */\n",
      "        |  ^~~~~~~~~~~~\n",
      "  src/compose.c:179:2: note: (near initialization for ‘compose_type.tp_descr_set’)\n",
      "  src/compose.c:184:2: warning: initialization of ‘void (*)(void *)’ from incompatible pointer type ‘PyObject * (*)(PyTypeObject *, PyObject *, PyObject *)’ {aka ‘struct _object * (*)(struct _typeobject *, struct _object *, struct _object *)’} [-Wincompatible-pointer-types]\n",
      "    184 |  compose_new,   /* tp_new */\n",
      "        |  ^~~~~~~~~~~\n",
      "  src/compose.c:184:2: note: (near initialization for ‘compose_type.tp_free’)\n",
      "  src/compose.c:185:2: warning: initialization of ‘int (*)(PyObject *)’ {aka ‘int (*)(struct _object *)’} from incompatible pointer type ‘void (*)(void *)’ [-Wincompatible-pointer-types]\n",
      "    185 |  PyObject_GC_Del,  /* tp_free */\n",
      "        |  ^~~~~~~~~~~~~~~\n",
      "  src/compose.c:185:2: note: (near initialization for ‘compose_type.tp_is_gc’)\n",
      "  src/compose.c:143:36: warning: missing braces around initializer [-Wmissing-braces]\n",
      "    143 | static PyTypeObject compose_type = {\n",
      "        |                                    ^\n",
      "  src/compose.c:28:19: warning: ‘rcsid’ defined but not used [-Wunused-const-variable=]\n",
      "     28 | static const char rcsid[] = \"@(#)$Dima: pylib/functools/src/compose.c,v 1.3 2005/08/22 07:39:33 dima Exp $\";\n",
      "        |                   ^~~~~\n",
      "  error: command '/usr/bin/gcc' failed with exit code 1\n",
      "  ----------------------------------------\u001b[0m\n",
      "\u001b[31m  ERROR: Failed building wheel for functools\u001b[0m\n",
      "\u001b[?25h  Running setup.py clean for functools\n",
      "Failed to build functools\n",
      "Installing collected packages: functools\n",
      "    Running setup.py install for functools ... \u001b[?25lerror\n",
      "\u001b[31m    ERROR: Command errored out with exit status 1:\n",
      "     command: /home/spencer/anaconda3/bin/python -u -c 'import io, os, sys, setuptools, tokenize; sys.argv[0] = '\"'\"'/tmp/pip-install-0183mt6o/functools_dfce44e5bb6641259b391d038bb7e505/setup.py'\"'\"'; __file__='\"'\"'/tmp/pip-install-0183mt6o/functools_dfce44e5bb6641259b391d038bb7e505/setup.py'\"'\"';f = getattr(tokenize, '\"'\"'open'\"'\"', open)(__file__) if os.path.exists(__file__) else io.StringIO('\"'\"'from setuptools import setup; setup()'\"'\"');code = f.read().replace('\"'\"'\\r\\n'\"'\"', '\"'\"'\\n'\"'\"');f.close();exec(compile(code, __file__, '\"'\"'exec'\"'\"'))' install --record /tmp/pip-record-lcjphi6a/install-record.txt --single-version-externally-managed --compile --install-headers /home/spencer/anaconda3/include/python3.9/functools\n",
      "         cwd: /tmp/pip-install-0183mt6o/functools_dfce44e5bb6641259b391d038bb7e505/\n",
      "    Complete output (88 lines):\n",
      "    running install\n",
      "    running build\n",
      "    running build_py\n",
      "    creating build\n",
      "    creating build/lib.linux-x86_64-3.9\n",
      "    copying functools.py -> build/lib.linux-x86_64-3.9\n",
      "    running build_ext\n",
      "    building '_functools' extension\n",
      "    creating build/temp.linux-x86_64-3.9\n",
      "    creating build/temp.linux-x86_64-3.9/src\n",
      "    gcc -pthread -B /home/spencer/anaconda3/compiler_compat -Wno-unused-result -Wsign-compare -DNDEBUG -O2 -Wall -fPIC -O2 -isystem /home/spencer/anaconda3/include -I/home/spencer/anaconda3/include -fPIC -O2 -isystem /home/spencer/anaconda3/include -fPIC -I/home/spencer/anaconda3/include/python3.9 -c src/compose.c -o build/temp.linux-x86_64-3.9/src/compose.o\n",
      "    src/compose.c: In function ‘compose_dealloc’:\n",
      "    src/compose.c:96:4: error: ‘struct compose’ has no member named ‘ob_type’\n",
      "       96 |  co->ob_type->tp_free(co);\n",
      "          |    ^~\n",
      "    src/compose.c: In function ‘compose_repr’:\n",
      "    src/compose.c:137:6: warning: implicit declaration of function ‘PyString_FromFormat’; did you mean ‘PyBytes_FromFormat’? [-Wimplicit-function-declaration]\n",
      "      137 |  s = PyString_FromFormat(\"<composition on %s at %p>\",\n",
      "          |      ^~~~~~~~~~~~~~~~~~~\n",
      "          |      PyBytes_FromFormat\n",
      "    src/compose.c:138:6: warning: implicit declaration of function ‘PyString_AsString’ [-Wimplicit-function-declaration]\n",
      "      138 |      PyString_AsString(grepr), (void *)co);\n",
      "          |      ^~~~~~~~~~~~~~~~~\n",
      "    src/compose.c:137:4: warning: assignment to ‘PyObject *’ {aka ‘struct _object *’} from ‘int’ makes pointer from integer without a cast [-Wint-conversion]\n",
      "      137 |  s = PyString_FromFormat(\"<composition on %s at %p>\",\n",
      "          |    ^\n",
      "    src/compose.c: At top level:\n",
      "    src/compose.c:143:36: warning: missing braces around initializer [-Wmissing-braces]\n",
      "      143 | static PyTypeObject compose_type = {\n",
      "          |                                    ^\n",
      "    src/compose.c:146:2: warning: initialization of ‘long int’ from ‘char *’ makes integer from pointer without a cast [-Wint-conversion]\n",
      "      146 |  \"compose\",   /* tp_name */\n",
      "          |  ^~~~~~~~~\n",
      "    src/compose.c:146:2: note: (near initialization for ‘compose_type.tp_basicsize’)\n",
      "    src/compose.c:150:2: warning: initialization of ‘long int’ from ‘void (*)(PyObject *)’ {aka ‘void (*)(struct _object *)’} makes integer from pointer without a cast [-Wint-conversion]\n",
      "      150 |  (destructor)compose_dealloc, /* tp_dealloc */\n",
      "          |  ^\n",
      "    src/compose.c:150:2: note: (near initialization for ‘compose_type.tp_vectorcall_offset’)\n",
      "    src/compose.c:155:2: warning: initialization of ‘PyNumberMethods *’ {aka ‘struct <anonymous> *’} from incompatible pointer type ‘PyObject * (*)(PyObject *)’ {aka ‘struct _object * (*)(struct _object *)’} [-Wincompatible-pointer-types]\n",
      "      155 |  (reprfunc)compose_repr,  /* tp_repr */\n",
      "          |  ^\n",
      "    src/compose.c:155:2: note: (near initialization for ‘compose_type.tp_as_number’)\n",
      "    src/compose.c:160:2: warning: initialization of ‘PyObject * (*)(PyObject *)’ {aka ‘struct _object * (*)(struct _object *)’} from incompatible pointer type ‘PyObject * (*)(PyObject *, PyObject *, PyObject *)’ {aka ‘struct _object * (*)(struct _object *, struct _object *, struct _object *)’} [-Wincompatible-pointer-types]\n",
      "      160 |  (ternaryfunc)compose_call, /* tp_call */\n",
      "          |  ^\n",
      "    src/compose.c:160:2: note: (near initialization for ‘compose_type.tp_str’)\n",
      "    In file included from /home/spencer/anaconda3/include/python3.9/pytime.h:6,\n",
      "                     from /home/spencer/anaconda3/include/python3.9/Python.h:94,\n",
      "                     from src/compose.c:31:\n",
      "    /home/spencer/anaconda3/include/python3.9/object.h:350:29: warning: initialization of ‘const char *’ from ‘long unsigned int’ makes pointer from integer without a cast [-Wint-conversion]\n",
      "      350 | #define Py_TPFLAGS_DEFAULT  ( \\\n",
      "          |                             ^\n",
      "    src/compose.c:165:2: note: in expansion of macro ‘Py_TPFLAGS_DEFAULT’\n",
      "      165 |  Py_TPFLAGS_DEFAULT | Py_TPFLAGS_HAVE_GC |\n",
      "          |  ^~~~~~~~~~~~~~~~~~\n",
      "    /home/spencer/anaconda3/include/python3.9/object.h:350:29: note: (near initialization for ‘compose_type.tp_doc’)\n",
      "      350 | #define Py_TPFLAGS_DEFAULT  ( \\\n",
      "          |                             ^\n",
      "    src/compose.c:165:2: note: in expansion of macro ‘Py_TPFLAGS_DEFAULT’\n",
      "      165 |  Py_TPFLAGS_DEFAULT | Py_TPFLAGS_HAVE_GC |\n",
      "          |  ^~~~~~~~~~~~~~~~~~\n",
      "    src/compose.c:167:2: warning: initialization of ‘int (*)(PyObject *, int (*)(PyObject *, void *), void *)’ {aka ‘int (*)(struct _object *, int (*)(struct _object *, void *), void *)’} from incompatible pointer type ‘const char *’ [-Wincompatible-pointer-types]\n",
      "      167 |  compose_doc,   /* tp_doc */\n",
      "          |  ^~~~~~~~~~~\n",
      "    src/compose.c:167:2: note: (near initialization for ‘compose_type.tp_traverse’)\n",
      "    src/compose.c:168:2: warning: initialization of ‘int (*)(PyObject *)’ {aka ‘int (*)(struct _object *)’} from incompatible pointer type ‘int (*)(PyObject *, int (*)(PyObject *, void *), void *)’ {aka ‘int (*)(struct _object *, int (*)(struct _object *, void *), void *)’} [-Wincompatible-pointer-types]\n",
      "      168 |  (traverseproc)compose_traverse, /* tp_traverse */\n",
      "          |  ^\n",
      "    src/compose.c:168:2: note: (near initialization for ‘compose_type.tp_clear’)\n",
      "    src/compose.c:179:2: warning: initialization of ‘int (*)(PyObject *, PyObject *, PyObject *)’ {aka ‘int (*)(struct _object *, struct _object *, struct _object *)’} from incompatible pointer type ‘PyObject * (*)(PyObject *, PyObject *)’ {aka ‘struct _object * (*)(struct _object *, struct _object *)’} [-Wincompatible-pointer-types]\n",
      "      179 |  PyMethod_New,   /* tp_descr_get */\n",
      "          |  ^~~~~~~~~~~~\n",
      "    src/compose.c:179:2: note: (near initialization for ‘compose_type.tp_descr_set’)\n",
      "    src/compose.c:184:2: warning: initialization of ‘void (*)(void *)’ from incompatible pointer type ‘PyObject * (*)(PyTypeObject *, PyObject *, PyObject *)’ {aka ‘struct _object * (*)(struct _typeobject *, struct _object *, struct _object *)’} [-Wincompatible-pointer-types]\n",
      "      184 |  compose_new,   /* tp_new */\n",
      "          |  ^~~~~~~~~~~\n",
      "    src/compose.c:184:2: note: (near initialization for ‘compose_type.tp_free’)\n",
      "    src/compose.c:185:2: warning: initialization of ‘int (*)(PyObject *)’ {aka ‘int (*)(struct _object *)’} from incompatible pointer type ‘void (*)(void *)’ [-Wincompatible-pointer-types]\n",
      "      185 |  PyObject_GC_Del,  /* tp_free */\n",
      "          |  ^~~~~~~~~~~~~~~\n",
      "    src/compose.c:185:2: note: (near initialization for ‘compose_type.tp_is_gc’)\n",
      "    src/compose.c:143:36: warning: missing braces around initializer [-Wmissing-braces]\n",
      "      143 | static PyTypeObject compose_type = {\n",
      "          |                                    ^\n",
      "    src/compose.c:28:19: warning: ‘rcsid’ defined but not used [-Wunused-const-variable=]\n",
      "       28 | static const char rcsid[] = \"@(#)$Dima: pylib/functools/src/compose.c,v 1.3 2005/08/22 07:39:33 dima Exp $\";\n",
      "          |                   ^~~~~\n",
      "    error: command '/usr/bin/gcc' failed with exit code 1\n",
      "    ----------------------------------------\u001b[0m\n",
      "\u001b[31mERROR: Command errored out with exit status 1: /home/spencer/anaconda3/bin/python -u -c 'import io, os, sys, setuptools, tokenize; sys.argv[0] = '\"'\"'/tmp/pip-install-0183mt6o/functools_dfce44e5bb6641259b391d038bb7e505/setup.py'\"'\"'; __file__='\"'\"'/tmp/pip-install-0183mt6o/functools_dfce44e5bb6641259b391d038bb7e505/setup.py'\"'\"';f = getattr(tokenize, '\"'\"'open'\"'\"', open)(__file__) if os.path.exists(__file__) else io.StringIO('\"'\"'from setuptools import setup; setup()'\"'\"');code = f.read().replace('\"'\"'\\r\\n'\"'\"', '\"'\"'\\n'\"'\"');f.close();exec(compile(code, __file__, '\"'\"'exec'\"'\"'))' install --record /tmp/pip-record-lcjphi6a/install-record.txt --single-version-externally-managed --compile --install-headers /home/spencer/anaconda3/include/python3.9/functools Check the logs for full command output.\u001b[0m\n",
      "\u001b[?25h"
     ]
    }
   ],
   "source": [
    "!pip install functools"
   ]
  },
  {
   "cell_type": "code",
   "execution_count": 1,
   "id": "0ca6fdf7-813f-497f-ba80-572c331e751d",
   "metadata": {
    "tags": []
   },
   "outputs": [],
   "source": [
    "from functools import reduce\n",
    "import re \n",
    "import pandas as pd"
   ]
  },
  {
   "cell_type": "code",
   "execution_count": null,
   "id": "aee15465-c925-4f5a-9180-f62d913578e1",
   "metadata": {},
   "outputs": [],
   "source": [
    "#1. Introduction to Markdown "
   ]
  },
  {
   "cell_type": "markdown",
   "id": "78fe1794-b623-4c31-9026-80071992dc62",
   "metadata": {},
   "source": [
    "Bold is done like this: **bold**"
   ]
  },
  {
   "cell_type": "markdown",
   "id": "c6edb9a1-8488-4600-9527-7d3f549eb904",
   "metadata": {},
   "source": [
    "Adding links is done like this: [link to Google!](http://google.com)"
   ]
  },
  {
   "cell_type": "markdown",
   "id": "d3ac670c-0c8b-46f9-853a-4451db64f3a4",
   "metadata": {},
   "source": [
    "Numbered lists are done like this: \n",
    "1. First\n",
    "2. Second\n",
    "3. Third"
   ]
  },
  {
   "cell_type": "markdown",
   "id": "9223478b-75ba-4015-9b6c-7fd6f9786efd",
   "metadata": {},
   "source": [
    "Bulleted lists are done like this: \n",
    "* First \n",
    "* Second\n",
    "* Third"
   ]
  },
  {
   "cell_type": "markdown",
   "id": "35f9cfa9-1fa9-4f61-b9bf-158fb5bff802",
   "metadata": {},
   "source": [
    "Nested lists are done like this:\n",
    "- First \n",
    "- Second\n",
    "    - Third\n",
    "    - Fourth"
   ]
  },
  {
   "cell_type": "markdown",
   "id": "d711b5d2-d118-47bd-8a00-088b840e3a81",
   "metadata": {},
   "source": [
    "Images are embedded like this: \n",
    "![Image of Cartier Tank Louis](https://www.en.cartier.com/content/dam/rcq/car/20/59/09/0/2059090.png.scale.600.high.tank-louis-cartier-watch-yellow-gold.png)"
   ]
  },
  {
   "cell_type": "markdown",
   "id": "a1bded4c-8f67-45a9-ba10-e0eaa0ab0c70",
   "metadata": {},
   "source": [
    "Headers are done like this:\n",
    "# First Level Header \n",
    "## Second Level Header \n",
    "## Third Level Header "
   ]
  },
  {
   "cell_type": "markdown",
   "id": "476cdf6d-7c01-4c11-838b-f0ce667f8ba1",
   "metadata": {},
   "source": [
    "Block quotes are done like this:\n",
    "> \"The light that you discover in your life is proportionate to the amount of the darkness you are willing to forthrightly confront.\" - Jordan Peterson"
   ]
  },
  {
   "cell_type": "markdown",
   "id": "400b4291-b791-4de6-8e63-992d0877a305",
   "metadata": {},
   "source": [
    "Tables are done like this:\n",
    "\n",
    "| Tables        | Are           |Cool    |\n",
    "|---------------|---------------|--------|\n",
    "| col 3 is      | right-aligned | \\$1600 |\n",
    "| col 2 is      | centered      |   \\$12 |\n",
    "| zebra stripes | are neat      |    \\$1 | "
   ]
  },
  {
   "cell_type": "markdown",
   "id": "f3061976-a128-4752-9e24-07cc678f7f4f",
   "metadata": {},
   "source": [
    "Mathematical Notation is done like this:\n",
    "\n",
    "$e=mc^2$\n",
    "\n",
    "\\begin{align*}\n",
    "    f(x) &= x^2\\\\\n",
    "    g(x) &= \\frac{1}{x}\\\\\n",
    "    F(x) &= \\int^a_b \\frac{1}{3}x^3\n",
    "\\end{align*}\n"
   ]
  },
  {
   "cell_type": "code",
   "execution_count": 3,
   "id": "fdc1a428-90c4-474c-84fe-9afbdade27e2",
   "metadata": {},
   "outputs": [],
   "source": [
    "#2. Introduction to Python Syntax & Variables "
   ]
  },
  {
   "cell_type": "code",
   "execution_count": 4,
   "id": "97d18bdc-a8a6-4763-8a9c-5fed1c376916",
   "metadata": {},
   "outputs": [
    {
     "name": "stdout",
     "output_type": "stream",
     "text": [
      "5\n"
     ]
    }
   ],
   "source": [
    "x = 1; y = 4; z = x + y\n",
    "print(z)"
   ]
  },
  {
   "cell_type": "code",
   "execution_count": 8,
   "id": "614a4f06-161b-47d2-ba3e-678245b4aa64",
   "metadata": {},
   "outputs": [
    {
     "name": "stdout",
     "output_type": "stream",
     "text": [
      "lower: [0, 1, 2, 3, 4, 5, 6, 7, 8, 9, 10, 11, 12, 13, 14]\n",
      "upper: [15, 16, 17, 18, 19, 20, 21, 22, 23, 24, 25, 26, 27, 28, 29]\n"
     ]
    }
   ],
   "source": [
    "#set the midpoint\n",
    "mid = 15\n",
    "ran = 2*mid\n",
    "\n",
    "#making two empty lists \n",
    "lower = []; upper = []\n",
    "\n",
    "#split the numbers into lower and upper \n",
    "for i in range(ran):\n",
    "    if (i < mid):\n",
    "        lower.append(i)\n",
    "    else:\n",
    "        upper.append(i)\n",
    "    \n",
    "print(\"lower:\", lower)\n",
    "print(\"upper:\", upper)"
   ]
  },
  {
   "cell_type": "code",
   "execution_count": 9,
   "id": "714991c5-da03-44a3-a1bc-dbed5ff50dca",
   "metadata": {},
   "outputs": [
    {
     "name": "stdout",
     "output_type": "stream",
     "text": [
      "14\n"
     ]
    }
   ],
   "source": [
    "q = 2*(3+4); print(q)"
   ]
  },
  {
   "cell_type": "code",
   "execution_count": 11,
   "id": "e35ed5b8-5d6d-4061-b9b0-57da7e17f1ec",
   "metadata": {},
   "outputs": [
    {
     "name": "stdout",
     "output_type": "stream",
     "text": [
      "first value: 1\n"
     ]
    }
   ],
   "source": [
    "#passing arguments in a function\n",
    "print(\"first value:\", 1)"
   ]
  },
  {
   "cell_type": "code",
   "execution_count": 13,
   "id": "56fee213-82b6-4604-917c-68f82c340835",
   "metadata": {},
   "outputs": [
    {
     "name": "stdout",
     "output_type": "stream",
     "text": [
      "[1, 2, 3]\n"
     ]
    }
   ],
   "source": [
    "#different data types \n",
    "x = 1       #x is an integer \n",
    "x = \"hello\" #x is a string\n",
    "x = [1,2,3] #x is a list \n",
    "\n",
    "print(x)"
   ]
  },
  {
   "cell_type": "code",
   "execution_count": 14,
   "id": "5a965d0d-7753-4fa9-9328-4b67a63152a8",
   "metadata": {},
   "outputs": [
    {
     "name": "stdout",
     "output_type": "stream",
     "text": [
      "[1, 2, 3, 4]\n"
     ]
    }
   ],
   "source": [
    "x.append(4)\n",
    "print(x)"
   ]
  },
  {
   "cell_type": "code",
   "execution_count": 15,
   "id": "940945d4-afd3-486f-b2d4-40cf2eafa401",
   "metadata": {},
   "outputs": [
    {
     "name": "stdout",
     "output_type": "stream",
     "text": [
      "x =  15\n",
      "y =  10\n"
     ]
    }
   ],
   "source": [
    "x = 10; y = x\n",
    "x += 5 #adds 5 to x's value and assigns it to x \n",
    "print(\"x = \", x)\n",
    "print(\"y = \", y)"
   ]
  },
  {
   "cell_type": "code",
   "execution_count": 16,
   "id": "bbd75881-4349-4415-b146-919f50db02de",
   "metadata": {},
   "outputs": [
    {
     "data": {
      "text/plain": [
       "int"
      ]
     },
     "execution_count": 16,
     "metadata": {},
     "output_type": "execute_result"
    }
   ],
   "source": [
    "x = 4; type(x)"
   ]
  },
  {
   "cell_type": "code",
   "execution_count": 17,
   "id": "31905508-dcd2-4a20-a3df-3fd5490e9b8d",
   "metadata": {},
   "outputs": [
    {
     "data": {
      "text/plain": [
       "str"
      ]
     },
     "execution_count": 17,
     "metadata": {},
     "output_type": "execute_result"
    }
   ],
   "source": [
    "x = \"hello\"; type(x)"
   ]
  },
  {
   "cell_type": "code",
   "execution_count": 19,
   "id": "95c30144-6fe7-41d5-abdd-ebd42c54d8e5",
   "metadata": {},
   "outputs": [
    {
     "data": {
      "text/plain": [
       "float"
      ]
     },
     "execution_count": 19,
     "metadata": {},
     "output_type": "execute_result"
    }
   ],
   "source": [
    "x = 3.14159; type(x)"
   ]
  },
  {
   "cell_type": "code",
   "execution_count": 20,
   "id": "594aa01d-5b37-4a13-9b00-5f7780380d94",
   "metadata": {},
   "outputs": [
    {
     "data": {
      "text/plain": [
       "'HELLO'"
      ]
     },
     "execution_count": 20,
     "metadata": {},
     "output_type": "execute_result"
    }
   ],
   "source": [
    "x = \"hello\"; x.upper()"
   ]
  },
  {
   "cell_type": "code",
   "execution_count": 21,
   "id": "1ce9ad7e-2ac9-4280-8753-df76ba624c2a",
   "metadata": {},
   "outputs": [
    {
     "data": {
      "text/plain": [
       "(3537115888337719, 1125899906842624)"
      ]
     },
     "execution_count": 21,
     "metadata": {},
     "output_type": "execute_result"
    }
   ],
   "source": [
    "x = 3.14159; x.as_integer_ratio()"
   ]
  },
  {
   "cell_type": "code",
   "execution_count": 22,
   "id": "1bc4262f-b953-453a-b646-d2359421ce8b",
   "metadata": {},
   "outputs": [
    {
     "name": "stdout",
     "output_type": "stream",
     "text": [
      "[1, 2, 3, 100]\n"
     ]
    }
   ],
   "source": [
    "x = [1,2,3]; x.append(100); print(x)"
   ]
  },
  {
   "cell_type": "code",
   "execution_count": 23,
   "id": "ec055eb6-ea9e-4204-a5dd-d95b9cce8824",
   "metadata": {},
   "outputs": [
    {
     "data": {
      "text/plain": [
       "False"
      ]
     },
     "execution_count": 23,
     "metadata": {},
     "output_type": "execute_result"
    }
   ],
   "source": [
    "x = 4.5; x.is_integer()"
   ]
  },
  {
   "cell_type": "code",
   "execution_count": 24,
   "id": "2da2e467-dc73-43c6-b6e7-5ec476514486",
   "metadata": {},
   "outputs": [
    {
     "data": {
      "text/plain": [
       "True"
      ]
     },
     "execution_count": 24,
     "metadata": {},
     "output_type": "execute_result"
    }
   ],
   "source": [
    "x = 4.0; x.is_integer()"
   ]
  },
  {
   "cell_type": "code",
   "execution_count": 1,
   "id": "371b8d37-7a86-4460-ba10-7e05a9399245",
   "metadata": {},
   "outputs": [],
   "source": [
    "#3. Introduction to Operators "
   ]
  },
  {
   "cell_type": "code",
   "execution_count": 2,
   "id": "854f5bcb-b855-41d2-9722-ad2f9f19ac28",
   "metadata": {},
   "outputs": [],
   "source": [
    "#Standard operators: +, -, *, /, ** (expoentiations), - (negation)"
   ]
  },
  {
   "cell_type": "code",
   "execution_count": 4,
   "id": "89801b4b-bb06-4ee8-84ec-8cad20408be5",
   "metadata": {},
   "outputs": [
    {
     "name": "stdout",
     "output_type": "stream",
     "text": [
      "2\n"
     ]
    }
   ],
   "source": [
    "#Floor Divison: divides the two values and drops the fractional parts \n",
    "\n",
    "a = 8; b = 3\n",
    "x = a // b\n",
    "print(x)"
   ]
  },
  {
   "cell_type": "code",
   "execution_count": 6,
   "id": "26c555b1-9abe-4940-8563-0743864c1cca",
   "metadata": {},
   "outputs": [
    {
     "name": "stdout",
     "output_type": "stream",
     "text": [
      "1\n"
     ]
    }
   ],
   "source": [
    "#Modulus: returns the integer remainder after division of two numbers \n",
    "\n",
    "a = 10; b = 3\n",
    "x = a % b \n",
    "print(x)"
   ]
  },
  {
   "cell_type": "code",
   "execution_count": 7,
   "id": "430f1d2b-3821-4a77-86fa-895ab93e51bd",
   "metadata": {},
   "outputs": [],
   "source": [
    "#These two operations are equivalent:\n",
    "\n",
    "a = a + 2\n",
    "a += 2 "
   ]
  },
  {
   "cell_type": "code",
   "execution_count": 9,
   "id": "952075e1-d463-4be3-8c6d-ebda6654d6bc",
   "metadata": {},
   "outputs": [],
   "source": [
    "#Comparison Operators: return true or false based on the value of two things \n",
    "a = 5; b = 8 "
   ]
  },
  {
   "cell_type": "code",
   "execution_count": 10,
   "id": "06caec59-df58-4639-b0c2-d89333419cec",
   "metadata": {},
   "outputs": [
    {
     "data": {
      "text/plain": [
       "False"
      ]
     },
     "execution_count": 10,
     "metadata": {},
     "output_type": "execute_result"
    }
   ],
   "source": [
    "a == b "
   ]
  },
  {
   "cell_type": "code",
   "execution_count": 11,
   "id": "27d2c4b7-230d-4ccd-adc6-18d4e3cfc528",
   "metadata": {},
   "outputs": [
    {
     "data": {
      "text/plain": [
       "True"
      ]
     },
     "execution_count": 11,
     "metadata": {},
     "output_type": "execute_result"
    }
   ],
   "source": [
    "a < b "
   ]
  },
  {
   "cell_type": "code",
   "execution_count": 12,
   "id": "bc385f2d-6221-4565-9611-cd0c37605f4e",
   "metadata": {},
   "outputs": [
    {
     "data": {
      "text/plain": [
       "True"
      ]
     },
     "execution_count": 12,
     "metadata": {},
     "output_type": "execute_result"
    }
   ],
   "source": [
    "a <= b "
   ]
  },
  {
   "cell_type": "code",
   "execution_count": 15,
   "id": "8fd62139-d8c0-4ae6-9792-208e174b4b96",
   "metadata": {},
   "outputs": [
    {
     "data": {
      "text/plain": [
       "True"
      ]
     },
     "execution_count": 15,
     "metadata": {},
     "output_type": "execute_result"
    }
   ],
   "source": [
    "#Not equal to: \n",
    "a != b "
   ]
  },
  {
   "cell_type": "code",
   "execution_count": 16,
   "id": "148f88d4-a979-4d86-b955-2b286932e146",
   "metadata": {},
   "outputs": [
    {
     "data": {
      "text/plain": [
       "False"
      ]
     },
     "execution_count": 16,
     "metadata": {},
     "output_type": "execute_result"
    }
   ],
   "source": [
    "a > b"
   ]
  },
  {
   "cell_type": "code",
   "execution_count": 17,
   "id": "d9d5bba7-4d4d-4909-b82b-b425b52ba11a",
   "metadata": {},
   "outputs": [
    {
     "data": {
      "text/plain": [
       "False"
      ]
     },
     "execution_count": 17,
     "metadata": {},
     "output_type": "execute_result"
    }
   ],
   "source": [
    "a >= b "
   ]
  },
  {
   "cell_type": "code",
   "execution_count": 18,
   "id": "c323c5a5-93f5-4856-93b5-aa1138c29c09",
   "metadata": {},
   "outputs": [
    {
     "data": {
      "text/plain": [
       "True"
      ]
     },
     "execution_count": 18,
     "metadata": {},
     "output_type": "execute_result"
    }
   ],
   "source": [
    "#Is a between 15 and 30?\n",
    "a = 25\n",
    "15 < a < 30"
   ]
  },
  {
   "cell_type": "code",
   "execution_count": 19,
   "id": "059377b0-38de-4b7f-bda9-f4fb60435dc1",
   "metadata": {},
   "outputs": [],
   "source": [
    "#Boolean Operations (and, or, not)"
   ]
  },
  {
   "cell_type": "code",
   "execution_count": 20,
   "id": "2eb7b363-cf43-44ee-92dc-aa18c47c00bd",
   "metadata": {},
   "outputs": [
    {
     "data": {
      "text/plain": [
       "True"
      ]
     },
     "execution_count": 20,
     "metadata": {},
     "output_type": "execute_result"
    }
   ],
   "source": [
    "True and True "
   ]
  },
  {
   "cell_type": "code",
   "execution_count": 21,
   "id": "7164de01-f882-4509-9a6f-815fbc6ae251",
   "metadata": {},
   "outputs": [
    {
     "data": {
      "text/plain": [
       "False"
      ]
     },
     "execution_count": 21,
     "metadata": {},
     "output_type": "execute_result"
    }
   ],
   "source": [
    "True and False"
   ]
  },
  {
   "cell_type": "code",
   "execution_count": 22,
   "id": "45b78bac-15c8-4280-b111-9bb1746fceaa",
   "metadata": {},
   "outputs": [
    {
     "data": {
      "text/plain": [
       "False"
      ]
     },
     "execution_count": 22,
     "metadata": {},
     "output_type": "execute_result"
    }
   ],
   "source": [
    "False or False"
   ]
  },
  {
   "cell_type": "code",
   "execution_count": 23,
   "id": "0956a0ea-58c2-410c-916a-6cfb78428c13",
   "metadata": {},
   "outputs": [
    {
     "data": {
      "text/plain": [
       "True"
      ]
     },
     "execution_count": 23,
     "metadata": {},
     "output_type": "execute_result"
    }
   ],
   "source": [
    "True or False"
   ]
  },
  {
   "cell_type": "code",
   "execution_count": 24,
   "id": "fce27fca-68d7-4fe8-85d2-39e31c247685",
   "metadata": {},
   "outputs": [
    {
     "data": {
      "text/plain": [
       "False"
      ]
     },
     "execution_count": 24,
     "metadata": {},
     "output_type": "execute_result"
    }
   ],
   "source": [
    "not True"
   ]
  },
  {
   "cell_type": "code",
   "execution_count": 25,
   "id": "67b2a296-1892-4565-aeaa-918edec5ea7c",
   "metadata": {},
   "outputs": [
    {
     "data": {
      "text/plain": [
       "True"
      ]
     },
     "execution_count": 25,
     "metadata": {},
     "output_type": "execute_result"
    }
   ],
   "source": [
    "x = 4 \n",
    "(x < 6) and (x > 2) "
   ]
  },
  {
   "cell_type": "code",
   "execution_count": 27,
   "id": "6953cfc7-b15b-4bf6-92f7-63523a78b1b7",
   "metadata": {},
   "outputs": [],
   "source": [
    "#Identity and Membership Operators (is, is not, in, not in) "
   ]
  },
  {
   "cell_type": "code",
   "execution_count": 31,
   "id": "890d6a8d-4b20-4139-8fb1-96ac6e1d42d0",
   "metadata": {},
   "outputs": [
    {
     "name": "stdout",
     "output_type": "stream",
     "text": [
      "True\n",
      "False\n",
      "True\n"
     ]
    }
   ],
   "source": [
    "#a and b are pointing to different objects and are thus not identical\n",
    "a = [1,2,3]; b = [1,2,3]\n",
    "print(a == b)\n",
    "print(a is b)\n",
    "print(a is not b)"
   ]
  },
  {
   "cell_type": "code",
   "execution_count": 33,
   "id": "e8482a37-6158-4616-a3f6-478cc8e81576",
   "metadata": {},
   "outputs": [
    {
     "name": "stdout",
     "output_type": "stream",
     "text": [
      "True\n"
     ]
    }
   ],
   "source": [
    "#Identical Objects (a and b are now pointing to the same objects)\n",
    "a = [1,2,3]; b = a \n",
    "print(a is b) "
   ]
  },
  {
   "cell_type": "code",
   "execution_count": 34,
   "id": "90b3c9e4-9571-4286-9100-5cdfdf0f0309",
   "metadata": {},
   "outputs": [
    {
     "data": {
      "text/plain": [
       "True"
      ]
     },
     "execution_count": 34,
     "metadata": {},
     "output_type": "execute_result"
    }
   ],
   "source": [
    "1 in [1,2,3]"
   ]
  },
  {
   "cell_type": "code",
   "execution_count": 35,
   "id": "d05bb072-6cd5-4123-84da-9fbf030ca3d8",
   "metadata": {},
   "outputs": [
    {
     "data": {
      "text/plain": [
       "False"
      ]
     },
     "execution_count": 35,
     "metadata": {},
     "output_type": "execute_result"
    }
   ],
   "source": [
    "2 not in [1,2,3]"
   ]
  },
  {
   "cell_type": "code",
   "execution_count": 36,
   "id": "0a1b70ac-aab0-49a0-a22f-53c70d6cdd9c",
   "metadata": {},
   "outputs": [
    {
     "name": "stdout",
     "output_type": "stream",
     "text": [
      "True\n",
      "False\n"
     ]
    }
   ],
   "source": [
    "str1 = 'Hello world!'\n",
    "print('o' in str1)\n",
    "print('z' in str1)"
   ]
  },
  {
   "cell_type": "code",
   "execution_count": 37,
   "id": "5b2ec9a9-ed6d-4d7a-879e-003694a396e4",
   "metadata": {},
   "outputs": [],
   "source": [
    "#Introduction to Types "
   ]
  },
  {
   "cell_type": "code",
   "execution_count": null,
   "id": "08508855-e098-4893-ad55-edae3b16f84f",
   "metadata": {},
   "outputs": [],
   "source": [
    "#Scalar Types \n",
    "#int x = 1\n",
    "#float x = 1.0\n",
    "#comples x = 1 + 2j\n",
    "#bool x = True \n",
    "#str x = 'abc'\n",
    "#NoneType = x = None "
   ]
  },
  {
   "cell_type": "code",
   "execution_count": 44,
   "id": "380f46d6-92bb-416e-916d-52de592a4544",
   "metadata": {},
   "outputs": [
    {
     "data": {
      "text/plain": [
       "int"
      ]
     },
     "execution_count": 44,
     "metadata": {},
     "output_type": "execute_result"
    }
   ],
   "source": [
    "x = 1; type(x)"
   ]
  },
  {
   "cell_type": "code",
   "execution_count": 47,
   "id": "b89d6499-985e-42e8-8d64-cb3d153ea8a1",
   "metadata": {},
   "outputs": [
    {
     "ename": "AttributeError",
     "evalue": "'int' object has no attribute 'is_integer'",
     "output_type": "error",
     "traceback": [
      "\u001b[0;31m---------------------------------------------------------------------------\u001b[0m",
      "\u001b[0;31mAttributeError\u001b[0m                            Traceback (most recent call last)",
      "\u001b[0;32m/tmp/ipykernel_12777/3519611363.py\u001b[0m in \u001b[0;36m<module>\u001b[0;34m\u001b[0m\n\u001b[0;32m----> 1\u001b[0;31m \u001b[0mx\u001b[0m\u001b[0;34m.\u001b[0m\u001b[0mis_integer\u001b[0m\u001b[0;34m(\u001b[0m\u001b[0;34m)\u001b[0m\u001b[0;34m\u001b[0m\u001b[0;34m\u001b[0m\u001b[0m\n\u001b[0m",
      "\u001b[0;31mAttributeError\u001b[0m: 'int' object has no attribute 'is_integer'"
     ]
    }
   ],
   "source": [
    "x.is_integer()"
   ]
  },
  {
   "cell_type": "code",
   "execution_count": 39,
   "id": "37fcce6d-b12c-498f-bc5f-37635634880e",
   "metadata": {},
   "outputs": [
    {
     "data": {
      "text/plain": [
       "float"
      ]
     },
     "execution_count": 39,
     "metadata": {},
     "output_type": "execute_result"
    }
   ],
   "source": [
    "x = 5 / 2; type(x)"
   ]
  },
  {
   "cell_type": "code",
   "execution_count": 41,
   "id": "1311235f-f310-48a9-8fde-43a0b320909a",
   "metadata": {},
   "outputs": [
    {
     "name": "stdout",
     "output_type": "stream",
     "text": [
      "5e-06\n"
     ]
    },
    {
     "data": {
      "text/plain": [
       "float"
      ]
     },
     "execution_count": 41,
     "metadata": {},
     "output_type": "execute_result"
    }
   ],
   "source": [
    "y = 5e-6\n",
    "print(y)\n",
    "type(y)"
   ]
  },
  {
   "cell_type": "code",
   "execution_count": 48,
   "id": "0b08ea6b-f207-467b-953b-e34c0cb7a510",
   "metadata": {},
   "outputs": [
    {
     "data": {
      "text/plain": [
       "(1+2j)"
      ]
     },
     "execution_count": 48,
     "metadata": {},
     "output_type": "execute_result"
    }
   ],
   "source": [
    "complex(1,2)"
   ]
  },
  {
   "cell_type": "code",
   "execution_count": 49,
   "id": "c5aefe1d-057a-43f3-8912-491e22914662",
   "metadata": {},
   "outputs": [],
   "source": [
    "message = 'what do you like'\n",
    "response = 'watches' "
   ]
  },
  {
   "cell_type": "code",
   "execution_count": 50,
   "id": "95b1247a-161d-4e93-af51-0f71c48392be",
   "metadata": {},
   "outputs": [
    {
     "data": {
      "text/plain": [
       "7"
      ]
     },
     "execution_count": 50,
     "metadata": {},
     "output_type": "execute_result"
    }
   ],
   "source": [
    "len(response)"
   ]
  },
  {
   "cell_type": "code",
   "execution_count": 51,
   "id": "77f89229-19e8-46b2-9fc1-77d1e122fc1a",
   "metadata": {},
   "outputs": [
    {
     "data": {
      "text/plain": [
       "'WATCHES'"
      ]
     },
     "execution_count": 51,
     "metadata": {},
     "output_type": "execute_result"
    }
   ],
   "source": [
    "response.upper()"
   ]
  },
  {
   "cell_type": "code",
   "execution_count": 52,
   "id": "480bcc20-8260-483f-9485-a2ad22690102",
   "metadata": {},
   "outputs": [
    {
     "data": {
      "text/plain": [
       "'What do you like'"
      ]
     },
     "execution_count": 52,
     "metadata": {},
     "output_type": "execute_result"
    }
   ],
   "source": [
    "message.capitalize()"
   ]
  },
  {
   "cell_type": "code",
   "execution_count": 57,
   "id": "be445fdd-f8ac-4361-a39a-c5c170355279",
   "metadata": {},
   "outputs": [
    {
     "data": {
      "text/plain": [
       "'What do you like? Watches.'"
      ]
     },
     "execution_count": 57,
     "metadata": {},
     "output_type": "execute_result"
    }
   ],
   "source": [
    "message.capitalize() + '? ' + response.capitalize() + '.'"
   ]
  },
  {
   "cell_type": "code",
   "execution_count": 59,
   "id": "ea0ce6d1-9225-40f8-9f81-dd559c81b25f",
   "metadata": {},
   "outputs": [
    {
     "data": {
      "text/plain": [
       "'watches watches watches watches watches '"
      ]
     },
     "execution_count": 59,
     "metadata": {},
     "output_type": "execute_result"
    }
   ],
   "source": [
    "5 * (response + ' ')"
   ]
  },
  {
   "cell_type": "code",
   "execution_count": 60,
   "id": "3bcf9cea-91fc-4faa-9d28-76c31de151d7",
   "metadata": {},
   "outputs": [
    {
     "data": {
      "text/plain": [
       "'w'"
      ]
     },
     "execution_count": 60,
     "metadata": {},
     "output_type": "execute_result"
    }
   ],
   "source": [
    "message[0]"
   ]
  },
  {
   "cell_type": "code",
   "execution_count": 61,
   "id": "8f3524d1-9a38-4247-a02d-9fb70b7b7b65",
   "metadata": {},
   "outputs": [
    {
     "data": {
      "text/plain": [
       "NoneType"
      ]
     },
     "execution_count": 61,
     "metadata": {},
     "output_type": "execute_result"
    }
   ],
   "source": [
    "type(None)"
   ]
  },
  {
   "cell_type": "code",
   "execution_count": 64,
   "id": "5d9649cb-8eca-4031-bb3e-226d369e1ef0",
   "metadata": {},
   "outputs": [
    {
     "name": "stdout",
     "output_type": "stream",
     "text": [
      "True\n"
     ]
    },
    {
     "data": {
      "text/plain": [
       "bool"
      ]
     },
     "execution_count": 64,
     "metadata": {},
     "output_type": "execute_result"
    }
   ],
   "source": [
    "result = (4 < 5) \n",
    "print(result)\n",
    "type(result)"
   ]
  },
  {
   "cell_type": "code",
   "execution_count": 65,
   "id": "95e75d86-8d45-48c7-9755-7af2aaf9670d",
   "metadata": {},
   "outputs": [
    {
     "data": {
      "text/plain": [
       "True"
      ]
     },
     "execution_count": 65,
     "metadata": {},
     "output_type": "execute_result"
    }
   ],
   "source": [
    "bool(2014)"
   ]
  },
  {
   "cell_type": "code",
   "execution_count": 67,
   "id": "1482388c-56c2-4536-a879-8b6af3e1fbdd",
   "metadata": {},
   "outputs": [
    {
     "data": {
      "text/plain": [
       "False"
      ]
     },
     "execution_count": 67,
     "metadata": {},
     "output_type": "execute_result"
    }
   ],
   "source": [
    "#any numeric type is False if equal to zero and True otherwise \n",
    "bool(0)"
   ]
  },
  {
   "cell_type": "code",
   "execution_count": 68,
   "id": "c5aab547-7720-4015-bf1a-1bba552912b3",
   "metadata": {},
   "outputs": [
    {
     "data": {
      "text/plain": [
       "False"
      ]
     },
     "execution_count": 68,
     "metadata": {},
     "output_type": "execute_result"
    }
   ],
   "source": [
    "bool(\"\")"
   ]
  },
  {
   "cell_type": "code",
   "execution_count": 69,
   "id": "0ecf5ec3-010c-4deb-9871-2aef96545fe1",
   "metadata": {},
   "outputs": [
    {
     "data": {
      "text/plain": [
       "True"
      ]
     },
     "execution_count": 69,
     "metadata": {},
     "output_type": "execute_result"
    }
   ],
   "source": [
    "bool('abc')"
   ]
  },
  {
   "cell_type": "code",
   "execution_count": 70,
   "id": "3e275f7b-8f61-4502-8b77-269f6d83b02c",
   "metadata": {},
   "outputs": [
    {
     "data": {
      "text/plain": [
       "True"
      ]
     },
     "execution_count": 70,
     "metadata": {},
     "output_type": "execute_result"
    }
   ],
   "source": [
    "bool([1,2,3])"
   ]
  },
  {
   "cell_type": "code",
   "execution_count": 75,
   "id": "234b0a10-a7ad-404a-8be1-c1bc2048d262",
   "metadata": {},
   "outputs": [
    {
     "name": "stdout",
     "output_type": "stream",
     "text": [
      "Enter something.\n"
     ]
    },
    {
     "name": "stdin",
     "output_type": "stream",
     "text": [
      " \n"
     ]
    },
    {
     "name": "stdout",
     "output_type": "stream",
     "text": [
      "Why won't you talk to me?\n"
     ]
    }
   ],
   "source": [
    "print('Enter something.')\n",
    "x = input()\n",
    "if len(x) > 0:\n",
    "    print('Thank you for speaking to me.')\n",
    "else: \n",
    "    print(\"Why won't you talk to me?\")"
   ]
  },
  {
   "cell_type": "code",
   "execution_count": 1,
   "id": "eb7804db-673b-4bf2-ad8b-f68716ae74e1",
   "metadata": {},
   "outputs": [],
   "source": [
    "#6. String Manipulation "
   ]
  },
  {
   "cell_type": "code",
   "execution_count": 3,
   "id": "c1a6bdb0-d8b5-46d4-8a5a-5249e6ebe59b",
   "metadata": {},
   "outputs": [
    {
     "name": "stdout",
     "output_type": "stream",
     "text": [
      "\n",
      "one \n",
      "two\n",
      "three\n",
      "\n"
     ]
    }
   ],
   "source": [
    "#multiline string \n",
    "multiline = \"\"\"\n",
    "one \n",
    "two\n",
    "three\n",
    "\"\"\"\n",
    "print(multiline)"
   ]
  },
  {
   "cell_type": "code",
   "execution_count": null,
   "id": "4c9e070d-b0b6-45c3-956b-ff17a3fba590",
   "metadata": {},
   "outputs": [],
   "source": [
    "#Adjusting cases: upper(), Lower(), capitalize(), title(), swapcase()"
   ]
  },
  {
   "cell_type": "code",
   "execution_count": 4,
   "id": "7785f633-ba4c-4b8a-a851-9bcb05af6059",
   "metadata": {},
   "outputs": [],
   "source": [
    "fox = \"tHe QuIcK bRoWn FoX.\""
   ]
  },
  {
   "cell_type": "code",
   "execution_count": 7,
   "id": "0bd1f78e-ccf6-4cd4-a884-80857104d2f2",
   "metadata": {},
   "outputs": [
    {
     "name": "stdout",
     "output_type": "stream",
     "text": [
      "THE QUICK BROWN FOX.\n",
      "the quick brown fox.\n",
      "The quick brown fox.\n",
      "ThE qUiCk BrOwN fOx.\n"
     ]
    }
   ],
   "source": [
    "print(fox.upper())\n",
    "print(fox.lower())\n",
    "print(fox.capitalize())\n",
    "print(fox.swapcase())"
   ]
  },
  {
   "cell_type": "code",
   "execution_count": 8,
   "id": "d347934c-6435-43c0-a51f-198deef1cc91",
   "metadata": {},
   "outputs": [],
   "source": [
    "#Adding and removing spaces"
   ]
  },
  {
   "cell_type": "code",
   "execution_count": 9,
   "id": "d0a5760f-8468-42ea-bb58-8b56371c6714",
   "metadata": {},
   "outputs": [
    {
     "data": {
      "text/plain": [
       "'this is the content'"
      ]
     },
     "execution_count": 9,
     "metadata": {},
     "output_type": "execute_result"
    }
   ],
   "source": [
    "line = \"                 this is the content                  \"\n",
    "line.strip()"
   ]
  },
  {
   "cell_type": "code",
   "execution_count": 10,
   "id": "4de2f7a1-f820-49fe-893c-f052de41fd66",
   "metadata": {},
   "outputs": [
    {
     "data": {
      "text/plain": [
       "'435'"
      ]
     },
     "execution_count": 10,
     "metadata": {},
     "output_type": "execute_result"
    }
   ],
   "source": [
    "num = \"0000000000000000435\"\n",
    "num.strip('0')"
   ]
  },
  {
   "cell_type": "code",
   "execution_count": 11,
   "id": "e5ea4177-b5c4-4b9c-85c9-1d24cb2e60ab",
   "metadata": {},
   "outputs": [
    {
     "data": {
      "text/plain": [
       "'43500'"
      ]
     },
     "execution_count": 11,
     "metadata": {},
     "output_type": "execute_result"
    }
   ],
   "source": [
    "num = \"000000000000000043500\"\n",
    "num.lstrip('0')"
   ]
  },
  {
   "cell_type": "code",
   "execution_count": 12,
   "id": "00683fc1-766d-4588-8daa-09ffb3335328",
   "metadata": {},
   "outputs": [],
   "source": [
    "#Finding and replacing substrings "
   ]
  },
  {
   "cell_type": "code",
   "execution_count": 14,
   "id": "b904685b-c2d4-4962-bf0f-d1f96232b302",
   "metadata": {},
   "outputs": [
    {
     "name": "stdout",
     "output_type": "stream",
     "text": [
      "16\n",
      "16\n"
     ]
    }
   ],
   "source": [
    "line = \"the quick brown fox jumps over the lazy dog\"\n",
    "print(line.find('fox'))\n",
    "print(line.index('fox'))"
   ]
  },
  {
   "cell_type": "code",
   "execution_count": 16,
   "id": "8d295604-1169-4286-a9d8-d0675e5a6f72",
   "metadata": {},
   "outputs": [
    {
     "name": "stdout",
     "output_type": "stream",
     "text": [
      "-1\n"
     ]
    },
    {
     "ename": "ValueError",
     "evalue": "substring not found",
     "output_type": "error",
     "traceback": [
      "\u001b[0;31m---------------------------------------------------------------------------\u001b[0m",
      "\u001b[0;31mValueError\u001b[0m                                Traceback (most recent call last)",
      "\u001b[0;32m/tmp/ipykernel_14378/2453982091.py\u001b[0m in \u001b[0;36m<module>\u001b[0;34m\u001b[0m\n\u001b[1;32m      1\u001b[0m \u001b[0;31m#The only difference between find and index is their behavior when the search string isn't found\u001b[0m\u001b[0;34m\u001b[0m\u001b[0;34m\u001b[0m\u001b[0m\n\u001b[1;32m      2\u001b[0m \u001b[0mprint\u001b[0m\u001b[0;34m(\u001b[0m\u001b[0mline\u001b[0m\u001b[0;34m.\u001b[0m\u001b[0mfind\u001b[0m\u001b[0;34m(\u001b[0m\u001b[0;34m'bear'\u001b[0m\u001b[0;34m)\u001b[0m\u001b[0;34m)\u001b[0m\u001b[0;34m\u001b[0m\u001b[0;34m\u001b[0m\u001b[0m\n\u001b[0;32m----> 3\u001b[0;31m \u001b[0mprint\u001b[0m\u001b[0;34m(\u001b[0m\u001b[0mline\u001b[0m\u001b[0;34m.\u001b[0m\u001b[0mindex\u001b[0m\u001b[0;34m(\u001b[0m\u001b[0;34m'bear'\u001b[0m\u001b[0;34m)\u001b[0m\u001b[0;34m)\u001b[0m\u001b[0;34m\u001b[0m\u001b[0;34m\u001b[0m\u001b[0m\n\u001b[0m",
      "\u001b[0;31mValueError\u001b[0m: substring not found"
     ]
    }
   ],
   "source": [
    "#The only difference between find and index is their behavior when the search string isn't found \n",
    "print(line.find('bear'))\n",
    "print(line.index('bear'))"
   ]
  },
  {
   "cell_type": "code",
   "execution_count": 17,
   "id": "b0a954cc-281c-4b28-a6a0-0d2d747e9061",
   "metadata": {},
   "outputs": [
    {
     "name": "stdout",
     "output_type": "stream",
     "text": [
      "True\n",
      "False\n"
     ]
    }
   ],
   "source": [
    "print(line.endswith('dog'))\n",
    "print(line.startswith('fox'))"
   ]
  },
  {
   "cell_type": "code",
   "execution_count": 18,
   "id": "832d0930-c509-4e54-b064-02c466b65ea6",
   "metadata": {},
   "outputs": [
    {
     "data": {
      "text/plain": [
       "'the quick red fox jumps over the lazy dog'"
      ]
     },
     "execution_count": 18,
     "metadata": {},
     "output_type": "execute_result"
    }
   ],
   "source": [
    "line.replace('brown', 'red')"
   ]
  },
  {
   "cell_type": "code",
   "execution_count": 19,
   "id": "df948df9-6d31-48d3-b4e6-b1a8b9ad282b",
   "metadata": {},
   "outputs": [
    {
     "data": {
      "text/plain": [
       "'the quick br--wn f--x jumps --ver the lazy d--g'"
      ]
     },
     "execution_count": 19,
     "metadata": {},
     "output_type": "execute_result"
    }
   ],
   "source": [
    "line.replace('o', '--')"
   ]
  },
  {
   "cell_type": "code",
   "execution_count": 20,
   "id": "e9dd7786-d691-4298-b0b3-68454015abcc",
   "metadata": {},
   "outputs": [],
   "source": [
    "#Splitting and partitioning "
   ]
  },
  {
   "cell_type": "code",
   "execution_count": 21,
   "id": "631b876e-58ff-4ab4-abc4-733a5e8129e0",
   "metadata": {},
   "outputs": [
    {
     "name": "stdout",
     "output_type": "stream",
     "text": [
      "the quick brown fox jumps over the lazy dog\n",
      "['the', 'quick', 'brown', 'fox', 'jumps', 'over', 'the', 'lazy', 'dog']\n",
      "['the quick br', 'wn f', 'x jumps ', 'ver the lazy d', 'g']\n"
     ]
    }
   ],
   "source": [
    "print(line)\n",
    "print(line.split())\n",
    "print(line.split('o'))"
   ]
  },
  {
   "cell_type": "code",
   "execution_count": 22,
   "id": "e0c82bc6-2271-412b-907b-f5199f27c58b",
   "metadata": {},
   "outputs": [
    {
     "data": {
      "text/plain": [
       "['2020', '04', '09']"
      ]
     },
     "execution_count": 22,
     "metadata": {},
     "output_type": "execute_result"
    }
   ],
   "source": [
    "'2020-04-09'.split('-')"
   ]
  },
  {
   "cell_type": "code",
   "execution_count": 24,
   "id": "921eac43-e5b0-4aa2-93c9-4c85c811f87b",
   "metadata": {},
   "outputs": [
    {
     "name": "stdout",
     "output_type": "stream",
     "text": [
      "\n",
      "one \n",
      "two\n",
      "three\n",
      "\n",
      "['', 'one ', 'two', 'three']\n"
     ]
    }
   ],
   "source": [
    "print(multiline)\n",
    "print(multiline.splitlines())"
   ]
  },
  {
   "cell_type": "code",
   "execution_count": 25,
   "id": "bad92421-33f4-43e3-bb59-2ecf9ffe1ba2",
   "metadata": {},
   "outputs": [
    {
     "data": {
      "text/plain": [
       "'1--2--3'"
      ]
     },
     "execution_count": 25,
     "metadata": {},
     "output_type": "execute_result"
    }
   ],
   "source": [
    "'--'.join(['1','2','3'])"
   ]
  },
  {
   "cell_type": "code",
   "execution_count": 27,
   "id": "3947413b-34b4-4b87-a80a-0d576e520643",
   "metadata": {},
   "outputs": [
    {
     "name": "stdout",
     "output_type": "stream",
     "text": [
      "one\n",
      "two\n",
      "three\n"
     ]
    }
   ],
   "source": [
    "#Using the special character \"\\n\" (newline) to join together strings into lines \n",
    "print(\"\\n\".join(['one','two','three']))"
   ]
  },
  {
   "cell_type": "code",
   "execution_count": 28,
   "id": "eaefcb2b-88b6-4a2b-9ace-0a7783c7bd10",
   "metadata": {},
   "outputs": [],
   "source": [
    "#Formatting strings "
   ]
  },
  {
   "cell_type": "code",
   "execution_count": 29,
   "id": "7826b083-5a59-463a-aad9-d62fc5f7feea",
   "metadata": {},
   "outputs": [
    {
     "data": {
      "text/plain": [
       "'3.14159'"
      ]
     },
     "execution_count": 29,
     "metadata": {},
     "output_type": "execute_result"
    }
   ],
   "source": [
    "pi = 3.14159\n",
    "str(pi)"
   ]
  },
  {
   "cell_type": "code",
   "execution_count": 31,
   "id": "a5cef4e4-7dc4-4491-95bc-65ac1165640f",
   "metadata": {},
   "outputs": [
    {
     "data": {
      "text/plain": [
       "'The value of pi is 3.14159.'"
      ]
     },
     "execution_count": 31,
     "metadata": {},
     "output_type": "execute_result"
    }
   ],
   "source": [
    "\"The value of pi is \" + str(pi) + \".\""
   ]
  },
  {
   "cell_type": "code",
   "execution_count": 32,
   "id": "dba875cc-0338-4089-92de-9b710d791c87",
   "metadata": {},
   "outputs": [
    {
     "data": {
      "text/plain": [
       "'The value of pi is 3.14159'"
      ]
     },
     "execution_count": 32,
     "metadata": {},
     "output_type": "execute_result"
    }
   ],
   "source": [
    "#Using format strings (strings with special markers into which string-formatted values will be inserted)\n",
    "\"The value of pi is {0}\".format(pi)"
   ]
  },
  {
   "cell_type": "code",
   "execution_count": 33,
   "id": "15af725e-c7a9-47aa-9cc7-b7e9344b739b",
   "metadata": {},
   "outputs": [
    {
     "data": {
      "text/plain": [
       "'The value of pi is 3.14159'"
      ]
     },
     "execution_count": 33,
     "metadata": {},
     "output_type": "execute_result"
    }
   ],
   "source": [
    "f\"The value of pi is {pi}\""
   ]
  },
  {
   "cell_type": "code",
   "execution_count": 34,
   "id": "999eb6bc-a416-4bef-88d9-a90dc68006f9",
   "metadata": {},
   "outputs": [
    {
     "data": {
      "text/plain": [
       "'The value of pi is 3.142'"
      ]
     },
     "execution_count": 34,
     "metadata": {},
     "output_type": "execute_result"
    }
   ],
   "source": [
    "\"The value of pi is {0:.3f}\".format(pi)"
   ]
  },
  {
   "cell_type": "code",
   "execution_count": 35,
   "id": "95089766-110b-4fd5-a171-a104dfd9abf7",
   "metadata": {},
   "outputs": [
    {
     "data": {
      "text/plain": [
       "'The value of pi is 3.142'"
      ]
     },
     "execution_count": 35,
     "metadata": {},
     "output_type": "execute_result"
    }
   ],
   "source": [
    "f\"The value of pi is {pi:.3f}\""
   ]
  },
  {
   "cell_type": "code",
   "execution_count": 1,
   "id": "bb51564d-95ef-43d0-a55d-45e4fac4f577",
   "metadata": {},
   "outputs": [],
   "source": [
    "#7. Introduction to Control Flow "
   ]
  },
  {
   "cell_type": "code",
   "execution_count": null,
   "id": "38273966-cf54-4002-a5b3-255c1a049820",
   "metadata": {},
   "outputs": [],
   "source": [
    "#Conditional Statements: if, elif, and else "
   ]
  },
  {
   "cell_type": "code",
   "execution_count": 12,
   "id": "713b9c9c-8c88-4c3f-a741-e10f67b97d18",
   "metadata": {},
   "outputs": [
    {
     "name": "stdin",
     "output_type": "stream",
     "text": [
      " wtf\n"
     ]
    },
    {
     "name": "stdout",
     "output_type": "stream",
     "text": [
      "wtf is unlike anything I've ever seen\n"
     ]
    }
   ],
   "source": [
    "#Basic Example \n",
    "x = input()\n",
    "\n",
    "try:\n",
    "    if int(x) == 0:\n",
    "        print(x, 'is zero')\n",
    "    elif int(x) > 0: \n",
    "        print(x, 'is positive')\n",
    "    elif int(x) < 0:\n",
    "        print(x, 'is negative') \n",
    "except:\n",
    "    print(x, \"is unlike anything I've ever seen\")"
   ]
  },
  {
   "cell_type": "code",
   "execution_count": 14,
   "id": "c659fce3-8927-4249-b95e-87177d5c61fb",
   "metadata": {},
   "outputs": [
    {
     "name": "stdout",
     "output_type": "stream",
     "text": [
      "2 3 5 7 "
     ]
    }
   ],
   "source": [
    "#for loops \n",
    "for i in [2,3,5,7]:\n",
    "    print(i, end = ' ')"
   ]
  },
  {
   "cell_type": "code",
   "execution_count": 15,
   "id": "38c755f7-d243-4b89-9e9c-d5751a5c4347",
   "metadata": {},
   "outputs": [
    {
     "name": "stdout",
     "output_type": "stream",
     "text": [
      "0 1 2 3 4 5 6 7 8 9 "
     ]
    }
   ],
   "source": [
    "for i in range(10):\n",
    "    print(i, end = ' ')"
   ]
  },
  {
   "cell_type": "code",
   "execution_count": 18,
   "id": "f3b09edb-aca1-42b1-9e3f-0105967d3643",
   "metadata": {},
   "outputs": [
    {
     "name": "stdout",
     "output_type": "stream",
     "text": [
      "[5, 6, 7, 8, 9]\n",
      "[0, 2, 4, 6, 8]\n"
     ]
    }
   ],
   "source": [
    "print(list(range(5,10)))\n",
    "print(list(range(0,10,2)))"
   ]
  },
  {
   "cell_type": "code",
   "execution_count": 19,
   "id": "edf67cf9-567d-4737-a079-2ce3fd6b7a6f",
   "metadata": {},
   "outputs": [
    {
     "name": "stdout",
     "output_type": "stream",
     "text": [
      "0 1 2 3 4 5 6 7 8 9 "
     ]
    }
   ],
   "source": [
    "#while loops; loops until the while statement evaluates to False \n",
    "i = 0 \n",
    "while i < 10:\n",
    "    print(i, end = ' ')\n",
    "    i +=1"
   ]
  },
  {
   "cell_type": "code",
   "execution_count": 21,
   "id": "736da187-3e11-407e-8d52-2b6721038c00",
   "metadata": {},
   "outputs": [
    {
     "name": "stdout",
     "output_type": "stream",
     "text": [
      "1 3 5 7 9 11 13 15 17 19 "
     ]
    }
   ],
   "source": [
    "#break: statement breaks out of the loop entirely \n",
    "#continue: statement skips the remainder of the current loop and goes to the next iteration \n",
    "\n",
    "#if the remainder of i / 2 is 0, then skip the rest of the loop \n",
    "for i in range (20):\n",
    "    if i % 2 == 0:\n",
    "        continue \n",
    "    print(i, end = ' ')"
   ]
  },
  {
   "cell_type": "code",
   "execution_count": 22,
   "id": "5899e412-19ec-486c-8c6c-834751fba094",
   "metadata": {},
   "outputs": [
    {
     "name": "stdout",
     "output_type": "stream",
     "text": [
      "[1, 1, 2, 3, 5, 8, 13, 21, 34, 55, 89]\n"
     ]
    }
   ],
   "source": [
    "a, b = 0, 1 \n",
    "amax = 100 \n",
    "L = []\n",
    "\n",
    "while True:\n",
    "    (a, b) = (b, a + b)\n",
    "    if a > amax:\n",
    "        break\n",
    "    L.append(a)\n",
    "print(L)"
   ]
  },
  {
   "cell_type": "code",
   "execution_count": 23,
   "id": "45ceee7f-a805-4a6f-8353-ee8a1f0677b0",
   "metadata": {},
   "outputs": [
    {
     "name": "stdout",
     "output_type": "stream",
     "text": [
      "this one gets executed first\n"
     ]
    }
   ],
   "source": [
    "#errors and exceptions \n",
    "try: \n",
    "    print('this one gets executed first')\n",
    "except:\n",
    "    print('this one gets executed only if there is an error')"
   ]
  },
  {
   "cell_type": "code",
   "execution_count": 25,
   "id": "15ef5d73-7964-4493-b688-b7bccc1e5499",
   "metadata": {},
   "outputs": [
    {
     "name": "stdin",
     "output_type": "stream",
     "text": [
      " 40\n",
      " 0\n"
     ]
    },
    {
     "ename": "ZeroDivisionError",
     "evalue": "float division by zero",
     "output_type": "error",
     "traceback": [
      "\u001b[0;31m---------------------------------------------------------------------------\u001b[0m",
      "\u001b[0;31mZeroDivisionError\u001b[0m                         Traceback (most recent call last)",
      "\u001b[0;32m/tmp/ipykernel_13346/2509007434.py\u001b[0m in \u001b[0;36m<module>\u001b[0;34m\u001b[0m\n\u001b[1;32m      2\u001b[0m \u001b[0mfirst\u001b[0m \u001b[0;34m=\u001b[0m \u001b[0minput\u001b[0m\u001b[0;34m(\u001b[0m\u001b[0;34m)\u001b[0m\u001b[0;34m\u001b[0m\u001b[0;34m\u001b[0m\u001b[0m\n\u001b[1;32m      3\u001b[0m \u001b[0msecond\u001b[0m \u001b[0;34m=\u001b[0m \u001b[0minput\u001b[0m\u001b[0;34m(\u001b[0m\u001b[0;34m)\u001b[0m\u001b[0;34m\u001b[0m\u001b[0;34m\u001b[0m\u001b[0m\n\u001b[0;32m----> 4\u001b[0;31m \u001b[0mres\u001b[0m \u001b[0;34m=\u001b[0m \u001b[0mfloat\u001b[0m\u001b[0;34m(\u001b[0m\u001b[0mfirst\u001b[0m\u001b[0;34m)\u001b[0m \u001b[0;34m/\u001b[0m \u001b[0mfloat\u001b[0m\u001b[0;34m(\u001b[0m\u001b[0msecond\u001b[0m\u001b[0;34m)\u001b[0m\u001b[0;34m\u001b[0m\u001b[0;34m\u001b[0m\u001b[0m\n\u001b[0m\u001b[1;32m      5\u001b[0m \u001b[0mprint\u001b[0m\u001b[0;34m(\u001b[0m\u001b[0;34mf\"{first}/{second}={res}\"\u001b[0m\u001b[0;34m)\u001b[0m\u001b[0;34m\u001b[0m\u001b[0;34m\u001b[0m\u001b[0m\n",
      "\u001b[0;31mZeroDivisionError\u001b[0m: float division by zero"
     ]
    }
   ],
   "source": [
    "#consider this code that reads two numbers and calculates their division\n",
    "first = input()\n",
    "second = input()\n",
    "res = float(first) / float(second)\n",
    "print(f\"{first}/{second}={res}\")"
   ]
  },
  {
   "cell_type": "code",
   "execution_count": 26,
   "id": "658401cf-513a-44c6-8332-3965146a468d",
   "metadata": {},
   "outputs": [
    {
     "name": "stdin",
     "output_type": "stream",
     "text": [
      " 40\n",
      " 0\n"
     ]
    },
    {
     "name": "stdout",
     "output_type": "stream",
     "text": [
      "Something went wrong, please try again\n"
     ]
    }
   ],
   "source": [
    "#catching the error from the edge case of dividing by zero or a letter \n",
    "first = input()\n",
    "second = input()\n",
    "try:\n",
    "    res = float(first) / float(second)\n",
    "    print(f\"{first}/{second}={res}\")\n",
    "except:\n",
    "    print('Something went wrong, please try again')"
   ]
  },
  {
   "cell_type": "code",
   "execution_count": 28,
   "id": "2dc90341-9c7c-46dd-883a-ccc591b9cb66",
   "metadata": {},
   "outputs": [
    {
     "name": "stdin",
     "output_type": "stream",
     "text": [
      " 40\n",
      " a\n"
     ]
    },
    {
     "name": "stdout",
     "output_type": "stream",
     "text": [
      "Only numerical values are allowed\n"
     ]
    }
   ],
   "source": [
    "#differentiating from multiple errors\n",
    "first = input()\n",
    "second = input()\n",
    "try:\n",
    "    res = float(first) / float(second)\n",
    "    print(f\"{first}/{second}={res}\")\n",
    "except ZeroDivisionError:\n",
    "    print('Cannot divide by zero')\n",
    "except ValueError:\n",
    "    print('Only numerical values are allowed')"
   ]
  },
  {
   "cell_type": "code",
   "execution_count": 29,
   "id": "c4d331fd-a0e0-4c25-a863-56e0f8aa8ba8",
   "metadata": {},
   "outputs": [
    {
     "name": "stdin",
     "output_type": "stream",
     "text": [
      " 40\n",
      " 0\n"
     ]
    },
    {
     "name": "stdout",
     "output_type": "stream",
     "text": [
      "Cannot divide by zero\n"
     ]
    },
    {
     "name": "stdin",
     "output_type": "stream",
     "text": [
      " 40\n",
      " a\n"
     ]
    },
    {
     "name": "stdout",
     "output_type": "stream",
     "text": [
      "Only numerical values are allowed\n"
     ]
    },
    {
     "name": "stdin",
     "output_type": "stream",
     "text": [
      " 40\n",
      " 8\n"
     ]
    },
    {
     "name": "stdout",
     "output_type": "stream",
     "text": [
      "40/8=5.0\n"
     ]
    },
    {
     "ename": "KeyboardInterrupt",
     "evalue": "Interrupted by user",
     "output_type": "error",
     "traceback": [
      "\u001b[0;31m---------------------------------------------------------------------------\u001b[0m",
      "\u001b[0;31mKeyboardInterrupt\u001b[0m                         Traceback (most recent call last)",
      "\u001b[0;32m/tmp/ipykernel_13346/3775022248.py\u001b[0m in \u001b[0;36m<module>\u001b[0;34m\u001b[0m\n\u001b[1;32m      1\u001b[0m \u001b[0;31m#keep trying until correct values are entered\u001b[0m\u001b[0;34m\u001b[0m\u001b[0;34m\u001b[0m\u001b[0m\n\u001b[1;32m      2\u001b[0m \u001b[0;32mwhile\u001b[0m \u001b[0;32mTrue\u001b[0m\u001b[0;34m:\u001b[0m\u001b[0;34m\u001b[0m\u001b[0;34m\u001b[0m\u001b[0m\n\u001b[0;32m----> 3\u001b[0;31m     \u001b[0mfirst\u001b[0m \u001b[0;34m=\u001b[0m \u001b[0minput\u001b[0m\u001b[0;34m(\u001b[0m\u001b[0;34m)\u001b[0m\u001b[0;34m\u001b[0m\u001b[0;34m\u001b[0m\u001b[0m\n\u001b[0m\u001b[1;32m      4\u001b[0m     \u001b[0msecond\u001b[0m \u001b[0;34m=\u001b[0m \u001b[0minput\u001b[0m\u001b[0;34m(\u001b[0m\u001b[0;34m)\u001b[0m\u001b[0;34m\u001b[0m\u001b[0;34m\u001b[0m\u001b[0m\n\u001b[1;32m      5\u001b[0m     \u001b[0;32mtry\u001b[0m\u001b[0;34m:\u001b[0m\u001b[0;34m\u001b[0m\u001b[0;34m\u001b[0m\u001b[0m\n",
      "\u001b[0;32m~/anaconda3/lib/python3.9/site-packages/ipykernel/kernelbase.py\u001b[0m in \u001b[0;36mraw_input\u001b[0;34m(self, prompt)\u001b[0m\n\u001b[1;32m   1004\u001b[0m                 \u001b[0;34m\"raw_input was called, but this frontend does not support input requests.\"\u001b[0m\u001b[0;34m\u001b[0m\u001b[0;34m\u001b[0m\u001b[0m\n\u001b[1;32m   1005\u001b[0m             )\n\u001b[0;32m-> 1006\u001b[0;31m         return self._input_request(\n\u001b[0m\u001b[1;32m   1007\u001b[0m             \u001b[0mstr\u001b[0m\u001b[0;34m(\u001b[0m\u001b[0mprompt\u001b[0m\u001b[0;34m)\u001b[0m\u001b[0;34m,\u001b[0m\u001b[0;34m\u001b[0m\u001b[0;34m\u001b[0m\u001b[0m\n\u001b[1;32m   1008\u001b[0m             \u001b[0mself\u001b[0m\u001b[0;34m.\u001b[0m\u001b[0m_parent_ident\u001b[0m\u001b[0;34m[\u001b[0m\u001b[0;34m\"shell\"\u001b[0m\u001b[0;34m]\u001b[0m\u001b[0;34m,\u001b[0m\u001b[0;34m\u001b[0m\u001b[0;34m\u001b[0m\u001b[0m\n",
      "\u001b[0;32m~/anaconda3/lib/python3.9/site-packages/ipykernel/kernelbase.py\u001b[0m in \u001b[0;36m_input_request\u001b[0;34m(self, prompt, ident, parent, password)\u001b[0m\n\u001b[1;32m   1049\u001b[0m             \u001b[0;32mexcept\u001b[0m \u001b[0mKeyboardInterrupt\u001b[0m\u001b[0;34m:\u001b[0m\u001b[0;34m\u001b[0m\u001b[0;34m\u001b[0m\u001b[0m\n\u001b[1;32m   1050\u001b[0m                 \u001b[0;31m# re-raise KeyboardInterrupt, to truncate traceback\u001b[0m\u001b[0;34m\u001b[0m\u001b[0;34m\u001b[0m\u001b[0m\n\u001b[0;32m-> 1051\u001b[0;31m                 \u001b[0;32mraise\u001b[0m \u001b[0mKeyboardInterrupt\u001b[0m\u001b[0;34m(\u001b[0m\u001b[0;34m\"Interrupted by user\"\u001b[0m\u001b[0;34m)\u001b[0m \u001b[0;32mfrom\u001b[0m \u001b[0;32mNone\u001b[0m\u001b[0;34m\u001b[0m\u001b[0;34m\u001b[0m\u001b[0m\n\u001b[0m\u001b[1;32m   1052\u001b[0m             \u001b[0;32mexcept\u001b[0m \u001b[0mException\u001b[0m\u001b[0;34m:\u001b[0m\u001b[0;34m\u001b[0m\u001b[0;34m\u001b[0m\u001b[0m\n\u001b[1;32m   1053\u001b[0m                 \u001b[0mself\u001b[0m\u001b[0;34m.\u001b[0m\u001b[0mlog\u001b[0m\u001b[0;34m.\u001b[0m\u001b[0mwarning\u001b[0m\u001b[0;34m(\u001b[0m\u001b[0;34m\"Invalid Message:\"\u001b[0m\u001b[0;34m,\u001b[0m \u001b[0mexc_info\u001b[0m\u001b[0;34m=\u001b[0m\u001b[0;32mTrue\u001b[0m\u001b[0;34m)\u001b[0m\u001b[0;34m\u001b[0m\u001b[0;34m\u001b[0m\u001b[0m\n",
      "\u001b[0;31mKeyboardInterrupt\u001b[0m: Interrupted by user"
     ]
    }
   ],
   "source": [
    "#keep trying until correct values are entered \n",
    "while True:\n",
    "    first = input()\n",
    "    second = input()\n",
    "    try:\n",
    "        res = float(first) / float(second)\n",
    "        print(f\"{first}/{second}={res}\")\n",
    "    except ZeroDivisionError:\n",
    "        print('Cannot divide by zero')\n",
    "    except ValueError:\n",
    "        print('Only numerical values are allowed')"
   ]
  },
  {
   "cell_type": "code",
   "execution_count": null,
   "id": "156e52ac-61cd-4969-89d9-0815035f3496",
   "metadata": {},
   "outputs": [],
   "source": [
    "#8. Defining and Using Functions "
   ]
  },
  {
   "cell_type": "code",
   "execution_count": 30,
   "id": "70a3d8e9-6790-431d-85ac-0ecb743d3eac",
   "metadata": {},
   "outputs": [
    {
     "name": "stdout",
     "output_type": "stream",
     "text": [
      "1--2--3\n"
     ]
    }
   ],
   "source": [
    "print(1,2,3, sep = '--')"
   ]
  },
  {
   "cell_type": "code",
   "execution_count": 31,
   "id": "f551c68f-7e7e-48fd-90b3-b65b5b953a34",
   "metadata": {},
   "outputs": [
    {
     "data": {
      "text/plain": [
       "8"
      ]
     },
     "execution_count": 31,
     "metadata": {},
     "output_type": "execute_result"
    }
   ],
   "source": [
    "def add(x, y):\n",
    "    return x + y \n",
    "\n",
    "add(3,5)"
   ]
  },
  {
   "cell_type": "code",
   "execution_count": 36,
   "id": "ef6fd26a-cf9c-42eb-a67b-9ccfec8b71fe",
   "metadata": {},
   "outputs": [
    {
     "name": "stdin",
     "output_type": "stream",
     "text": [
      " 7\n",
      " 8\n"
     ]
    },
    {
     "data": {
      "text/plain": [
       "15"
      ]
     },
     "execution_count": 36,
     "metadata": {},
     "output_type": "execute_result"
    }
   ],
   "source": [
    "def add(x, y):\n",
    "    return x + y \n",
    "\n",
    "add(int(input()),int(input()))"
   ]
  },
  {
   "cell_type": "code",
   "execution_count": 37,
   "id": "2feb30df-2a34-4efc-8b62-4668a2905037",
   "metadata": {},
   "outputs": [
    {
     "name": "stdin",
     "output_type": "stream",
     "text": [
      " 5\n",
      " 3\n"
     ]
    },
    {
     "data": {
      "text/plain": [
       "8"
      ]
     },
     "execution_count": 37,
     "metadata": {},
     "output_type": "execute_result"
    }
   ],
   "source": [
    "add = lambda x, y: x + y \n",
    "add(int(input()),int(input()))"
   ]
  },
  {
   "cell_type": "code",
   "execution_count": 42,
   "id": "4c65a870-feb5-43b0-bb7a-8a296dd83b0f",
   "metadata": {},
   "outputs": [
    {
     "data": {
      "text/plain": [
       "[1, 1, 2, 3, 5, 8, 13, 21, 34, 55]"
      ]
     },
     "execution_count": 42,
     "metadata": {},
     "output_type": "execute_result"
    }
   ],
   "source": [
    "#default argument values \n",
    "def fibonacci(i):\n",
    "    L = []\n",
    "    a, b = 0, 1 \n",
    "    while len(L) < i:\n",
    "        a, b = b, a + b \n",
    "        L.append(a)\n",
    "    return L\n",
    "\n",
    "fibonacci(10)"
   ]
  },
  {
   "cell_type": "code",
   "execution_count": 45,
   "id": "846f0f4a-b8f3-410e-9f12-753b14f8cfaa",
   "metadata": {},
   "outputs": [
    {
     "name": "stdout",
     "output_type": "stream",
     "text": [
      "[1, 1, 2, 3, 5, 8, 13, 21, 34, 55]\n"
     ]
    }
   ],
   "source": [
    "def fibonacci(i, a, b):\n",
    "    L = []\n",
    "    a, b = 0, 1 \n",
    "    while len(L) < i:\n",
    "        a, b = b, a + b \n",
    "        L.append(a)\n",
    "    return L\n",
    "\n",
    "print(fibonacci(10, 0, 2))"
   ]
  },
  {
   "cell_type": "code",
   "execution_count": 46,
   "id": "64052e07-2fbc-424f-9882-ba7a751333c5",
   "metadata": {},
   "outputs": [
    {
     "ename": "SyntaxError",
     "evalue": "unexpected EOF while parsing (2644715403.py, line 1)",
     "output_type": "error",
     "traceback": [
      "\u001b[0;36m  File \u001b[0;32m\"/tmp/ipykernel_13346/2644715403.py\"\u001b[0;36m, line \u001b[0;32m1\u001b[0m\n\u001b[0;31m    print(fibonacci(10)\u001b[0m\n\u001b[0m                       ^\u001b[0m\n\u001b[0;31mSyntaxError\u001b[0m\u001b[0;31m:\u001b[0m unexpected EOF while parsing\n"
     ]
    }
   ],
   "source": [
    "print(fibonacci(10)"
   ]
  },
  {
   "cell_type": "code",
   "execution_count": 47,
   "id": "46090eaa-f4f0-4c8d-90d5-c6c9e10be2e9",
   "metadata": {},
   "outputs": [
    {
     "data": {
      "text/plain": [
       "[1, 1, 2, 3, 5, 8, 13, 21, 34, 55]"
      ]
     },
     "execution_count": 47,
     "metadata": {},
     "output_type": "execute_result"
    }
   ],
   "source": [
    "def fibonacci(i, a=0, b=1):\n",
    "    L = []\n",
    "    a, b = 0, 1 \n",
    "    while len(L) < i:\n",
    "        a, b = b, a + b \n",
    "        L.append(a)\n",
    "    return L\n",
    "\n",
    "fibonacci(10)"
   ]
  },
  {
   "cell_type": "code",
   "execution_count": 49,
   "id": "00a36d85-09ab-40bf-926d-f918b5b74be9",
   "metadata": {},
   "outputs": [
    {
     "name": "stdout",
     "output_type": "stream",
     "text": [
      "[1, 1, 2, 3, 5, 8, 13, 21, 34, 55]\n",
      "[1, 1, 2, 3, 5, 8, 13, 21, 34, 55]\n"
     ]
    }
   ],
   "source": [
    "#flexible arguments \n",
    "print(fibonacci(10, b = 3, a = 1))\n",
    "print(fibonacci(b = 3, a = 1, i = 10))"
   ]
  },
  {
   "cell_type": "code",
   "execution_count": 50,
   "id": "c3bb61ae-9f3c-42e0-9d8a-4c667d216a93",
   "metadata": {},
   "outputs": [
    {
     "name": "stdout",
     "output_type": "stream",
     "text": [
      "args =  (1, 2, 3)\n",
      "kwargs =  {'a': 4, 'b': 5}\n"
     ]
    }
   ],
   "source": [
    "#*args and **kwargs \n",
    "\n",
    "def catch_all(*args, **kwargs):\n",
    "    print('args = ', args)\n",
    "    print('kwargs = ', kwargs)\n",
    "    \n",
    "catch_all(1,2,3, a= 4, b = 5)"
   ]
  },
  {
   "cell_type": "code",
   "execution_count": 52,
   "id": "7a4b772c-20b1-46e9-a23c-e44cf23f6c58",
   "metadata": {},
   "outputs": [
    {
     "name": "stdout",
     "output_type": "stream",
     "text": [
      "args =  ('a',)\n",
      "kwargs =  {'keyword': 2}\n"
     ]
    }
   ],
   "source": [
    "catch_all('a', keyword = 2)"
   ]
  },
  {
   "cell_type": "code",
   "execution_count": null,
   "id": "1e7421e7-2bdd-4af7-a805-1bbdd5f1dd48",
   "metadata": {},
   "outputs": [],
   "source": [
    "#9. Built-In Data Structures "
   ]
  },
  {
   "cell_type": "code",
   "execution_count": null,
   "id": "a669589a-7455-4f7d-a6a4-3bafc355c7a8",
   "metadata": {},
   "outputs": [],
   "source": [
    "#simple types: int, float, complex, bool, str "
   ]
  },
  {
   "cell_type": "code",
   "execution_count": null,
   "id": "49d79d57-05aa-4704-be91-6de0d50e079f",
   "metadata": {},
   "outputs": [],
   "source": [
    "#built in compound types: list [], tuple (), dict {'':}, set {}"
   ]
  },
  {
   "cell_type": "code",
   "execution_count": 3,
   "id": "66cce845-e3e3-4e98-a752-94c491beaeb6",
   "metadata": {},
   "outputs": [
    {
     "name": "stdout",
     "output_type": "stream",
     "text": [
      "<class 'list'>\n",
      "4\n"
     ]
    }
   ],
   "source": [
    "#list: ordered and mutable \n",
    "L = [1,2,3,4]\n",
    "print(type(L))\n",
    "print(len(L))"
   ]
  },
  {
   "cell_type": "code",
   "execution_count": 4,
   "id": "734075d7-2023-406c-9795-586800ed5846",
   "metadata": {},
   "outputs": [
    {
     "name": "stdout",
     "output_type": "stream",
     "text": [
      "[1, 2, 3, 4, 11]\n"
     ]
    }
   ],
   "source": [
    "L.append(11)\n",
    "print(L)"
   ]
  },
  {
   "cell_type": "code",
   "execution_count": 6,
   "id": "6df79435-f7f2-44cf-b49f-83872786aea5",
   "metadata": {},
   "outputs": [
    {
     "name": "stdout",
     "output_type": "stream",
     "text": [
      "[13, 14, 15, 1, 2, 3, 4, 11]\n"
     ]
    }
   ],
   "source": [
    "L2 = [13,14,15] + L\n",
    "print(L2)"
   ]
  },
  {
   "cell_type": "code",
   "execution_count": 7,
   "id": "63f58ff5-4823-4437-97ca-6c8597907b8e",
   "metadata": {},
   "outputs": [
    {
     "data": {
      "text/plain": [
       "[1, 2, 3, 4, 11, 13, 14, 15]"
      ]
     },
     "execution_count": 7,
     "metadata": {},
     "output_type": "execute_result"
    }
   ],
   "source": [
    "sorted(L2)"
   ]
  },
  {
   "cell_type": "code",
   "execution_count": 9,
   "id": "8042dfc2-a9da-4303-a36f-fadf6bc3e50a",
   "metadata": {},
   "outputs": [
    {
     "name": "stdout",
     "output_type": "stream",
     "text": [
      "[1, 2, 3, 4, 11]\n"
     ]
    }
   ],
   "source": [
    "L.sort()\n",
    "print(L)"
   ]
  },
  {
   "cell_type": "code",
   "execution_count": null,
   "id": "c106dbfa-c08d-49ce-b8da-8de5b11f8cc2",
   "metadata": {},
   "outputs": [],
   "source": [
    "#indexing and slicing "
   ]
  },
  {
   "cell_type": "code",
   "execution_count": 10,
   "id": "ff8baf0b-6c70-4ff0-91f1-769fbc0e2e58",
   "metadata": {},
   "outputs": [],
   "source": [
    "L = [2,3,5,7,11]"
   ]
  },
  {
   "cell_type": "code",
   "execution_count": 14,
   "id": "149f6f44-887a-446a-99bc-3a2c947864e3",
   "metadata": {},
   "outputs": [
    {
     "name": "stdout",
     "output_type": "stream",
     "text": [
      "2\n",
      "11\n",
      "11\n"
     ]
    }
   ],
   "source": [
    "print(L[0])\n",
    "print(L[4])\n",
    "print(L[-1])"
   ]
  },
  {
   "cell_type": "markdown",
   "id": "e304ee0c-3241-4a29-8340-ef3bc6519226",
   "metadata": {},
   "source": [
    "Indexing scheme visual:"
   ]
  },
  {
   "cell_type": "markdown",
   "id": "455f7481-8ce9-47ce-bc9d-29c9cfc140d3",
   "metadata": {},
   "source": [
    "![List Indexing Figure](https://github.com/jakevdp/WhirlwindTourOfPython/raw/master/fig/list-indexing.png)"
   ]
  },
  {
   "cell_type": "code",
   "execution_count": 15,
   "id": "ef16fd9f-cc35-43b5-a38f-1f836f29f3e7",
   "metadata": {},
   "outputs": [
    {
     "data": {
      "text/plain": [
       "[2, 3, 5]"
      ]
     },
     "execution_count": 15,
     "metadata": {},
     "output_type": "execute_result"
    }
   ],
   "source": [
    "L[0:3]"
   ]
  },
  {
   "cell_type": "code",
   "execution_count": 16,
   "id": "6a4c0086-764e-45a8-b60a-f2c075585eaa",
   "metadata": {},
   "outputs": [
    {
     "data": {
      "text/plain": [
       "[2, 3, 5]"
      ]
     },
     "execution_count": 16,
     "metadata": {},
     "output_type": "execute_result"
    }
   ],
   "source": [
    "L[:3]"
   ]
  },
  {
   "cell_type": "code",
   "execution_count": 17,
   "id": "1e315e35-bd41-4914-9d98-3c6773a709ad",
   "metadata": {},
   "outputs": [
    {
     "data": {
      "text/plain": [
       "[2, 5, 11]"
      ]
     },
     "execution_count": 17,
     "metadata": {},
     "output_type": "execute_result"
    }
   ],
   "source": [
    "L[::2]"
   ]
  },
  {
   "cell_type": "code",
   "execution_count": 18,
   "id": "24cdfbf8-618a-4a85-85c5-b5b4fe6639c9",
   "metadata": {},
   "outputs": [
    {
     "name": "stdout",
     "output_type": "stream",
     "text": [
      "[100, 3, 5, 7, 11]\n"
     ]
    }
   ],
   "source": [
    "L[0] = 100\n",
    "print(L)"
   ]
  },
  {
   "cell_type": "code",
   "execution_count": 19,
   "id": "a89c1cc8-f6b3-490c-8fd9-94087b7bf9e2",
   "metadata": {},
   "outputs": [
    {
     "name": "stdout",
     "output_type": "stream",
     "text": [
      "[100, 3, 55, 56, 7, 11]\n"
     ]
    }
   ],
   "source": [
    "L[2:3] = [55,56]\n",
    "print(L)"
   ]
  },
  {
   "cell_type": "code",
   "execution_count": null,
   "id": "00c1d7d5-01f0-4a2e-844a-26e867641177",
   "metadata": {},
   "outputs": [],
   "source": [
    "#tuples: defined with parantheses, is not mutable  "
   ]
  },
  {
   "cell_type": "code",
   "execution_count": 26,
   "id": "a7d1d959-6680-417d-b89b-547cf98aebc6",
   "metadata": {},
   "outputs": [
    {
     "data": {
      "text/plain": [
       "tuple"
      ]
     },
     "execution_count": 26,
     "metadata": {},
     "output_type": "execute_result"
    }
   ],
   "source": [
    "T = (1, 2, 3)\n",
    "type(T)"
   ]
  },
  {
   "cell_type": "code",
   "execution_count": 27,
   "id": "54bf114b-428e-4af2-bb57-cc8eb189fb10",
   "metadata": {},
   "outputs": [
    {
     "data": {
      "text/plain": [
       "3"
      ]
     },
     "execution_count": 27,
     "metadata": {},
     "output_type": "execute_result"
    }
   ],
   "source": [
    "len(T)"
   ]
  },
  {
   "cell_type": "code",
   "execution_count": 30,
   "id": "721173b1-fb9f-46c1-b39b-b81ca1889324",
   "metadata": {},
   "outputs": [
    {
     "data": {
      "text/plain": [
       "(2, 3)"
      ]
     },
     "execution_count": 30,
     "metadata": {},
     "output_type": "execute_result"
    }
   ],
   "source": [
    "T[0]\n",
    "T[1:3]"
   ]
  },
  {
   "cell_type": "code",
   "execution_count": 31,
   "id": "e6242120-8e4b-44c0-aa11-5f05e87c86b0",
   "metadata": {},
   "outputs": [
    {
     "ename": "TypeError",
     "evalue": "'tuple' object does not support item assignment",
     "output_type": "error",
     "traceback": [
      "\u001b[0;31m---------------------------------------------------------------------------\u001b[0m",
      "\u001b[0;31mTypeError\u001b[0m                                 Traceback (most recent call last)",
      "\u001b[0;32m/tmp/ipykernel_20139/2496745880.py\u001b[0m in \u001b[0;36m<module>\u001b[0;34m\u001b[0m\n\u001b[0;32m----> 1\u001b[0;31m \u001b[0mT\u001b[0m\u001b[0;34m[\u001b[0m\u001b[0;36m1\u001b[0m\u001b[0;34m]\u001b[0m \u001b[0;34m=\u001b[0m \u001b[0;36m4\u001b[0m\u001b[0;34m\u001b[0m\u001b[0;34m\u001b[0m\u001b[0m\n\u001b[0m",
      "\u001b[0;31mTypeError\u001b[0m: 'tuple' object does not support item assignment"
     ]
    }
   ],
   "source": [
    "T[1] = 4"
   ]
  },
  {
   "cell_type": "code",
   "execution_count": 32,
   "id": "5a0accaa-3df2-4f00-a59d-b5eb41f3fcc0",
   "metadata": {},
   "outputs": [],
   "source": [
    "#dictionaries: allows mapping of keys to values "
   ]
  },
  {
   "cell_type": "code",
   "execution_count": 33,
   "id": "113944c2-0718-46ca-92fe-a5d074d181c0",
   "metadata": {},
   "outputs": [],
   "source": [
    "numbers = {'one':1, 'two':2, 'three':3}"
   ]
  },
  {
   "cell_type": "code",
   "execution_count": 34,
   "id": "656813c5-0f23-4cc9-b6e3-addcb01b09e4",
   "metadata": {},
   "outputs": [
    {
     "data": {
      "text/plain": [
       "2"
      ]
     },
     "execution_count": 34,
     "metadata": {},
     "output_type": "execute_result"
    }
   ],
   "source": [
    "numbers['two']"
   ]
  },
  {
   "cell_type": "code",
   "execution_count": 35,
   "id": "f76d8a5d-398d-458e-89e5-a7e966368297",
   "metadata": {},
   "outputs": [
    {
     "ename": "KeyError",
     "evalue": "1",
     "output_type": "error",
     "traceback": [
      "\u001b[0;31m---------------------------------------------------------------------------\u001b[0m",
      "\u001b[0;31mKeyError\u001b[0m                                  Traceback (most recent call last)",
      "\u001b[0;32m/tmp/ipykernel_20139/1343734504.py\u001b[0m in \u001b[0;36m<module>\u001b[0;34m\u001b[0m\n\u001b[0;32m----> 1\u001b[0;31m \u001b[0mnumbers\u001b[0m\u001b[0;34m[\u001b[0m\u001b[0;36m1\u001b[0m\u001b[0;34m]\u001b[0m\u001b[0;34m\u001b[0m\u001b[0;34m\u001b[0m\u001b[0m\n\u001b[0m",
      "\u001b[0;31mKeyError\u001b[0m: 1"
     ]
    }
   ],
   "source": [
    "numbers[1]"
   ]
  },
  {
   "cell_type": "code",
   "execution_count": 36,
   "id": "35c99c89-1f38-4877-b339-f9f8acd31fe8",
   "metadata": {},
   "outputs": [],
   "source": [
    "numbers['ninety'] = 90"
   ]
  },
  {
   "cell_type": "code",
   "execution_count": 37,
   "id": "1b061580-17b7-4bd6-8797-b78672e1c99e",
   "metadata": {},
   "outputs": [
    {
     "name": "stdout",
     "output_type": "stream",
     "text": [
      "{'one': 1, 'two': 2, 'three': 3, 'ninety': 90}\n"
     ]
    }
   ],
   "source": [
    "print(numbers)"
   ]
  },
  {
   "cell_type": "code",
   "execution_count": 38,
   "id": "61da67c7-e0fa-4730-9712-de2cf8ce3ec4",
   "metadata": {},
   "outputs": [
    {
     "data": {
      "text/plain": [
       "dict_keys(['one', 'two', 'three', 'ninety'])"
      ]
     },
     "execution_count": 38,
     "metadata": {},
     "output_type": "execute_result"
    }
   ],
   "source": [
    "numbers.keys()"
   ]
  },
  {
   "cell_type": "code",
   "execution_count": 39,
   "id": "ad73f4fc-398e-4d6b-85f3-2a73dfa57537",
   "metadata": {},
   "outputs": [
    {
     "data": {
      "text/plain": [
       "dict_items([('one', 1), ('two', 2), ('three', 3), ('ninety', 90)])"
      ]
     },
     "execution_count": 39,
     "metadata": {},
     "output_type": "execute_result"
    }
   ],
   "source": [
    "numbers.items()"
   ]
  },
  {
   "cell_type": "code",
   "execution_count": null,
   "id": "32e7f112-dcb1-4597-931c-f14c0ed427ca",
   "metadata": {},
   "outputs": [],
   "source": [
    "#sets: unordered collection of unique items "
   ]
  },
  {
   "cell_type": "code",
   "execution_count": 40,
   "id": "d003f672-7f47-441e-8d79-e8d2beea21d4",
   "metadata": {},
   "outputs": [
    {
     "data": {
      "text/plain": [
       "[2, 3, 3, 4, 4, 2]"
      ]
     },
     "execution_count": 40,
     "metadata": {},
     "output_type": "execute_result"
    }
   ],
   "source": [
    "L = [2, 3, 3, 4, 4, 2]\n",
    "L"
   ]
  },
  {
   "cell_type": "code",
   "execution_count": 41,
   "id": "3074987e-bd92-42c1-8c0c-d66c7d07f603",
   "metadata": {},
   "outputs": [
    {
     "data": {
      "text/plain": [
       "{2, 3, 4}"
      ]
     },
     "execution_count": 41,
     "metadata": {},
     "output_type": "execute_result"
    }
   ],
   "source": [
    "S = set(L)\n",
    "S"
   ]
  },
  {
   "cell_type": "code",
   "execution_count": 42,
   "id": "9352656a-75ec-4032-8dd7-38a73a233ac1",
   "metadata": {},
   "outputs": [],
   "source": [
    "primes = {2, 3, 5, 7}\n",
    "odds = {1, 3, 5, 7, 9}"
   ]
  },
  {
   "cell_type": "code",
   "execution_count": 47,
   "id": "df261886-d9a6-4900-ba78-16f6a874fe55",
   "metadata": {},
   "outputs": [
    {
     "name": "stdout",
     "output_type": "stream",
     "text": [
      "{1, 2, 3, 5, 7, 9}\n",
      "{1, 2, 3, 5, 7, 9}\n"
     ]
    }
   ],
   "source": [
    "print(primes | odds)\n",
    "print(primes.union(odds))"
   ]
  },
  {
   "cell_type": "code",
   "execution_count": 48,
   "id": "77277632-a1f2-4068-8441-f6a3053867d0",
   "metadata": {},
   "outputs": [
    {
     "name": "stdout",
     "output_type": "stream",
     "text": [
      "{3, 5, 7}\n",
      "{3, 5, 7}\n"
     ]
    }
   ],
   "source": [
    "print(primes & odds)\n",
    "print(primes.intersection(odds))"
   ]
  },
  {
   "cell_type": "code",
   "execution_count": 49,
   "id": "6b0ae22b-3642-4fa1-94d4-81ca6cb2b8f2",
   "metadata": {},
   "outputs": [
    {
     "name": "stdout",
     "output_type": "stream",
     "text": [
      "{2}\n",
      "{2}\n"
     ]
    }
   ],
   "source": [
    "print(primes - odds)\n",
    "print(primes.difference(odds))"
   ]
  },
  {
   "cell_type": "code",
   "execution_count": 50,
   "id": "ffea6855-35d9-4642-b6c0-f75990fff15c",
   "metadata": {},
   "outputs": [
    {
     "name": "stdout",
     "output_type": "stream",
     "text": [
      "{1, 2, 9}\n",
      "{1, 2, 9}\n"
     ]
    }
   ],
   "source": [
    "print(primes ^ odds)\n",
    "print(primes.symmetric_difference(odds))"
   ]
  },
  {
   "cell_type": "code",
   "execution_count": null,
   "id": "f48f7c6d-f5c5-4ef7-a5ec-3ae5adc8c00a",
   "metadata": {},
   "outputs": [],
   "source": [
    "#10. List Comprehensions "
   ]
  },
  {
   "cell_type": "code",
   "execution_count": null,
   "id": "720e5423-a16d-4349-9221-4f0fbd517bed",
   "metadata": {},
   "outputs": [],
   "source": [
    "#a simple way to compress list building for loops into a single line \n",
    "#basic format: [expr for var in iterable] "
   ]
  },
  {
   "cell_type": "code",
   "execution_count": 51,
   "id": "b1c9faa6-d42e-4d1f-b977-3cedf13a2744",
   "metadata": {},
   "outputs": [
    {
     "name": "stdout",
     "output_type": "stream",
     "text": [
      "[0, 1, 4, 9, 16, 25, 36, 49, 64, 81, 100, 121]\n"
     ]
    }
   ],
   "source": [
    "L = [] \n",
    "for n in range(12):\n",
    "    L.append(n ** 2)\n",
    "\n",
    "print(L) "
   ]
  },
  {
   "cell_type": "code",
   "execution_count": 54,
   "id": "53619b04-65fb-41ea-8ee9-03895a67ea1c",
   "metadata": {},
   "outputs": [
    {
     "name": "stdout",
     "output_type": "stream",
     "text": [
      "[0, 1, 4, 9, 16, 25, 36, 49, 64, 81, 100, 121]\n"
     ]
    }
   ],
   "source": [
    "L = [n ** 2 for n in range(12)]\n",
    "print(L)"
   ]
  },
  {
   "cell_type": "code",
   "execution_count": 55,
   "id": "5b507eea-50c0-43bb-9c6e-c01aa772eced",
   "metadata": {},
   "outputs": [
    {
     "name": "stdout",
     "output_type": "stream",
     "text": [
      "[(0, 0), (0, 1), (0, 2), (1, 0), (1, 1), (1, 2)]\n"
     ]
    }
   ],
   "source": [
    "L2 = [(i, j) for i in range(2) for j in range(3)]\n",
    "print(L2)"
   ]
  },
  {
   "cell_type": "code",
   "execution_count": 56,
   "id": "d152bd8b-e7a7-4884-b43e-feecfe747f1d",
   "metadata": {},
   "outputs": [
    {
     "name": "stdout",
     "output_type": "stream",
     "text": [
      "[1, 2, 4, 5, 7, 8, 10, 11, 13, 14, 16, 17, 19]\n"
     ]
    }
   ],
   "source": [
    "#conditions on the iterator \n",
    "L3 = [val for val in range(20) if val % 3 > 0]\n",
    "print(L3)"
   ]
  },
  {
   "cell_type": "code",
   "execution_count": 57,
   "id": "785c308f-73eb-44ba-850c-1311f5aeefd6",
   "metadata": {},
   "outputs": [
    {
     "name": "stdout",
     "output_type": "stream",
     "text": [
      "[1, 2, 4, 5, 7, 8, 10, 11, 13, 14, 16, 17, 19]\n"
     ]
    }
   ],
   "source": [
    "#equivalent to above \n",
    "L3 = []\n",
    "for val in range(20): \n",
    "    if val % 3:\n",
    "        L3.append(val)\n",
    "print(L3)"
   ]
  },
  {
   "cell_type": "code",
   "execution_count": null,
   "id": "97857c88-7bee-4c04-99a1-219cd6060dba",
   "metadata": {},
   "outputs": [],
   "source": [
    "#conditionals on the value "
   ]
  },
  {
   "cell_type": "code",
   "execution_count": 58,
   "id": "3dd768eb-6a74-4387-854c-dbde6d9dd1eb",
   "metadata": {},
   "outputs": [
    {
     "data": {
      "text/plain": [
       "10"
      ]
     },
     "execution_count": 58,
     "metadata": {},
     "output_type": "execute_result"
    }
   ],
   "source": [
    "val = -10\n",
    "val if val >= 0 else -val"
   ]
  },
  {
   "cell_type": "code",
   "execution_count": 59,
   "id": "a6a0d2f6-bb95-4002-a161-ab43b52528e3",
   "metadata": {},
   "outputs": [
    {
     "data": {
      "text/plain": [
       "[1, -2, -4, 5, 7, -8, -10, 11, 13, -14, -16, 17, 19]"
      ]
     },
     "execution_count": 59,
     "metadata": {},
     "output_type": "execute_result"
    }
   ],
   "source": [
    "[val if val % 2 else -val for val in range(20) if val % 3]"
   ]
  },
  {
   "cell_type": "code",
   "execution_count": 60,
   "id": "d2f44b0c-0a15-4028-adb0-5abb2d0bc7f2",
   "metadata": {},
   "outputs": [
    {
     "data": {
      "text/plain": [
       "{0, 1, 4, 9, 16, 25, 36, 49, 64, 81, 100, 121}"
      ]
     },
     "execution_count": 60,
     "metadata": {},
     "output_type": "execute_result"
    }
   ],
   "source": [
    "{n ** 2 for n in range(12)}"
   ]
  },
  {
   "cell_type": "code",
   "execution_count": 61,
   "id": "40cac476-4b2f-438e-8a17-d811dd48b19d",
   "metadata": {},
   "outputs": [
    {
     "data": {
      "text/plain": [
       "{0, 1, 2}"
      ]
     },
     "execution_count": 61,
     "metadata": {},
     "output_type": "execute_result"
    }
   ],
   "source": [
    "{a % 3 for a in range(1000)}"
   ]
  },
  {
   "cell_type": "code",
   "execution_count": 62,
   "id": "55c635c8-f8e1-4c26-b1ed-b7bc8539471b",
   "metadata": {},
   "outputs": [
    {
     "data": {
      "text/plain": [
       "{0: 0, 1: 1, 2: 4, 3: 9, 4: 16, 5: 25}"
      ]
     },
     "execution_count": 62,
     "metadata": {},
     "output_type": "execute_result"
    }
   ],
   "source": [
    "{n: n ** 2 for n in range(6)}"
   ]
  },
  {
   "cell_type": "code",
   "execution_count": 63,
   "id": "487cfc07-db75-4b4c-95a5-3b7e8eefc750",
   "metadata": {},
   "outputs": [],
   "source": [
    "#functional programming "
   ]
  },
  {
   "cell_type": "code",
   "execution_count": 67,
   "id": "47e5fdb9-3e12-4346-b392-a95d023265e9",
   "metadata": {},
   "outputs": [
    {
     "data": {
      "text/plain": [
       "6"
      ]
     },
     "execution_count": 67,
     "metadata": {},
     "output_type": "execute_result"
    }
   ],
   "source": [
    "reduce(lambda x, y: x + y, [1,2,3])"
   ]
  },
  {
   "cell_type": "code",
   "execution_count": 69,
   "id": "8704b1cc-a696-409f-b280-fb9c504cc5ba",
   "metadata": {},
   "outputs": [
    {
     "name": "stdout",
     "output_type": "stream",
     "text": [
      "6\n"
     ]
    }
   ],
   "source": [
    "s = 0\n",
    "for v in [1,2,3]:\n",
    "    s += v \n",
    "print(s)"
   ]
  },
  {
   "cell_type": "code",
   "execution_count": 70,
   "id": "b5515273-7290-4f02-a67b-c056329a9734",
   "metadata": {},
   "outputs": [],
   "source": [
    "msg=\"\"\"is it possible to blank all emails from this message, for example\n",
    "if there is an email such as doctor.fun@python.org take it out,\n",
    "another one is fun.ction@dawg.edu\"\"\""
   ]
  },
  {
   "cell_type": "code",
   "execution_count": 71,
   "id": "dd6671f6-8474-4da4-b195-096415e321a5",
   "metadata": {},
   "outputs": [
    {
     "data": {
      "text/plain": [
       "'is it possible to blank all emails from this message, for example if there is an email such as take it out, another one is'"
      ]
     },
     "execution_count": 71,
     "metadata": {},
     "output_type": "execute_result"
    }
   ],
   "source": [
    "reduce(lambda x, y: x + \" \" + y, [word for word in msg.split() if '@' not in word])"
   ]
  },
  {
   "cell_type": "code",
   "execution_count": 72,
   "id": "ce589223-2e1b-40b8-8d1a-85b00c5a3aad",
   "metadata": {},
   "outputs": [
    {
     "data": {
      "text/plain": [
       "'is it possible to blank all emails from this message, for example if there is an email such as take it out, another one is'"
      ]
     },
     "execution_count": 72,
     "metadata": {},
     "output_type": "execute_result"
    }
   ],
   "source": [
    "' '.join([word for word in msg.split() if '@' not in word])"
   ]
  },
  {
   "cell_type": "code",
   "execution_count": null,
   "id": "c7dfdad5-deb5-4e8d-9190-119e96a76004",
   "metadata": {},
   "outputs": [],
   "source": [
    "#11. Regular Expressions"
   ]
  },
  {
   "cell_type": "code",
   "execution_count": 73,
   "id": "f015992c-60e5-4dd6-9835-c273d8550fec",
   "metadata": {},
   "outputs": [
    {
     "data": {
      "text/plain": [
       "['the', 'quikc', 'brown', 'dog', 'jumps', 'over', 'the', 'lazy', 'dog']"
      ]
     },
     "execution_count": 73,
     "metadata": {},
     "output_type": "execute_result"
    }
   ],
   "source": [
    "line = ' the quikc brown dog jumps over the lazy dog'\n",
    "line.split()"
   ]
  },
  {
   "cell_type": "code",
   "execution_count": 76,
   "id": "48ee37da-e6bb-43f1-be3d-c79704d79837",
   "metadata": {},
   "outputs": [
    {
     "data": {
      "text/plain": [
       "['', 'the', 'quikc', 'brown', 'dog', 'jumps', 'over', 'the', 'lazy', 'dog']"
      ]
     },
     "execution_count": 76,
     "metadata": {},
     "output_type": "execute_result"
    }
   ],
   "source": [
    "regex = re.compile('\\s+')\n",
    "regex.split(line)"
   ]
  },
  {
   "cell_type": "code",
   "execution_count": null,
   "id": "0312ea02-231f-470f-be5e-d93ed739f715",
   "metadata": {},
   "outputs": [],
   "source": [
    "# \\s is a special character that matches to any whitespace \n",
    "# + is a character that indicates one ore more entity preceding it \n",
    "# [] indicates a set of characters \n",
    "# \\ signals a special sequency; can also be used to escape special characters \n",
    "# . indicates any character \n",
    "# ^ indicates starts with \n",
    "# $ indicates ends with \n",
    "# * indicates zero or more occurrences \n",
    "# + indicates one or more occurrences \n",
    "# ? indicates zero or one occurrences \n",
    "# {} indicates exactly the specified number of occurrences \n",
    "# | indicates either or \n",
    "# () indicates capture and group "
   ]
  },
  {
   "cell_type": "code",
   "execution_count": 78,
   "id": "4629f7cd-e019-4d96-9972-ab86949466da",
   "metadata": {},
   "outputs": [
    {
     "name": "stdout",
     "output_type": "stream",
     "text": [
      "'        ' does not match\n",
      "'abc     ' does not match\n",
      "'   abc' matches\n",
      "'           abc' does not match\n"
     ]
    }
   ],
   "source": [
    "for s in [\"        \", \"abc     \", \"   abc\", \"           abc\"]:\n",
    "    if s.startswith('   a'):\n",
    "        print(repr(s), 'matches')\n",
    "    else:\n",
    "        print(repr(s), 'does not match')"
   ]
  },
  {
   "cell_type": "code",
   "execution_count": 79,
   "id": "7b57f0dd-5fd1-444e-904d-7e470bbbf214",
   "metadata": {},
   "outputs": [
    {
     "name": "stdout",
     "output_type": "stream",
     "text": [
      "'     ' matches\n",
      "'abc   ' does not match\n",
      "'   abc' matches\n"
     ]
    }
   ],
   "source": [
    "regex = re.compile('\\s+')\n",
    "for s in [\"     \", \"abc   \", \"   abc\"]:\n",
    "    if regex.match(s):\n",
    "        print(repr(s), \"matches\")\n",
    "    else:\n",
    "        print(repr(s), \"does not match\")"
   ]
  },
  {
   "cell_type": "code",
   "execution_count": 3,
   "id": "8b7b327f-2f43-4270-a6fd-bc4960efc55c",
   "metadata": {},
   "outputs": [
    {
     "name": "stdout",
     "output_type": "stream",
     "text": [
      "'    ' does not match\n",
      "'abc    ' does not match\n",
      "'   abc' matches\n",
      "'      abc' matches\n"
     ]
    }
   ],
   "source": [
    "regex = re.compile('\\s+a')\n",
    "for s in [\"    \", \"abc    \", \"   abc\", \"      abc\"]:\n",
    "    if regex.match(s):\n",
    "        print(repr(s), \"matches\")\n",
    "    else: \n",
    "        print(repr(s), \"does not match\")"
   ]
  },
  {
   "cell_type": "code",
   "execution_count": 4,
   "id": "391ebaf2-5c5d-42b1-b859-972045f89702",
   "metadata": {},
   "outputs": [
    {
     "data": {
      "text/plain": [
       "16"
      ]
     },
     "execution_count": 4,
     "metadata": {},
     "output_type": "execute_result"
    }
   ],
   "source": [
    "line = \"the quick brown fox jumps over the lazy dog\" \n",
    "line.index('fox')"
   ]
  },
  {
   "cell_type": "code",
   "execution_count": 5,
   "id": "119f1a57-ae36-47f5-a1d2-971a30ec74fd",
   "metadata": {},
   "outputs": [
    {
     "data": {
      "text/plain": [
       "16"
      ]
     },
     "execution_count": 5,
     "metadata": {},
     "output_type": "execute_result"
    }
   ],
   "source": [
    "line.find('fox')"
   ]
  },
  {
   "cell_type": "code",
   "execution_count": 7,
   "id": "50b9eb10-e0ca-412a-b47c-60f3736e0129",
   "metadata": {},
   "outputs": [
    {
     "data": {
      "text/plain": [
       "16"
      ]
     },
     "execution_count": 7,
     "metadata": {},
     "output_type": "execute_result"
    }
   ],
   "source": [
    "regex = re.compile('fox')\n",
    "match = regex.search(line)\n",
    "match.start()"
   ]
  },
  {
   "cell_type": "code",
   "execution_count": 8,
   "id": "779afcdd-5a62-40a0-b1bd-79255de66a34",
   "metadata": {},
   "outputs": [
    {
     "data": {
      "text/plain": [
       "10"
      ]
     },
     "execution_count": 8,
     "metadata": {},
     "output_type": "execute_result"
    }
   ],
   "source": [
    "regex = re.compile('[a-z]+o[a-z]+')\n",
    "match = regex.search(line)\n",
    "match.start()"
   ]
  },
  {
   "cell_type": "code",
   "execution_count": 9,
   "id": "00ff30a3-a44e-41df-bfa6-f52501fdf9fd",
   "metadata": {},
   "outputs": [
    {
     "data": {
      "text/plain": [
       "['brown', 'fox', 'dog']"
      ]
     },
     "execution_count": 9,
     "metadata": {},
     "output_type": "execute_result"
    }
   ],
   "source": [
    "regex.findall(line)"
   ]
  },
  {
   "cell_type": "code",
   "execution_count": 10,
   "id": "a90a36ea-8ba2-470a-9123-c8b0428f6959",
   "metadata": {},
   "outputs": [
    {
     "data": {
      "text/plain": [
       "'the quick brown BEAR jumps over the lazy dog'"
      ]
     },
     "execution_count": 10,
     "metadata": {},
     "output_type": "execute_result"
    }
   ],
   "source": [
    "line.replace('fox', 'BEAR')"
   ]
  },
  {
   "cell_type": "code",
   "execution_count": 11,
   "id": "17644381-da74-4f37-9f61-497b5ce80fa9",
   "metadata": {},
   "outputs": [
    {
     "data": {
      "text/plain": [
       "'the quick BEAR BEAR jumps over the lazy BEAR'"
      ]
     },
     "execution_count": 11,
     "metadata": {},
     "output_type": "execute_result"
    }
   ],
   "source": [
    "regex.sub('BEAR', line)"
   ]
  },
  {
   "cell_type": "code",
   "execution_count": 12,
   "id": "0c226917-525d-43e6-899f-e939928cc739",
   "metadata": {},
   "outputs": [],
   "source": [
    "email = re.compile('\\w+@\\w+\\.[a-z]{3}')"
   ]
  },
  {
   "cell_type": "code",
   "execution_count": 13,
   "id": "91e35c43-bc20-4887-b222-5e5d1aaf39df",
   "metadata": {},
   "outputs": [
    {
     "data": {
      "text/plain": [
       "['guido@python.org', 'guido@google.com']"
      ]
     },
     "execution_count": 13,
     "metadata": {},
     "output_type": "execute_result"
    }
   ],
   "source": [
    "text = \"To email Guido, try guido@python.org or the older address guido@google.com.\"\n",
    "email.findall(text)"
   ]
  },
  {
   "cell_type": "code",
   "execution_count": 14,
   "id": "edbcd6cb-668f-4632-a907-049b2c7717d0",
   "metadata": {},
   "outputs": [
    {
     "data": {
      "text/plain": [
       "'To email Guido, try --@--.-- or the older address --@--.--.'"
      ]
     },
     "execution_count": 14,
     "metadata": {},
     "output_type": "execute_result"
    }
   ],
   "source": [
    "email.sub('--@--.--', text)"
   ]
  },
  {
   "cell_type": "code",
   "execution_count": 15,
   "id": "322c2a07-d861-4017-89af-1acc74cb6e58",
   "metadata": {},
   "outputs": [
    {
     "data": {
      "text/plain": [
       "['obama@whitehouse.gov']"
      ]
     },
     "execution_count": 15,
     "metadata": {},
     "output_type": "execute_result"
    }
   ],
   "source": [
    "email.findall('barack.obama@whitehouse.gov')"
   ]
  },
  {
   "cell_type": "code",
   "execution_count": 16,
   "id": "e75bf92f-4136-440c-b048-ef75f0411989",
   "metadata": {},
   "outputs": [
    {
     "data": {
      "text/plain": [
       "['ion']"
      ]
     },
     "execution_count": 16,
     "metadata": {},
     "output_type": "execute_result"
    }
   ],
   "source": [
    "regex = re.compile('ion')\n",
    "regex.findall('Great Expectations')"
   ]
  },
  {
   "cell_type": "code",
   "execution_count": 17,
   "id": "e4a65c75-1a6b-4646-b104-bc2e5f3a377c",
   "metadata": {},
   "outputs": [
    {
     "name": "stdout",
     "output_type": "stream",
     "text": [
      "Hi\\nThere\n"
     ]
    }
   ],
   "source": [
    "print(r'Hi\\nThere')"
   ]
  },
  {
   "cell_type": "code",
   "execution_count": 18,
   "id": "d51fd8bb-a5ef-48ef-8c54-dcea22f4f84d",
   "metadata": {},
   "outputs": [
    {
     "data": {
      "text/plain": [
       "['\\\\', '\\\\', '\\\\']"
      ]
     },
     "execution_count": 18,
     "metadata": {},
     "output_type": "execute_result"
    }
   ],
   "source": [
    "regex = re.compile(r'\\\\')\n",
    "regex.findall('the \\ cost \\ is \\ $20.')"
   ]
  },
  {
   "cell_type": "code",
   "execution_count": 19,
   "id": "6486e81b-50ec-419b-b269-c51d6e035d3d",
   "metadata": {},
   "outputs": [
    {
     "data": {
      "text/plain": [
       "['e f', 'x i', 's 9', 's o']"
      ]
     },
     "execution_count": 19,
     "metadata": {},
     "output_type": "execute_result"
    }
   ],
   "source": [
    "regex = re.compile(r'\\w\\s\\w')\n",
    "regex.findall('the fox is 9 years old')"
   ]
  },
  {
   "cell_type": "code",
   "execution_count": 21,
   "id": "78135990-7d95-4bfb-aeea-56de550b2610",
   "metadata": {},
   "outputs": [
    {
     "data": {
      "text/plain": [
       "['c', 'ns', 'q', '', 'nt', '', 'l']"
      ]
     },
     "execution_count": 21,
     "metadata": {},
     "output_type": "execute_result"
    }
   ],
   "source": [
    "regex = re.compile('[aeiou]')\n",
    "regex.split('consequential')"
   ]
  },
  {
   "cell_type": "code",
   "execution_count": 22,
   "id": "bdeaa96d-0afc-4594-aacc-e2eda68c3229",
   "metadata": {},
   "outputs": [
    {
     "data": {
      "text/plain": [
       "['G2', 'H6', 'Z4']"
      ]
     },
     "execution_count": 22,
     "metadata": {},
     "output_type": "execute_result"
    }
   ],
   "source": [
    "regex = re.compile('[A-Z][0-9]')\n",
    "regex.findall('1043879, G2, H6, Z44')"
   ]
  },
  {
   "cell_type": "code",
   "execution_count": 23,
   "id": "c854e769-ff60-466c-bb28-e084dab82e2b",
   "metadata": {},
   "outputs": [
    {
     "data": {
      "text/plain": [
       "['The', 'qui', 'bro', 'fox']"
      ]
     },
     "execution_count": 23,
     "metadata": {},
     "output_type": "execute_result"
    }
   ],
   "source": [
    "regex = re.compile(r'\\w{3}')\n",
    "regex.findall('The quick brown fox')"
   ]
  },
  {
   "cell_type": "code",
   "execution_count": 25,
   "id": "ab753942-957a-444a-a9ff-0020ef8737df",
   "metadata": {},
   "outputs": [
    {
     "data": {
      "text/plain": [
       "['barak.obama@whitehouse.gov']"
      ]
     },
     "execution_count": 25,
     "metadata": {},
     "output_type": "execute_result"
    }
   ],
   "source": [
    "email = re.compile(r'[\\w.]+@\\w+\\.[a-z]{3}')\n",
    "email.findall('barak.obama@whitehouse.gov')"
   ]
  },
  {
   "cell_type": "code",
   "execution_count": null,
   "id": "1c78b42d-9f76-44fa-af85-77ed69f9deb0",
   "metadata": {},
   "outputs": [],
   "source": [
    "#14. Dataframes and Series "
   ]
  },
  {
   "cell_type": "code",
   "execution_count": 2,
   "id": "5fa7b799-ccfa-4980-9da1-785cfb1dd9a1",
   "metadata": {},
   "outputs": [
    {
     "data": {
      "text/plain": [
       "0    0.25\n",
       "1    0.50\n",
       "2    0.75\n",
       "3    1.00\n",
       "dtype: float64"
      ]
     },
     "execution_count": 2,
     "metadata": {},
     "output_type": "execute_result"
    }
   ],
   "source": [
    "#a series is a one dimensional array of indexed data\n",
    "data = pd.Series([0.25, 0.5, .75, 1.0])\n",
    "data"
   ]
  },
  {
   "cell_type": "code",
   "execution_count": 3,
   "id": "ad5d14ed-b0e3-4729-8905-4508d07bc170",
   "metadata": {},
   "outputs": [
    {
     "data": {
      "text/plain": [
       "array([0.25, 0.5 , 0.75, 1.  ])"
      ]
     },
     "execution_count": 3,
     "metadata": {},
     "output_type": "execute_result"
    }
   ],
   "source": [
    "data.values"
   ]
  },
  {
   "cell_type": "code",
   "execution_count": 5,
   "id": "652813ef-034e-4196-a96c-456db8e413f6",
   "metadata": {},
   "outputs": [
    {
     "data": {
      "text/plain": [
       "RangeIndex(start=0, stop=4, step=1)"
      ]
     },
     "execution_count": 5,
     "metadata": {},
     "output_type": "execute_result"
    }
   ],
   "source": [
    "#the index is an array like object of type pd.index\n",
    "data.index"
   ]
  },
  {
   "cell_type": "code",
   "execution_count": 6,
   "id": "56e8546c-ad42-4bd7-ae9b-2f2f8d3226f3",
   "metadata": {},
   "outputs": [
    {
     "data": {
      "text/plain": [
       "0.5"
      ]
     },
     "execution_count": 6,
     "metadata": {},
     "output_type": "execute_result"
    }
   ],
   "source": [
    "data[1]"
   ]
  },
  {
   "cell_type": "code",
   "execution_count": 8,
   "id": "a11ff563-fb92-4331-bd1e-8ab15f1b614b",
   "metadata": {},
   "outputs": [
    {
     "data": {
      "text/plain": [
       "1    0.50\n",
       "2    0.75\n",
       "dtype: float64"
      ]
     },
     "execution_count": 8,
     "metadata": {},
     "output_type": "execute_result"
    }
   ],
   "source": [
    "data[1:3]"
   ]
  },
  {
   "cell_type": "code",
   "execution_count": 9,
   "id": "28a735ec-6632-4970-a062-3d6cf1bb84b3",
   "metadata": {},
   "outputs": [
    {
     "data": {
      "text/plain": [
       "a    0.25\n",
       "b    0.50\n",
       "c    0.75\n",
       "d    1.00\n",
       "dtype: float64"
      ]
     },
     "execution_count": 9,
     "metadata": {},
     "output_type": "execute_result"
    }
   ],
   "source": [
    "data=pd.Series([0.25, 0.5, .75, 1.0], index = ['a','b','c','d'])\n",
    "data"
   ]
  },
  {
   "cell_type": "code",
   "execution_count": 11,
   "id": "9a10e188-4d1f-4e2f-a90b-8738344bd56d",
   "metadata": {},
   "outputs": [
    {
     "data": {
      "text/plain": [
       "0.5"
      ]
     },
     "execution_count": 11,
     "metadata": {},
     "output_type": "execute_result"
    }
   ],
   "source": [
    "data['b']"
   ]
  },
  {
   "cell_type": "code",
   "execution_count": 13,
   "id": "7c8159e3-3ccb-4962-8048-24bb4cae4b04",
   "metadata": {},
   "outputs": [
    {
     "data": {
      "text/plain": [
       "2    0.25\n",
       "5    0.50\n",
       "3    0.75\n",
       "7    1.00\n",
       "dtype: float64"
      ]
     },
     "execution_count": 13,
     "metadata": {},
     "output_type": "execute_result"
    }
   ],
   "source": [
    "data=pd.Series([0.25, 0.5, .75, 1.0], index = [2,5,3,7])\n",
    "data"
   ]
  },
  {
   "cell_type": "code",
   "execution_count": 14,
   "id": "aa378001-72fd-42e7-a365-dd5eba0cff30",
   "metadata": {},
   "outputs": [
    {
     "data": {
      "text/plain": [
       "Int64Index([2, 5, 3, 7], dtype='int64')"
      ]
     },
     "execution_count": 14,
     "metadata": {},
     "output_type": "execute_result"
    }
   ],
   "source": [
    "data.index"
   ]
  },
  {
   "cell_type": "code",
   "execution_count": 15,
   "id": "f85559e5-fefe-4744-bfcd-3cbb4308d99f",
   "metadata": {},
   "outputs": [
    {
     "data": {
      "text/plain": [
       "0.5"
      ]
     },
     "execution_count": 15,
     "metadata": {},
     "output_type": "execute_result"
    }
   ],
   "source": [
    "data[5]"
   ]
  },
  {
   "cell_type": "code",
   "execution_count": 16,
   "id": "bb6ad4c6-d3bd-4b12-99e7-1b44b226d51e",
   "metadata": {},
   "outputs": [
    {
     "data": {
      "text/plain": [
       "California    38332521\n",
       "Texas         26448193\n",
       "New York      19651127\n",
       "Florida       19552860\n",
       "Illinois      12882135\n",
       "dtype: int64"
      ]
     },
     "execution_count": 16,
     "metadata": {},
     "output_type": "execute_result"
    }
   ],
   "source": [
    "population_dict = {'California':38332521,\n",
    "                   'Texas':26448193,\n",
    "                   'New York':19651127,\n",
    "                   'Florida':19552860,\n",
    "                   'Illinois':12882135}\n",
    "population = pd.Series(population_dict)\n",
    "population"
   ]
  },
  {
   "cell_type": "code",
   "execution_count": 17,
   "id": "3c0070ea-548a-419a-870c-2cd1dfe1c2bf",
   "metadata": {},
   "outputs": [
    {
     "data": {
      "text/plain": [
       "38332521"
      ]
     },
     "execution_count": 17,
     "metadata": {},
     "output_type": "execute_result"
    }
   ],
   "source": [
    "population['California']"
   ]
  },
  {
   "cell_type": "code",
   "execution_count": 18,
   "id": "9a0d7e2d-5b6d-4051-9d56-023f92ae9047",
   "metadata": {},
   "outputs": [
    {
     "data": {
      "text/plain": [
       "Texas       26448193\n",
       "New York    19651127\n",
       "Florida     19552860\n",
       "Illinois    12882135\n",
       "dtype: int64"
      ]
     },
     "execution_count": 18,
     "metadata": {},
     "output_type": "execute_result"
    }
   ],
   "source": [
    "population['Texas':'Illinois']"
   ]
  },
  {
   "cell_type": "code",
   "execution_count": 19,
   "id": "571c733e-b7d9-4944-b080-a6c9d06b4868",
   "metadata": {},
   "outputs": [
    {
     "data": {
      "text/plain": [
       "California    423967\n",
       "Texas         695662\n",
       "New York      141297\n",
       "Florida       170312\n",
       "Illinois      149995\n",
       "dtype: int64"
      ]
     },
     "execution_count": 19,
     "metadata": {},
     "output_type": "execute_result"
    }
   ],
   "source": [
    "#DataFrames\n",
    "area_dict = {'California':423967,\n",
    "             'Texas':695662,\n",
    "             'New York':141297,\n",
    "             'Florida':170312,\n",
    "             'Illinois':149995}\n",
    "area = pd.Series(area_dict)\n",
    "area"
   ]
  },
  {
   "cell_type": "code",
   "execution_count": 20,
   "id": "36bea439-c666-45b6-a373-4bd1275db496",
   "metadata": {},
   "outputs": [
    {
     "data": {
      "text/html": [
       "<div>\n",
       "<style scoped>\n",
       "    .dataframe tbody tr th:only-of-type {\n",
       "        vertical-align: middle;\n",
       "    }\n",
       "\n",
       "    .dataframe tbody tr th {\n",
       "        vertical-align: top;\n",
       "    }\n",
       "\n",
       "    .dataframe thead th {\n",
       "        text-align: right;\n",
       "    }\n",
       "</style>\n",
       "<table border=\"1\" class=\"dataframe\">\n",
       "  <thead>\n",
       "    <tr style=\"text-align: right;\">\n",
       "      <th></th>\n",
       "      <th>population</th>\n",
       "      <th>area</th>\n",
       "    </tr>\n",
       "  </thead>\n",
       "  <tbody>\n",
       "    <tr>\n",
       "      <th>California</th>\n",
       "      <td>38332521</td>\n",
       "      <td>423967</td>\n",
       "    </tr>\n",
       "    <tr>\n",
       "      <th>Texas</th>\n",
       "      <td>26448193</td>\n",
       "      <td>695662</td>\n",
       "    </tr>\n",
       "    <tr>\n",
       "      <th>New York</th>\n",
       "      <td>19651127</td>\n",
       "      <td>141297</td>\n",
       "    </tr>\n",
       "    <tr>\n",
       "      <th>Florida</th>\n",
       "      <td>19552860</td>\n",
       "      <td>170312</td>\n",
       "    </tr>\n",
       "    <tr>\n",
       "      <th>Illinois</th>\n",
       "      <td>12882135</td>\n",
       "      <td>149995</td>\n",
       "    </tr>\n",
       "  </tbody>\n",
       "</table>\n",
       "</div>"
      ],
      "text/plain": [
       "            population    area\n",
       "California    38332521  423967\n",
       "Texas         26448193  695662\n",
       "New York      19651127  141297\n",
       "Florida       19552860  170312\n",
       "Illinois      12882135  149995"
      ]
     },
     "execution_count": 20,
     "metadata": {},
     "output_type": "execute_result"
    }
   ],
   "source": [
    "states = pd.DataFrame({'population':population, 'area':area})\n",
    "states"
   ]
  },
  {
   "cell_type": "code",
   "execution_count": 21,
   "id": "ab2e1ca5-aa31-4387-b321-9d414f7c15af",
   "metadata": {},
   "outputs": [
    {
     "data": {
      "text/plain": [
       "pandas.core.frame.DataFrame"
      ]
     },
     "execution_count": 21,
     "metadata": {},
     "output_type": "execute_result"
    }
   ],
   "source": [
    "type(states)"
   ]
  },
  {
   "cell_type": "code",
   "execution_count": 22,
   "id": "8b3dea6d-bd1b-417c-9ff9-9b4e6f10dddc",
   "metadata": {},
   "outputs": [
    {
     "data": {
      "text/plain": [
       "Index(['California', 'Texas', 'New York', 'Florida', 'Illinois'], dtype='object')"
      ]
     },
     "execution_count": 22,
     "metadata": {},
     "output_type": "execute_result"
    }
   ],
   "source": [
    "states.index"
   ]
  },
  {
   "cell_type": "code",
   "execution_count": 23,
   "id": "0908a22a-bcd8-4820-8376-f84668023cfc",
   "metadata": {},
   "outputs": [
    {
     "data": {
      "text/plain": [
       "Index(['population', 'area'], dtype='object')"
      ]
     },
     "execution_count": 23,
     "metadata": {},
     "output_type": "execute_result"
    }
   ],
   "source": [
    "states.columns"
   ]
  },
  {
   "cell_type": "code",
   "execution_count": 24,
   "id": "0f3a6a05-76f9-4774-8cf5-24c7d6381e22",
   "metadata": {},
   "outputs": [
    {
     "data": {
      "text/plain": [
       "California    423967\n",
       "Texas         695662\n",
       "New York      141297\n",
       "Florida       170312\n",
       "Illinois      149995\n",
       "Name: area, dtype: int64"
      ]
     },
     "execution_count": 24,
     "metadata": {},
     "output_type": "execute_result"
    }
   ],
   "source": [
    "states['area']"
   ]
  },
  {
   "cell_type": "code",
   "execution_count": 25,
   "id": "12d78539-4b96-483d-8c31-bb84e408c894",
   "metadata": {},
   "outputs": [
    {
     "data": {
      "text/plain": [
       "California    38332521\n",
       "Texas         26448193\n",
       "New York      19651127\n",
       "Florida       19552860\n",
       "Illinois      12882135\n",
       "Name: population, dtype: int64"
      ]
     },
     "execution_count": 25,
     "metadata": {},
     "output_type": "execute_result"
    }
   ],
   "source": [
    "states['population']"
   ]
  },
  {
   "cell_type": "code",
   "execution_count": 26,
   "id": "cfa18fdf-1908-4893-989b-c6012886591f",
   "metadata": {},
   "outputs": [
    {
     "data": {
      "text/plain": [
       "Int64Index([2, 3, 5, 5, 7, 11], dtype='int64')"
      ]
     },
     "execution_count": 26,
     "metadata": {},
     "output_type": "execute_result"
    }
   ],
   "source": [
    "#index object \n",
    "ind = pd.Index([2,3,5,5,7,11])\n",
    "ind"
   ]
  },
  {
   "cell_type": "code",
   "execution_count": 27,
   "id": "c59337de-b043-4822-8e20-4a96f46ee49d",
   "metadata": {},
   "outputs": [
    {
     "data": {
      "text/plain": [
       "3"
      ]
     },
     "execution_count": 27,
     "metadata": {},
     "output_type": "execute_result"
    }
   ],
   "source": [
    "ind[1]"
   ]
  },
  {
   "cell_type": "code",
   "execution_count": 28,
   "id": "bea4653a-c16a-4809-988f-5079ad2c0247",
   "metadata": {},
   "outputs": [],
   "source": [
    "indA = pd.Index([1,3,5,7,9])\n",
    "indB = pd.Index([2,3,5,7,11])"
   ]
  },
  {
   "cell_type": "code",
   "execution_count": 29,
   "id": "a8a9bae3-8d6b-4792-a0a5-c8b4689fc618",
   "metadata": {},
   "outputs": [
    {
     "name": "stderr",
     "output_type": "stream",
     "text": [
      "/tmp/ipykernel_12634/144964795.py:1: FutureWarning: Index.__and__ operating as a set operation is deprecated, in the future this will be a logical operation matching Series.__and__.  Use index.intersection(other) instead\n",
      "  indA & indB\n"
     ]
    },
    {
     "data": {
      "text/plain": [
       "Int64Index([3, 5, 7], dtype='int64')"
      ]
     },
     "execution_count": 29,
     "metadata": {},
     "output_type": "execute_result"
    }
   ],
   "source": [
    "indA & indB"
   ]
  },
  {
   "cell_type": "code",
   "execution_count": 30,
   "id": "b2cc4322-b1ab-4734-9850-9d52268bd1c0",
   "metadata": {},
   "outputs": [
    {
     "data": {
      "text/plain": [
       "Int64Index([3, 5, 7], dtype='int64')"
      ]
     },
     "execution_count": 30,
     "metadata": {},
     "output_type": "execute_result"
    }
   ],
   "source": [
    "indA.intersection(indB)"
   ]
  },
  {
   "cell_type": "code",
   "execution_count": 31,
   "id": "3aa280c8-8835-42d5-981e-44d600f9bcc8",
   "metadata": {},
   "outputs": [
    {
     "name": "stderr",
     "output_type": "stream",
     "text": [
      "/tmp/ipykernel_12634/3251124211.py:1: FutureWarning: Index.__or__ operating as a set operation is deprecated, in the future this will be a logical operation matching Series.__or__.  Use index.union(other) instead\n",
      "  indA | indB\n"
     ]
    },
    {
     "data": {
      "text/plain": [
       "Int64Index([1, 2, 3, 5, 7, 9, 11], dtype='int64')"
      ]
     },
     "execution_count": 31,
     "metadata": {},
     "output_type": "execute_result"
    }
   ],
   "source": [
    "indA | indB"
   ]
  },
  {
   "cell_type": "code",
   "execution_count": 32,
   "id": "2341dcc3-0bad-4a0f-b829-47065ba8ed96",
   "metadata": {},
   "outputs": [
    {
     "data": {
      "text/plain": [
       "Int64Index([1, 2, 3, 5, 7, 9, 11], dtype='int64')"
      ]
     },
     "execution_count": 32,
     "metadata": {},
     "output_type": "execute_result"
    }
   ],
   "source": [
    "indA.union(indB)"
   ]
  },
  {
   "cell_type": "code",
   "execution_count": 33,
   "id": "6ad1f1da-c822-4c0a-8f69-177b2dd51598",
   "metadata": {},
   "outputs": [
    {
     "name": "stderr",
     "output_type": "stream",
     "text": [
      "/tmp/ipykernel_12634/2832893868.py:1: FutureWarning: Index.__xor__ operating as a set operation is deprecated, in the future this will be a logical operation matching Series.__xor__.  Use index.symmetric_difference(other) instead\n",
      "  indA ^ indB\n"
     ]
    },
    {
     "data": {
      "text/plain": [
       "Int64Index([1, 2, 9, 11], dtype='int64')"
      ]
     },
     "execution_count": 33,
     "metadata": {},
     "output_type": "execute_result"
    }
   ],
   "source": [
    "indA ^ indB"
   ]
  },
  {
   "cell_type": "code",
   "execution_count": 34,
   "id": "5a073509-6a95-437a-a441-2935d569f55e",
   "metadata": {},
   "outputs": [
    {
     "data": {
      "text/plain": [
       "Int64Index([1, 2, 9, 11], dtype='int64')"
      ]
     },
     "execution_count": 34,
     "metadata": {},
     "output_type": "execute_result"
    }
   ],
   "source": [
    "indA.symmetric_difference(indB)"
   ]
  },
  {
   "cell_type": "code",
   "execution_count": null,
   "id": "05817461-f8d7-4fe5-ac52-9a2edbb9b47a",
   "metadata": {},
   "outputs": [],
   "source": [
    "#15. Data Indexing and Selection "
   ]
  },
  {
   "cell_type": "code",
   "execution_count": null,
   "id": "394fb5c8-e337-4ad3-a5a0-77b540e86bce",
   "metadata": {},
   "outputs": [],
   "source": []
  },
  {
   "cell_type": "code",
   "execution_count": null,
   "id": "496c15b3-8e9b-458e-8b41-9fbaf550a469",
   "metadata": {},
   "outputs": [],
   "source": []
  },
  {
   "cell_type": "code",
   "execution_count": null,
   "id": "39aeff59-8360-4d16-a370-ceb74b969cd7",
   "metadata": {},
   "outputs": [],
   "source": []
  },
  {
   "cell_type": "code",
   "execution_count": null,
   "id": "fdad96e2-6ae4-4fe2-8dc2-37a5dd3e94f5",
   "metadata": {},
   "outputs": [],
   "source": []
  },
  {
   "cell_type": "code",
   "execution_count": null,
   "id": "da25c3d3-4f34-4356-852b-3a066fd86100",
   "metadata": {},
   "outputs": [],
   "source": []
  },
  {
   "cell_type": "code",
   "execution_count": null,
   "id": "df2d1357-b630-4cc5-96e3-dae562f5bb85",
   "metadata": {},
   "outputs": [],
   "source": []
  }
 ],
 "metadata": {
  "kernelspec": {
   "display_name": "Python 3 (ipykernel)",
   "language": "python",
   "name": "python3"
  },
  "language_info": {
   "codemirror_mode": {
    "name": "ipython",
    "version": 3
   },
   "file_extension": ".py",
   "mimetype": "text/x-python",
   "name": "python",
   "nbconvert_exporter": "python",
   "pygments_lexer": "ipython3",
   "version": "3.9.7"
  }
 },
 "nbformat": 4,
 "nbformat_minor": 5
}
