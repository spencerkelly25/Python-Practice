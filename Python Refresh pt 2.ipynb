{
 "cells": [
  {
   "cell_type": "code",
   "execution_count": null,
   "id": "eef343f5-aae2-4bf4-b07a-7499933577f4",
   "metadata": {},
   "outputs": [],
   "source": [
    "!pip install functools'"
   ]
  },
  {
   "cell_type": "code",
   "execution_count": null,
   "id": "101266e9-5ef4-415f-841e-5dc1625e324f",
   "metadata": {},
   "outputs": [],
   "source": [
    "!pip install pandas_datareader"
   ]
  },
  {
   "cell_type": "code",
   "execution_count": null,
   "id": "4f55cf9d-21a0-443e-baf7-cf8965b17254",
   "metadata": {},
   "outputs": [],
   "source": [
    "pip install altair vega notebook vega_datasets"
   ]
  },
  {
   "cell_type": "code",
   "execution_count": 3,
   "id": "9b490d22-9eb0-4b4a-8315-2cf75154518d",
   "metadata": {
    "collapsed": true,
    "jupyter": {
     "outputs_hidden": true
    },
    "tags": []
   },
   "outputs": [
    {
     "name": "stdout",
     "output_type": "stream",
     "text": [
      "Collecting textblob\n",
      "  Downloading textblob-0.17.1-py2.py3-none-any.whl (636 kB)\n",
      "\u001b[K     |████████████████████████████████| 636 kB 4.9 MB/s eta 0:00:01\n",
      "\u001b[?25hRequirement already satisfied: nltk in /home/spencer/anaconda3/lib/python3.9/site-packages (3.6.5)\n",
      "Requirement already satisfied: click in /home/spencer/anaconda3/lib/python3.9/site-packages (from nltk) (8.0.3)\n",
      "Requirement already satisfied: joblib in /home/spencer/anaconda3/lib/python3.9/site-packages (from nltk) (1.1.0)\n",
      "Requirement already satisfied: regex>=2021.8.3 in /home/spencer/anaconda3/lib/python3.9/site-packages (from nltk) (2021.8.3)\n",
      "Requirement already satisfied: tqdm in /home/spencer/anaconda3/lib/python3.9/site-packages (from nltk) (4.62.3)\n",
      "Installing collected packages: textblob\n",
      "Successfully installed textblob-0.17.1\n"
     ]
    }
   ],
   "source": [
    "!pip install textblob nltk"
   ]
  },
  {
   "cell_type": "code",
   "execution_count": 24,
   "id": "a8344dd6-7999-4f44-9d73-b531445070fc",
   "metadata": {},
   "outputs": [
    {
     "name": "stdout",
     "output_type": "stream",
     "text": [
      "Collecting spacy\n",
      "  Downloading spacy-3.3.0-cp39-cp39-manylinux_2_17_x86_64.manylinux2014_x86_64.whl (6.3 MB)\n",
      "\u001b[K     |████████████████████████████████| 6.3 MB 4.5 MB/s eta 0:00:01\n",
      "\u001b[?25hCollecting catalogue<2.1.0,>=2.0.6\n",
      "  Downloading catalogue-2.0.7-py3-none-any.whl (17 kB)\n",
      "Requirement already satisfied: numpy>=1.15.0 in /home/spencer/anaconda3/lib/python3.9/site-packages (from spacy) (1.20.3)\n",
      "Collecting srsly<3.0.0,>=2.4.3\n",
      "  Downloading srsly-2.4.3-cp39-cp39-manylinux_2_17_x86_64.manylinux2014_x86_64.whl (457 kB)\n",
      "\u001b[K     |████████████████████████████████| 457 kB 12.3 MB/s eta 0:00:01\n",
      "\u001b[?25hCollecting spacy-loggers<2.0.0,>=1.0.0\n",
      "  Downloading spacy_loggers-1.0.2-py3-none-any.whl (7.2 kB)\n",
      "Requirement already satisfied: packaging>=20.0 in /home/spencer/anaconda3/lib/python3.9/site-packages (from spacy) (21.0)\n",
      "Collecting pydantic!=1.8,!=1.8.1,<1.9.0,>=1.7.4\n",
      "  Downloading pydantic-1.8.2-cp39-cp39-manylinux2014_x86_64.whl (11.3 MB)\n",
      "\u001b[K     |████████████████████████████████| 11.3 MB 386 kB/s  eta 0:00:01\n",
      "\u001b[?25hCollecting typer<0.5.0,>=0.3.0\n",
      "  Downloading typer-0.4.1-py3-none-any.whl (27 kB)\n",
      "Requirement already satisfied: setuptools in /home/spencer/anaconda3/lib/python3.9/site-packages (from spacy) (58.0.4)\n",
      "Collecting preshed<3.1.0,>=3.0.2\n",
      "  Downloading preshed-3.0.6-cp39-cp39-manylinux_2_5_x86_64.manylinux1_x86_64.manylinux_2_17_x86_64.manylinux2014_x86_64.whl (128 kB)\n",
      "\u001b[K     |████████████████████████████████| 128 kB 12.2 MB/s eta 0:00:01\n",
      "\u001b[?25hRequirement already satisfied: requests<3.0.0,>=2.13.0 in /home/spencer/anaconda3/lib/python3.9/site-packages (from spacy) (2.26.0)\n",
      "Collecting pathy>=0.3.5\n",
      "  Downloading pathy-0.6.1-py3-none-any.whl (42 kB)\n",
      "\u001b[K     |████████████████████████████████| 42 kB 219 kB/s  eta 0:00:01\n",
      "\u001b[?25hCollecting cymem<2.1.0,>=2.0.2\n",
      "  Downloading cymem-2.0.6-cp39-cp39-manylinux_2_17_x86_64.manylinux2014_x86_64.whl (35 kB)\n",
      "Collecting blis<0.8.0,>=0.4.0\n",
      "  Downloading blis-0.7.7-cp39-cp39-manylinux_2_17_x86_64.manylinux2014_x86_64.whl (9.9 MB)\n",
      "\u001b[K     |████████████████████████████████| 9.9 MB 24 kB/s s eta 0:00:01\n",
      "\u001b[?25hCollecting spacy-legacy<3.1.0,>=3.0.9\n",
      "  Downloading spacy_legacy-3.0.9-py2.py3-none-any.whl (20 kB)\n",
      "Collecting wasabi<1.1.0,>=0.9.1\n",
      "  Downloading wasabi-0.9.1-py3-none-any.whl (26 kB)\n",
      "Collecting thinc<8.1.0,>=8.0.14\n",
      "  Downloading thinc-8.0.15-cp39-cp39-manylinux_2_17_x86_64.manylinux2014_x86_64.whl (661 kB)\n",
      "\u001b[K     |████████████████████████████████| 661 kB 12.2 MB/s eta 0:00:01\n",
      "\u001b[?25hCollecting langcodes<4.0.0,>=3.2.0\n",
      "  Downloading langcodes-3.3.0-py3-none-any.whl (181 kB)\n",
      "\u001b[K     |████████████████████████████████| 181 kB 11.7 MB/s eta 0:00:01\n",
      "\u001b[?25hRequirement already satisfied: tqdm<5.0.0,>=4.38.0 in /home/spencer/anaconda3/lib/python3.9/site-packages (from spacy) (4.62.3)\n",
      "Collecting murmurhash<1.1.0,>=0.28.0\n",
      "  Downloading murmurhash-1.0.7-cp39-cp39-manylinux_2_5_x86_64.manylinux1_x86_64.manylinux_2_17_x86_64.manylinux2014_x86_64.whl (21 kB)\n",
      "Requirement already satisfied: jinja2 in /home/spencer/anaconda3/lib/python3.9/site-packages (from spacy) (2.11.3)\n",
      "Requirement already satisfied: pyparsing>=2.0.2 in /home/spencer/anaconda3/lib/python3.9/site-packages (from packaging>=20.0->spacy) (3.0.4)\n",
      "Collecting smart-open<6.0.0,>=5.0.0\n",
      "  Downloading smart_open-5.2.1-py3-none-any.whl (58 kB)\n",
      "\u001b[K     |████████████████████████████████| 58 kB 948 kB/s  eta 0:00:01\n",
      "\u001b[?25hRequirement already satisfied: typing-extensions>=3.7.4.3 in /home/spencer/anaconda3/lib/python3.9/site-packages (from pydantic!=1.8,!=1.8.1,<1.9.0,>=1.7.4->spacy) (3.10.0.2)\n",
      "Requirement already satisfied: charset-normalizer~=2.0.0 in /home/spencer/anaconda3/lib/python3.9/site-packages (from requests<3.0.0,>=2.13.0->spacy) (2.0.4)\n",
      "Requirement already satisfied: idna<4,>=2.5 in /home/spencer/anaconda3/lib/python3.9/site-packages (from requests<3.0.0,>=2.13.0->spacy) (3.2)\n",
      "Requirement already satisfied: urllib3<1.27,>=1.21.1 in /home/spencer/anaconda3/lib/python3.9/site-packages (from requests<3.0.0,>=2.13.0->spacy) (1.26.7)\n",
      "Requirement already satisfied: certifi>=2017.4.17 in /home/spencer/anaconda3/lib/python3.9/site-packages (from requests<3.0.0,>=2.13.0->spacy) (2021.10.8)\n",
      "Requirement already satisfied: click<9.0.0,>=7.1.1 in /home/spencer/anaconda3/lib/python3.9/site-packages (from typer<0.5.0,>=0.3.0->spacy) (8.0.3)\n",
      "Requirement already satisfied: MarkupSafe>=0.23 in /home/spencer/anaconda3/lib/python3.9/site-packages (from jinja2->spacy) (1.1.1)\n",
      "Installing collected packages: murmurhash, cymem, catalogue, wasabi, typer, srsly, smart-open, pydantic, preshed, blis, thinc, spacy-loggers, spacy-legacy, pathy, langcodes, spacy\n",
      "Successfully installed blis-0.7.7 catalogue-2.0.7 cymem-2.0.6 langcodes-3.3.0 murmurhash-1.0.7 pathy-0.6.1 preshed-3.0.6 pydantic-1.8.2 smart-open-5.2.1 spacy-3.3.0 spacy-legacy-3.0.9 spacy-loggers-1.0.2 srsly-2.4.3 thinc-8.0.15 typer-0.4.1 wasabi-0.9.1\n"
     ]
    }
   ],
   "source": [
    "!pip install spacy"
   ]
  },
  {
   "cell_type": "code",
   "execution_count": 30,
   "id": "c84c276d-6aef-4933-9bf4-fa27ef9e0cf8",
   "metadata": {},
   "outputs": [
    {
     "name": "stdout",
     "output_type": "stream",
     "text": [
      "Requirement already satisfied: networkx in /home/spencer/anaconda3/lib/python3.9/site-packages (2.6.3)\n"
     ]
    }
   ],
   "source": [
    "!pip install networkx"
   ]
  },
  {
   "cell_type": "code",
   "execution_count": 31,
   "id": "886e899b-ea9a-4384-b683-0dbd3ecfebba",
   "metadata": {},
   "outputs": [],
   "source": [
    "from functools import reduce\n",
    "import re \n",
    "import pandas as pd\n",
    "import numpy as np \n",
    "import seaborn as sns\n",
    "import requests \n",
    "import xml.etree.ElementTree as ET\n",
    "from bs4 import BeautifulSoup\n",
    "import datetime\n",
    "from pandas_datareader import data\n",
    "import matplotlib.pyplot as plt \n",
    "import json\n",
    "from IPython.core.display import display, HTML\n",
    "import altair as alt\n",
    "import sys\n",
    "import textblob.download_corpora\n",
    "import nltk\n",
    "from textblob import TextBlob\n",
    "import spacy\n",
    "import networkx as nx "
   ]
  },
  {
   "cell_type": "code",
   "execution_count": 32,
   "id": "f85f614e-b6c9-4de7-a2fb-96ce4418061a",
   "metadata": {},
   "outputs": [],
   "source": [
    "%matplotlib inline"
   ]
  },
  {
   "cell_type": "code",
   "execution_count": 5,
   "id": "cbd52c53-3309-4efa-aa15-8e0c1ad61e5c",
   "metadata": {},
   "outputs": [
    {
     "name": "stderr",
     "output_type": "stream",
     "text": [
      "[nltk_data] Downloading package brown to /home/spencer/nltk_data...\n",
      "[nltk_data]   Unzipping corpora/brown.zip.\n",
      "[nltk_data] Downloading package punkt to /home/spencer/nltk_data...\n",
      "[nltk_data]   Unzipping tokenizers/punkt.zip.\n",
      "[nltk_data] Downloading package wordnet to /home/spencer/nltk_data...\n",
      "[nltk_data]   Unzipping corpora/wordnet.zip.\n",
      "[nltk_data] Downloading package averaged_perceptron_tagger to\n",
      "[nltk_data]     /home/spencer/nltk_data...\n",
      "[nltk_data]   Unzipping taggers/averaged_perceptron_tagger.zip.\n",
      "[nltk_data] Downloading package conll2000 to\n",
      "[nltk_data]     /home/spencer/nltk_data...\n",
      "[nltk_data]   Unzipping corpora/conll2000.zip.\n",
      "[nltk_data] Downloading package movie_reviews to\n",
      "[nltk_data]     /home/spencer/nltk_data...\n",
      "[nltk_data]   Unzipping corpora/movie_reviews.zip.\n"
     ]
    },
    {
     "name": "stdout",
     "output_type": "stream",
     "text": [
      "Finished.\n"
     ]
    },
    {
     "name": "stderr",
     "output_type": "stream",
     "text": [
      "[nltk_data] Downloading package tagsets to /home/spencer/nltk_data...\n",
      "[nltk_data]   Unzipping help/tagsets.zip.\n"
     ]
    },
    {
     "data": {
      "text/plain": [
       "True"
      ]
     },
     "execution_count": 5,
     "metadata": {},
     "output_type": "execute_result"
    }
   ],
   "source": [
    "textblob.download_corpora.main()\n",
    "nltk.download('tagsets')"
   ]
  },
  {
   "cell_type": "code",
   "execution_count": null,
   "id": "39e00cbd-ef05-4328-a313-9e1719f558ce",
   "metadata": {},
   "outputs": [],
   "source": []
  },
  {
   "cell_type": "code",
   "execution_count": 26,
   "id": "7606cc11-0add-4a3a-b24b-474427af55bb",
   "metadata": {},
   "outputs": [
    {
     "ename": "SyntaxError",
     "evalue": "invalid syntax (1329091399.py, line 1)",
     "output_type": "error",
     "traceback": [
      "\u001b[0;36m  File \u001b[0;32m\"/tmp/ipykernel_12735/1329091399.py\"\u001b[0;36m, line \u001b[0;32m1\u001b[0m\n\u001b[0;31m    spacy download en\u001b[0m\n\u001b[0m          ^\u001b[0m\n\u001b[0;31mSyntaxError\u001b[0m\u001b[0;31m:\u001b[0m invalid syntax\n"
     ]
    }
   ],
   "source": [
    "spacy download en "
   ]
  },
  {
   "cell_type": "code",
   "execution_count": null,
   "id": "af06bb2e-f635-442b-85b8-ee87300c9cef",
   "metadata": {},
   "outputs": [],
   "source": [
    "data = pd.read_csv('data/gapminder.tsv', sep = '\\t')\n",
    "movies = pd.read_csv('data/movies.csv')"
   ]
  },
  {
   "cell_type": "code",
   "execution_count": null,
   "id": "a4219df2-bbb0-4eeb-bd51-b47cac7ff3c8",
   "metadata": {},
   "outputs": [],
   "source": [
    "#30. Introduction to Altair "
   ]
  },
  {
   "cell_type": "code",
   "execution_count": null,
   "id": "751b9bf0-e6fb-4edc-b96f-2edaf27cf19e",
   "metadata": {},
   "outputs": [],
   "source": [
    "df = pd.DataFrame({\n",
    "    'city': ['Seattle', 'Seattle', 'Seattle', 'New York', 'New York', 'New York', 'Chicago', 'Chicago', 'Chicago'],\n",
    "    'month': ['Apr', 'Aug', 'Dec', 'Apr', 'Aug', 'Dec', 'Apr', 'Aug', 'Dec'],\n",
    "    'precip': [2.68, 0.87, 5.31, 3.94, 4.13, 3.58, 3.62, 3.98, 2.56]\n",
    "})\n",
    "\n",
    "df"
   ]
  },
  {
   "cell_type": "code",
   "execution_count": null,
   "id": "0c34a82d-7764-4536-9b11-4d4049ddb445",
   "metadata": {},
   "outputs": [],
   "source": [
    "# the chart object \n",
    "\n",
    "chart = alt.Chart(df)\n",
    "chart"
   ]
  },
  {
   "cell_type": "code",
   "execution_count": null,
   "id": "51d1192b-98c3-43ec-a138-710bd55eeef0",
   "metadata": {},
   "outputs": [],
   "source": [
    "# marks and encoding \n",
    "\n",
    "ch2 = chart.mark_rect()\n",
    "ch2"
   ]
  },
  {
   "cell_type": "code",
   "execution_count": null,
   "id": "8b9b302c-e267-4120-8814-705ee03723a9",
   "metadata": {},
   "outputs": [],
   "source": [
    "alt.Chart(df).mark_point().encode(\n",
    "    y = 'city', )"
   ]
  },
  {
   "cell_type": "code",
   "execution_count": null,
   "id": "6641a55c-65c7-4825-babd-2778bd76cf2f",
   "metadata": {},
   "outputs": [],
   "source": [
    "alt.Chart(df).mark_point().encode(\n",
    "    x = 'city',\n",
    "    y = 'precip')"
   ]
  },
  {
   "cell_type": "code",
   "execution_count": null,
   "id": "0f180b52-5505-4e6c-9267-611a45b393e5",
   "metadata": {},
   "outputs": [],
   "source": [
    "alt.Chart(df).mark_point().encode(\n",
    "    alt.X('precip'),\n",
    "    alt.Y('city'))"
   ]
  },
  {
   "cell_type": "code",
   "execution_count": null,
   "id": "440f748e-8f50-4c0a-9407-d7ea425bd64a",
   "metadata": {},
   "outputs": [],
   "source": [
    "# data aggregation\n",
    "\n",
    "alt.Chart(df).mark_point().encode(\n",
    "    alt.X('average(precip)'),\n",
    "    alt.Y('city'))"
   ]
  },
  {
   "cell_type": "code",
   "execution_count": null,
   "id": "410bc3da-addb-4c8c-9838-5de5a40f0f84",
   "metadata": {},
   "outputs": [],
   "source": [
    "df2 = df.groupby('city').mean().reset_index()\n",
    "alt.Chart(df2).mark_point().encode(\n",
    "    alt.X('precip'),\n",
    "    alt.Y('city'))"
   ]
  },
  {
   "cell_type": "code",
   "execution_count": null,
   "id": "22724025-4b78-4ad6-9560-9f2d8f05ad16",
   "metadata": {},
   "outputs": [],
   "source": [
    "# changing the mark type \n",
    "\n",
    "alt.Chart(df).mark_bar().encode(\n",
    "    alt.X('average(precip)'),\n",
    "    alt.Y('city'))"
   ]
  },
  {
   "cell_type": "code",
   "execution_count": null,
   "id": "255a3b1b-a415-475a-8d85-dfc9a67e52cc",
   "metadata": {},
   "outputs": [],
   "source": [
    "alt.Chart(df).mark_bar().encode(\n",
    "    alt.X('city'),\n",
    "    alt.Y('average(precip)'))"
   ]
  },
  {
   "cell_type": "code",
   "execution_count": null,
   "id": "baaeb6e3-643d-44c2-9041-7cc5f928f0b4",
   "metadata": {},
   "outputs": [],
   "source": [
    "# combining charts \n",
    "\n",
    "chart1 = alt.Chart(df).mark_line().encode(\n",
    "            alt.X('month'),\n",
    "            alt.Y('average(precip)'),\n",
    "            color = 'city')\n",
    "chart1"
   ]
  },
  {
   "cell_type": "code",
   "execution_count": null,
   "id": "2a2eac33-9036-44d1-8c1f-baa0af8dd1e4",
   "metadata": {},
   "outputs": [],
   "source": [
    "chart2 = alt.Chart(df).mark_point().encode(\n",
    "            alt.X('month'),\n",
    "            alt.Y('average(precip)'),\n",
    "            color = 'city')\n",
    "chart2"
   ]
  },
  {
   "cell_type": "code",
   "execution_count": null,
   "id": "08f57938-dbc4-48bd-931d-b87a046d9107",
   "metadata": {},
   "outputs": [],
   "source": [
    "chart3 = chart1 | chart2\n",
    "chart3"
   ]
  },
  {
   "cell_type": "code",
   "execution_count": null,
   "id": "6cb29923-a42a-4dda-9cff-f94300cb85b7",
   "metadata": {},
   "outputs": [],
   "source": [
    "chart4 = chart1 & chart2 \n",
    "chart4"
   ]
  },
  {
   "cell_type": "code",
   "execution_count": null,
   "id": "be44e20c-278d-46af-916a-d36995150794",
   "metadata": {},
   "outputs": [],
   "source": [
    "chart5 = chart1 + chart2 \n",
    "chart5 "
   ]
  },
  {
   "cell_type": "code",
   "execution_count": null,
   "id": "91e27ae6-f8b0-43c8-a049-1cd276c8bda8",
   "metadata": {},
   "outputs": [],
   "source": [
    "chart5 | chart4"
   ]
  },
  {
   "cell_type": "code",
   "execution_count": null,
   "id": "ee0833f2-6511-4ef5-a77d-6cc8c57fdb64",
   "metadata": {},
   "outputs": [],
   "source": [
    "chart5.interactive()"
   ]
  },
  {
   "cell_type": "code",
   "execution_count": null,
   "id": "795a064e-7aee-4e36-b7e3-1a072fdc6702",
   "metadata": {},
   "outputs": [],
   "source": [
    "chart5.save('chart.html')"
   ]
  },
  {
   "cell_type": "code",
   "execution_count": null,
   "id": "d9404e4e-cca8-4dc5-96fa-32ce9f805e15",
   "metadata": {},
   "outputs": [],
   "source": [
    "# 31. Data Typesm Graphical Marks, and Visual Encoding Channels "
   ]
  },
  {
   "cell_type": "code",
   "execution_count": null,
   "id": "ca13051c-08ca-4349-ae30-061e521a6ce1",
   "metadata": {},
   "outputs": [],
   "source": [
    "data = pd.read_csv('data/gapminder.tsv', sep = '\\t')\n",
    "data.head(5)"
   ]
  },
  {
   "cell_type": "code",
   "execution_count": null,
   "id": "7663d64f-aaa0-44c8-8e1d-55612a446ae9",
   "metadata": {},
   "outputs": [],
   "source": [
    "# data types \n",
    "# nominal -> consists of category names; can compare the equality of values; when visualizing we should readily be able to see if values are the same or different posiiton \n",
    "# ordinal -> consists of values that have a specific ordering; can compare the rank ordering of values; when visualizing we should be able to perceive a sense of rank order \n",
    "# quantitative -> able to measure numerical differences among values; \n",
    "#   for interval data, we can measure the distance between points \n",
    "#   for ratio data, the zero point is meaningful and so we can alos measure proportions or scale values \n",
    "#   can be visualized using position, size, or color values \n",
    "#   axises with zero baselines are essential for visualizing ratio data\n",
    "# temporal -> measures time points or intervals"
   ]
  },
  {
   "cell_type": "code",
   "execution_count": null,
   "id": "c8db45ab-a93d-47cb-83e6-414c050f5ea4",
   "metadata": {},
   "outputs": [],
   "source": [
    "data.dtypes"
   ]
  },
  {
   "cell_type": "code",
   "execution_count": null,
   "id": "988e904c-18bb-4f14-a9ef-81e229882377",
   "metadata": {},
   "outputs": [],
   "source": [
    "alt.Chart(data).mark_point().encode(\n",
    "    alt.X('lifeExp:Q'))"
   ]
  },
  {
   "cell_type": "code",
   "execution_count": null,
   "id": "823ee776-e110-4820-a4fc-117afe7eef2e",
   "metadata": {},
   "outputs": [],
   "source": [
    "alt.Chart(data).mark_point().encode(\n",
    "    alt.X('lifeExp:N'))"
   ]
  },
  {
   "cell_type": "code",
   "execution_count": null,
   "id": "b8f8c964-1dab-4aac-99fe-6ef67faca077",
   "metadata": {},
   "outputs": [],
   "source": [
    "alt.Chart(data).mark_point().encode(\n",
    "    alt.X('lifeExp:O'))"
   ]
  },
  {
   "cell_type": "code",
   "execution_count": null,
   "id": "8ecb12d7-94f0-4adf-a307-dd2e4f9f71db",
   "metadata": {},
   "outputs": [],
   "source": [
    "# encoding channels: \n",
    "# x -> horizontal position of the mark \n",
    "# y -> vertical position of the mark \n",
    "# size -> size of the mark; may correspond to area or length \n",
    "# color -> mark color; specified a a legal CSS color \n",
    "# opacity -> mark opacity ranging from 0 (full transparent) to 1 (fully opaque)\n",
    "# shape -> plotting symbol shape for point marks \n",
    "# tooltip -> specifies that text should be displayed upon the mouse hovering over the mark \n",
    "# order -> mark ordering; determines line/area point order and drawing order \n",
    "# column -> facet the data into horizontally aligned subplots \n",
    "# row -> facet the data into vertically aligned subplots \n"
   ]
  },
  {
   "cell_type": "code",
   "execution_count": null,
   "id": "900edfad-72a0-4edf-82cb-882be2173f6b",
   "metadata": {},
   "outputs": [],
   "source": [
    "alt.Chart(data).mark_point().encode(\n",
    "    alt.X('lifeExp:Q'))"
   ]
  },
  {
   "cell_type": "code",
   "execution_count": null,
   "id": "0c240e60-a7d4-4805-903f-3aa151dc1032",
   "metadata": {},
   "outputs": [],
   "source": [
    "alt.Chart(data).mark_point().encode(\n",
    "    alt.X('lifeExp:Q'),\n",
    "    alt.Y('continent:O'))"
   ]
  },
  {
   "cell_type": "code",
   "execution_count": null,
   "id": "5c04cdc1-9d44-44ca-816b-eae2acb0987d",
   "metadata": {},
   "outputs": [],
   "source": [
    "alt.Chart(data).mark_point().encode(\n",
    "    alt.X('lifeExp:Q'),\n",
    "    alt.Y('pop:Q'))"
   ]
  },
  {
   "cell_type": "code",
   "execution_count": null,
   "id": "73cbe05e-5176-47cb-ae68-97fec067de55",
   "metadata": {},
   "outputs": [],
   "source": [
    "alt.Chart(data).mark_point().encode(\n",
    "    alt.X('lifeExp:Q', scale = alt.Scale(zero = False)),\n",
    "    alt.Y('pop:Q', scale = alt.Scale(zero = False)))"
   ]
  },
  {
   "cell_type": "code",
   "execution_count": null,
   "id": "a45f003e-2477-48c3-80c4-32d2bbafad48",
   "metadata": {},
   "outputs": [],
   "source": [
    "alt.Chart(data).mark_point().encode(\n",
    "    alt.X('gdpPercap:Q'),\n",
    "    alt.Y('lifeExp:Q'),\n",
    "    alt.Size('pop:Q'))"
   ]
  },
  {
   "cell_type": "code",
   "execution_count": null,
   "id": "95548be1-381d-4ac3-a374-80a846da8066",
   "metadata": {},
   "outputs": [],
   "source": [
    "alt.Chart(data).mark_point().encode(\n",
    "    alt.X('gdpPercap:Q'),\n",
    "    alt.Y('lifeExp:Q'),\n",
    "    alt.Size('pop:Q', scale = alt.Scale(range = [0, 1000])))"
   ]
  },
  {
   "cell_type": "code",
   "execution_count": null,
   "id": "fc6520a0-3392-47d3-bd95-a6baa1605889",
   "metadata": {},
   "outputs": [],
   "source": [
    "alt.Chart(data).mark_point().encode(\n",
    "    alt.X('lifeExp:Q'),\n",
    "    alt.Y('pop:Q'),\n",
    "    alt.Color('continent:N'))"
   ]
  },
  {
   "cell_type": "code",
   "execution_count": null,
   "id": "6e9ca5b0-108d-49fb-ac16-ec0fd111f863",
   "metadata": {},
   "outputs": [],
   "source": [
    "alt.Chart(data).mark_point(filled = True).encode(\n",
    "    alt.X('lifeExp:Q'),\n",
    "    alt.Y('pop:Q'),\n",
    "    alt.Color('continent:N'))"
   ]
  },
  {
   "cell_type": "code",
   "execution_count": null,
   "id": "bf969683-d06a-497d-b52d-43074300549a",
   "metadata": {},
   "outputs": [],
   "source": [
    "alt.Chart(data).mark_point(filled = True, opacity = 0.5).encode(\n",
    "    alt.X('lifeExp:Q'),\n",
    "    alt.Y('pop:Q'),\n",
    "    alt.Color('continent:N'))"
   ]
  },
  {
   "cell_type": "code",
   "execution_count": null,
   "id": "2be27d62-c7cb-4c7a-b593-5da51fb835c1",
   "metadata": {},
   "outputs": [],
   "source": [
    "alt.Chart(data).mark_point(filled = True, opacity = 0.5).encode(\n",
    "    alt.X('lifeExp:Q'),\n",
    "    alt.Y('pop:Q'),\n",
    "    alt.Shape('continent:N'))"
   ]
  },
  {
   "cell_type": "code",
   "execution_count": null,
   "id": "3b786ca2-9333-414c-9956-91b9ad491a03",
   "metadata": {},
   "outputs": [],
   "source": [
    "alt.Chart(data).mark_point(filled = True, opacity = 0.5).encode(\n",
    "    alt.X('lifeExp:Q'),\n",
    "    alt.Y('pop:Q'),\n",
    "    alt.Color('continent:N'),\n",
    "    alt.Tooltip('country'))"
   ]
  },
  {
   "cell_type": "code",
   "execution_count": null,
   "id": "2cd33db5-4896-4ab3-be28-d840cd2f9495",
   "metadata": {},
   "outputs": [],
   "source": [
    "alt.Chart(data).mark_point(filled = True, opacity = 1).encode(\n",
    "    alt.X('gdpPercap:Q'),\n",
    "    alt.Y('lifeExp:Q'),\n",
    "    alt.Size('pop:Q', scale = alt.Scale(range = [0, 1000])),\n",
    "    alt.Color('continent:N'),\n",
    "    alt.Tooltip('country:N'),\n",
    "    alt.Order('pop:Q', sort = 'descending'))"
   ]
  },
  {
   "cell_type": "code",
   "execution_count": null,
   "id": "b3f6e18e-543b-40ab-a2bc-23fad9ccc64c",
   "metadata": {},
   "outputs": [],
   "source": [
    "alt.Chart(data).mark_point(filled = True, opacity = 1).encode(\n",
    "    alt.X('gdpPercap:Q'),\n",
    "    alt.Y('lifeExp:Q'),\n",
    "    alt.Size('pop:Q', scale = alt.Scale(range = [0,1000])),\n",
    "    alt.Color('continent:N'),\n",
    "    alt.Order('pop:Q', sort = 'descending'),\n",
    "    alt.Tooltip(['country:N', 'year:O']))"
   ]
  },
  {
   "cell_type": "code",
   "execution_count": null,
   "id": "c418c69c-2613-41a1-afdb-7974be687bb5",
   "metadata": {},
   "outputs": [],
   "source": [
    "alt.Chart(data).mark_point(filled = True, opacity = 1).encode(\n",
    "    alt.X('gdpPercap:Q'),\n",
    "    alt.Y('lifeExp:Q'),\n",
    "    alt.Size('pop:Q', scale = alt.Scale(range = [0,1000])),\n",
    "    alt.Color('continent:N'),\n",
    "    alt.Order('pop:Q', sort = 'descending'),\n",
    "    alt.Column('year'))"
   ]
  },
  {
   "cell_type": "code",
   "execution_count": null,
   "id": "97f701d3-8866-45c0-abfd-a5572673cb35",
   "metadata": {},
   "outputs": [],
   "source": [
    "alt.Chart(data).mark_point(filled = True, opacity = 1).encode(\n",
    "    alt.X('gdpPercap:Q'),\n",
    "    alt.Y('lifeExp:Q'),\n",
    "    alt.Size('pop:Q', scale = alt.Scale(range = [0,1000])),\n",
    "    alt.Color('continent:N'),\n",
    "    alt.Order('pop:Q', sort = 'descending'),\n",
    "    alt.Column('year')).properties(width = 135, height = 135)"
   ]
  },
  {
   "cell_type": "code",
   "execution_count": null,
   "id": "6a2496ba-bd78-4aed-a1ea-df2ff7b1cc36",
   "metadata": {},
   "outputs": [],
   "source": [
    "# graphical marks \n",
    "# mark_area() -> filled areas defined bya top line and a baseline \n",
    "# mark_bar() -> rectangular bars \n",
    "# mark_circle() -> scallter plot points as filled circles\n",
    "# mark_line() -> connected line segments \n",
    "# mark_point() -> scatter plot points with configurable shapes \n",
    "# mark_rect() -> filled rectangles; useful for heatmaps \n",
    "# mark_rule() -> vertical or horizontal lines spanning the axis \n",
    "# mark_square() -> scatter plot points as filled squares \n",
    "# mark_text() -> scatter plot points represented by text \n",
    "# mark_tick() -> vertical or horizontal tick marks "
   ]
  },
  {
   "cell_type": "code",
   "execution_count": null,
   "id": "1164df73-da22-45e8-84a7-524b283c8b1e",
   "metadata": {},
   "outputs": [],
   "source": [
    "alt.Chart(data).mark_point().encode(\n",
    "    alt.X('lifeExp:Q'),\n",
    "    alt.Y('continent:N'),\n",
    "    alt.Shape('continent:N'))"
   ]
  },
  {
   "cell_type": "code",
   "execution_count": null,
   "id": "e1fc2dc0-66ae-4ebc-8c4e-77f3869cf624",
   "metadata": {},
   "outputs": [],
   "source": [
    "alt.Chart(data).mark_point(filled = True, size = 100).encode(\n",
    "    alt.X('lifeExp:Q'),\n",
    "    alt.Y('continent:N'),\n",
    "    alt.Shape('continent:N'))"
   ]
  },
  {
   "cell_type": "code",
   "execution_count": null,
   "id": "6a72b574-6981-4351-9d12-2e612cb8f19f",
   "metadata": {},
   "outputs": [],
   "source": [
    "alt.Chart(data).mark_circle().encode(\n",
    "    alt.X('lifeExp:Q'),\n",
    "    alt.Y('continent:N'),\n",
    "    alt.Shape('continent:N'))"
   ]
  },
  {
   "cell_type": "code",
   "execution_count": null,
   "id": "ab510dbc-01bc-4af3-8177-c967c7aec83c",
   "metadata": {},
   "outputs": [],
   "source": [
    "alt.Chart(data).mark_square().encode(\n",
    "    alt.X('lifeExp:Q'),\n",
    "    alt.Y('continent:N'),\n",
    "    alt.Shape('continent:N'))"
   ]
  },
  {
   "cell_type": "code",
   "execution_count": null,
   "id": "b33157ec-54c4-463c-b252-030fb4053234",
   "metadata": {},
   "outputs": [],
   "source": [
    "alt.Chart(data).mark_tick().encode(\n",
    "    alt.X('lifeExp:Q'),\n",
    "    alt.Y('continent:N'),\n",
    "    alt.Shape('continent:N'))"
   ]
  },
  {
   "cell_type": "code",
   "execution_count": null,
   "id": "440c436d-d397-4fae-94c9-3fc6688b4a2f",
   "metadata": {},
   "outputs": [],
   "source": [
    "alt.Chart(data).mark_bar().encode(\n",
    "    alt.X('lifeExp:Q'),\n",
    "    alt.Y('continent:N'))"
   ]
  },
  {
   "cell_type": "code",
   "execution_count": null,
   "id": "7d31c6be-5eba-491d-b97a-4b35373f1d6a",
   "metadata": {},
   "outputs": [],
   "source": [
    "alt.Chart(data).mark_bar().encode(\n",
    "    alt.X('average(lifeExp)'),\n",
    "    alt.Y('continent:N'))"
   ]
  },
  {
   "cell_type": "code",
   "execution_count": null,
   "id": "b1fa2776-99c4-4f72-b244-03dd7b1e90e4",
   "metadata": {},
   "outputs": [],
   "source": [
    "alt.Chart(data).mark_bar().encode(\n",
    "    alt.X('lifeExp:Q'),\n",
    "    alt.Y('continent:N'),\n",
    "    alt.Color('country'))"
   ]
  },
  {
   "cell_type": "code",
   "execution_count": null,
   "id": "33f43d9b-24b3-4674-87a8-b51f9f5534ec",
   "metadata": {},
   "outputs": [],
   "source": [
    "alt.Chart(data).mark_bar().encode(\n",
    "    alt.X('year:O'),\n",
    "    alt.Y('lifeExp:Q'),\n",
    "    alt.Color('continent:N'))"
   ]
  },
  {
   "cell_type": "code",
   "execution_count": null,
   "id": "89ad432d-ff1e-42b3-962d-1762e7308097",
   "metadata": {},
   "outputs": [],
   "source": [
    "alt.Chart(data).mark_bar().encode(\n",
    "    alt.X('min(lifeExp):Q'),\n",
    "    alt.X2('max(lifeExp):Q'),\n",
    "    alt.Y('continent:N'))"
   ]
  },
  {
   "cell_type": "code",
   "execution_count": null,
   "id": "cb9361a1-8850-4815-8e45-661d7c0b95c3",
   "metadata": {},
   "outputs": [],
   "source": [
    "alt.Chart(data).mark_line().encode(\n",
    "    alt.X('year:O'),\n",
    "    alt.Y('average(lifeExp):Q'),\n",
    "    alt.Color('continent:N', legend = None)).properties(width = 400)"
   ]
  },
  {
   "cell_type": "code",
   "execution_count": null,
   "id": "2721c4de-1e60-421e-9e4e-fbf58e454777",
   "metadata": {},
   "outputs": [],
   "source": [
    "alt.Chart(data).mark_line(strokeWidth = 3, opacity = 0.5, interpolate = 'monotone').encode(\n",
    "    alt.X('year:O'),\n",
    "    alt.Y('lifeExp:Q'),\n",
    "    alt.Color('country:N', legend = None)).properties(width = 400)"
   ]
  },
  {
   "cell_type": "code",
   "execution_count": null,
   "id": "8e4746ef-3691-4a44-a589-c9853be31e8e",
   "metadata": {},
   "outputs": [],
   "source": [
    "dataUS = data.loc[data['country'] == 'United States']\n",
    "\n",
    "alt.Chart(dataUS).mark_area().encode(\n",
    "    alt.X('year:O'),\n",
    "    alt.Y('gdpPercap:Q'))"
   ]
  },
  {
   "cell_type": "code",
   "execution_count": null,
   "id": "6efd1f8c-f4ce-4345-b71c-393f47eda022",
   "metadata": {},
   "outputs": [],
   "source": [
    "dataNA = data.loc[\n",
    "    (data['country'] == 'United States') |\n",
    "    (data['country'] == 'Canada') |\n",
    "    (data['country'] == 'Mexico')]\n",
    "\n",
    "alt.Chart(dataNA).mark_area().encode(\n",
    "    alt.X('year:O'),\n",
    "    alt.Y('gdpPercap:Q'),\n",
    "    alt.Color('country:N'))"
   ]
  },
  {
   "cell_type": "code",
   "execution_count": null,
   "id": "6874ca93-2bfc-4b58-a33c-26bb6d110720",
   "metadata": {},
   "outputs": [],
   "source": [
    "alt.Chart(dataNA).mark_area().encode(\n",
    "    alt.X('year:O'),\n",
    "    alt.Y('gdpPercap:Q', stack = 'center'),\n",
    "    alt.Color('country:N'))"
   ]
  },
  {
   "cell_type": "code",
   "execution_count": null,
   "id": "fa778f5d-c1f7-440b-aeb4-4da6c75a5252",
   "metadata": {},
   "outputs": [],
   "source": [
    "alt.Chart(dataNA).mark_area(opacity = 0.5).encode(\n",
    "    alt.X('year:O'),\n",
    "    alt.Y('gdpPercap:Q', stack = None),\n",
    "    alt.Color('country:N'))"
   ]
  },
  {
   "cell_type": "code",
   "execution_count": null,
   "id": "463dc89e-d64c-40b2-ba34-032c2ba4d220",
   "metadata": {},
   "outputs": [],
   "source": [
    "alt.Chart(dataNA).mark_area().encode(\n",
    "    alt.X('year:O'),\n",
    "    alt.Y('min(gdpPercap):Q'),\n",
    "    alt.Y2('max(gdpPercap):Q'))"
   ]
  },
  {
   "cell_type": "code",
   "execution_count": null,
   "id": "6c78c9ad-8451-4739-ad3b-07a7249883a3",
   "metadata": {},
   "outputs": [],
   "source": [
    "# 32. Data Transformation "
   ]
  },
  {
   "cell_type": "code",
   "execution_count": null,
   "id": "26cba13f-c03d-4941-9df5-cd2cecdbc481",
   "metadata": {},
   "outputs": [],
   "source": [
    "movies = pd.read_csv('data/movies.csv')\n",
    "movies.shape "
   ]
  },
  {
   "cell_type": "code",
   "execution_count": null,
   "id": "8be72908-fab1-47fb-8167-6fd4c5edca4f",
   "metadata": {},
   "outputs": [],
   "source": [
    "movies.head(5)"
   ]
  },
  {
   "cell_type": "code",
   "execution_count": null,
   "id": "6d018d1d-9ade-44be-a78c-7e9a92128786",
   "metadata": {},
   "outputs": [],
   "source": [
    "alt.Chart(movies).mark_circle().encode(\n",
    "    alt.X('Rotten_Tomatoes_Rating:Q'),\n",
    "    alt.Y('IMDB_Rating:Q'))"
   ]
  },
  {
   "cell_type": "code",
   "execution_count": null,
   "id": "7039b561-2979-4721-af3e-37137c86190c",
   "metadata": {},
   "outputs": [],
   "source": [
    "movies['binned_rating'] = pd.cut(movies['Rotten_Tomatoes_Rating'], 20).apply(lambda x: x.mid)\n",
    "movies.dropna().head()"
   ]
  },
  {
   "cell_type": "code",
   "execution_count": null,
   "id": "2af2ea24-8f0b-4414-8a08-3758fc80595f",
   "metadata": {},
   "outputs": [],
   "source": [
    "df = movies.groupby('binned_rating')[['Title']].count().reset_index()\n",
    "df.head()"
   ]
  },
  {
   "cell_type": "code",
   "execution_count": null,
   "id": "26a11d29-cd61-4dbc-9918-5c0fc72c9852",
   "metadata": {},
   "outputs": [],
   "source": [
    "alt.Chart(df).mark_bar().encode(\n",
    "    alt.X('binned_rating:Q'),\n",
    "    alt.Y('Title:Q'))"
   ]
  },
  {
   "cell_type": "code",
   "execution_count": null,
   "id": "a0ef3907-1bd1-4fe2-9832-a9d08f94fd04",
   "metadata": {},
   "outputs": [],
   "source": [
    "alt.Chart(movies).mark_circle().encode(\n",
    "    alt.X('Rotten_Tomatoes_Rating:Q', bin = True),\n",
    "    alt.Y('IMDB_Rating:Q'))"
   ]
  },
  {
   "cell_type": "code",
   "execution_count": null,
   "id": "9fd0ac02-20e8-4c2a-9b7f-6455174aacd1",
   "metadata": {},
   "outputs": [],
   "source": [
    "alt.Chart(movies).mark_bar().encode(\n",
    "    alt.X('Rotten_Tomatoes_Rating:Q', bin = True),\n",
    "    alt.Y('count()'))"
   ]
  },
  {
   "cell_type": "code",
   "execution_count": null,
   "id": "e9763b23-1af5-4205-b769-e4d425184b44",
   "metadata": {},
   "outputs": [],
   "source": [
    "alt.Chart(movies).mark_bar().encode(\n",
    "    alt.X('Rotten_Tomatoes_Rating:Q', bin = alt.BinParams(maxbins = 20)),\n",
    "    alt.Y('count()'))"
   ]
  },
  {
   "cell_type": "code",
   "execution_count": null,
   "id": "3312f846-0419-43a2-bea8-8ea69aaa3914",
   "metadata": {},
   "outputs": [],
   "source": [
    "alt.Chart(movies).mark_bar().encode(\n",
    "    alt.X('IMDB_Rating:Q', bin = alt.BinParams(maxbins = 20)),\n",
    "    alt.Y('count()'))"
   ]
  },
  {
   "cell_type": "code",
   "execution_count": null,
   "id": "4d2f7111-4d13-4aca-b4b4-31a484bf33a8",
   "metadata": {},
   "outputs": [],
   "source": [
    "alt.Chart(movies).mark_circle().encode(\n",
    "    alt.X('Rotten_Tomatoes_Rating:Q', bin=alt.BinParams(maxbins=20)),\n",
    "    alt.Y('IMDB_Rating:Q', bin=alt.BinParams(maxbins=20)))"
   ]
  },
  {
   "cell_type": "code",
   "execution_count": null,
   "id": "ce61c6ea-4cfa-4be5-949a-aef0557294c9",
   "metadata": {},
   "outputs": [],
   "source": [
    "alt.Chart(movies).mark_circle().encode(\n",
    "    alt.X('Rotten_Tomatoes_Rating:Q', bin=alt.BinParams(maxbins=20)),\n",
    "    alt.Y('IMDB_Rating:Q', bin=alt.BinParams(maxbins=20)),\n",
    "    alt.Size('count()')\n",
    ")"
   ]
  },
  {
   "cell_type": "code",
   "execution_count": null,
   "id": "542640f6-c87f-4349-8568-ef023b75a863",
   "metadata": {},
   "outputs": [],
   "source": [
    "alt.Chart(movies).mark_bar().encode(\n",
    "    alt.X('Rotten_Tomatoes_Rating:Q', bin = alt.BinParams(maxbins = 20)),\n",
    "    alt.Y('IMDB_Rating:Q', bin = alt.BinParams(maxbins = 20)),\n",
    "    alt.Color('count()'))"
   ]
  },
  {
   "cell_type": "code",
   "execution_count": null,
   "id": "b5a5a52b-6e4b-4ff5-ab20-27320f5e5f43",
   "metadata": {},
   "outputs": [],
   "source": [
    "alt.Chart(movies).mark_bar().encode(\n",
    "    alt.X('average(Rotten_Tomatoes_Rating):Q'),\n",
    "    alt.Y('Major_Genre:N'))"
   ]
  },
  {
   "cell_type": "code",
   "execution_count": null,
   "id": "18ce7ef9-5b10-4316-afac-9b316c0b0ba0",
   "metadata": {},
   "outputs": [],
   "source": [
    "alt.Chart(movies).mark_bar().encode(\n",
    "    alt.X('average(Rotten_Tomatoes_Rating):Q'),\n",
    "    alt.Y('Major_Genre:N', sort = alt.EncodingSortField(\n",
    "        op = 'average', field = 'Rotten_Tomatoes_Rating', order = 'descending')))"
   ]
  },
  {
   "cell_type": "code",
   "execution_count": null,
   "id": "eae1767a-a7d4-4bfd-b3f9-014515c2c82f",
   "metadata": {},
   "outputs": [],
   "source": [
    "alt.Chart(movies).mark_bar().encode(\n",
    "    alt.X('median(Rotten_Tomatoes_Rating):Q'),\n",
    "    alt.Y('Major_Genre:N', sort = alt.EncodingSortField(\n",
    "        op = 'median', field = 'Rotten_Tomatoes_Rating', order = 'descending')))"
   ]
  },
  {
   "cell_type": "code",
   "execution_count": null,
   "id": "14d487ba-1944-4469-8a73-f85113dc26c9",
   "metadata": {},
   "outputs": [],
   "source": [
    "alt.Chart(movies).mark_bar().encode(\n",
    "    alt.X('q1(Rotten_Tomatoes_Rating):Q'),\n",
    "    alt.X2('q3(Rotten_Tomatoes_Rating):Q'),\n",
    "    alt.Y('Major_Genre:N', sort = alt.EncodingSortField(\n",
    "        op = 'median', field = 'Rotten_Tomatoes_Rating', order = 'descending')))"
   ]
  },
  {
   "cell_type": "code",
   "execution_count": null,
   "id": "932ac160-5305-4bfc-8153-7f9a1930c61b",
   "metadata": {},
   "outputs": [],
   "source": [
    "alt.Chart(movies).mark_area().encode(\n",
    "    alt.X('month(Release_Date):T'),\n",
    "    alt.Y('median(US_Gross):Q'))"
   ]
  },
  {
   "cell_type": "code",
   "execution_count": null,
   "id": "f987358b-9daa-4c2b-b64e-d0a15bc2063b",
   "metadata": {},
   "outputs": [],
   "source": [
    "alt.Chart(movies).mark_area().encode(\n",
    "    alt.X('month(Release_Date):T'),\n",
    "    alt.Y('median(Worldwide_Gross):Q'))"
   ]
  },
  {
   "cell_type": "code",
   "execution_count": null,
   "id": "9a741e1d-c3de-49ee-9328-2a1ade3359a3",
   "metadata": {},
   "outputs": [],
   "source": [
    "# 36. Tokenization"
   ]
  },
  {
   "cell_type": "code",
   "execution_count": 7,
   "id": "2991bd6b-349e-4d71-950b-0bd84ef03490",
   "metadata": {},
   "outputs": [
    {
     "name": "stdout",
     "output_type": "stream",
     "text": [
      "Once I finally figured out all of life's answers, they changed the questions. Anonymous 5.3.\n"
     ]
    }
   ],
   "source": [
    "wisdom = \"Once I finally figured out all of life's answers, they changed the questions. Anonymous 5.3.\"\n",
    "print(wisdom)"
   ]
  },
  {
   "cell_type": "code",
   "execution_count": 8,
   "id": "94260c26-799e-49af-addb-0d7ebb47866b",
   "metadata": {},
   "outputs": [
    {
     "name": "stdout",
     "output_type": "stream",
     "text": [
      "Once I finally figured out all of life's answers, they changed the questions\n",
      " Anonymous 5\n",
      "3\n",
      "\n"
     ]
    }
   ],
   "source": [
    "for sentence in wisdom.split('.'):\n",
    "    print(sentence)"
   ]
  },
  {
   "cell_type": "code",
   "execution_count": 9,
   "id": "c4e3ec4e-e6fd-4870-9268-12ba068f7ff7",
   "metadata": {},
   "outputs": [
    {
     "data": {
      "text/plain": [
       "[Sentence(\"Once I finally figured out all of life's answers, they changed the questions.\"),\n",
       " Sentence(\"Anonymous 5.3.\")]"
      ]
     },
     "execution_count": 9,
     "metadata": {},
     "output_type": "execute_result"
    }
   ],
   "source": [
    "blob = TextBlob(wisdom)\n",
    "blob.sentences"
   ]
  },
  {
   "cell_type": "code",
   "execution_count": 11,
   "id": "7beb7a7d-c0cc-4525-a7ff-5dd040d63a8e",
   "metadata": {},
   "outputs": [
    {
     "name": "stdout",
     "output_type": "stream",
     "text": [
      "Once I finally figured out all of life's answers, they changed the questions.\n",
      "Anonymous 5.3.\n"
     ]
    }
   ],
   "source": [
    "for sentence in blob.sentences:\n",
    "    print(sentence)"
   ]
  },
  {
   "cell_type": "code",
   "execution_count": 12,
   "id": "67c8a75c-375b-4211-bd09-be7c11111474",
   "metadata": {},
   "outputs": [
    {
     "name": "stdout",
     "output_type": "stream",
     "text": [
      "Once\n",
      "I\n",
      "finally\n",
      "figured\n",
      "out\n",
      "all\n",
      "of\n",
      "life's\n",
      "answers,\n",
      "they\n",
      "changed\n",
      "the\n",
      "questions.\n",
      "Anonymous\n",
      "5.3.\n"
     ]
    }
   ],
   "source": [
    "for word in wisdom.split():\n",
    "    print(word)"
   ]
  },
  {
   "cell_type": "code",
   "execution_count": 13,
   "id": "bc606a89-35f8-4422-b127-3d781e23b49b",
   "metadata": {},
   "outputs": [
    {
     "name": "stdout",
     "output_type": "stream",
     "text": [
      "Once\n",
      "I\n",
      "finally\n",
      "figured\n",
      "out\n",
      "all\n",
      "of\n",
      "life\n",
      "'s\n",
      "answers\n",
      "they\n",
      "changed\n",
      "the\n",
      "questions\n",
      "Anonymous\n",
      "5.3\n"
     ]
    }
   ],
   "source": [
    "for word in blob.words:\n",
    "    print(word)"
   ]
  },
  {
   "cell_type": "code",
   "execution_count": 14,
   "id": "a8c1e4dd-ddac-4686-b811-b9ef388a1b07",
   "metadata": {},
   "outputs": [
    {
     "name": "stdout",
     "output_type": "stream",
     "text": [
      "life 's answers\n",
      "anonymous\n"
     ]
    }
   ],
   "source": [
    "for noun_phrase in blob.noun_phrases:\n",
    "    print(noun_phrase)"
   ]
  },
  {
   "cell_type": "code",
   "execution_count": 16,
   "id": "70ec25e4-94d0-4937-86eb-6c410c65af4c",
   "metadata": {},
   "outputs": [
    {
     "name": "stdout",
     "output_type": "stream",
     "text": [
      "$: dollar\n",
      "    $ -$ --$ A$ C$ HK$ M$ NZ$ S$ U.S.$ US$\n",
      "'': closing quotation mark\n",
      "    ' ''\n",
      "(: opening parenthesis\n",
      "    ( [ {\n",
      "): closing parenthesis\n",
      "    ) ] }\n",
      ",: comma\n",
      "    ,\n",
      "--: dash\n",
      "    --\n",
      ".: sentence terminator\n",
      "    . ! ?\n",
      ":: colon or ellipsis\n",
      "    : ; ...\n",
      "CC: conjunction, coordinating\n",
      "    & 'n and both but either et for less minus neither nor or plus so\n",
      "    therefore times v. versus vs. whether yet\n",
      "CD: numeral, cardinal\n",
      "    mid-1890 nine-thirty forty-two one-tenth ten million 0.5 one forty-\n",
      "    seven 1987 twenty '79 zero two 78-degrees eighty-four IX '60s .025\n",
      "    fifteen 271,124 dozen quintillion DM2,000 ...\n",
      "DT: determiner\n",
      "    all an another any both del each either every half la many much nary\n",
      "    neither no some such that the them these this those\n",
      "EX: existential there\n",
      "    there\n",
      "FW: foreign word\n",
      "    gemeinschaft hund ich jeux habeas Haementeria Herr K'ang-si vous\n",
      "    lutihaw alai je jour objets salutaris fille quibusdam pas trop Monte\n",
      "    terram fiche oui corporis ...\n",
      "IN: preposition or conjunction, subordinating\n",
      "    astride among uppon whether out inside pro despite on by throughout\n",
      "    below within for towards near behind atop around if like until below\n",
      "    next into if beside ...\n",
      "JJ: adjective or numeral, ordinal\n",
      "    third ill-mannered pre-war regrettable oiled calamitous first separable\n",
      "    ectoplasmic battery-powered participatory fourth still-to-be-named\n",
      "    multilingual multi-disciplinary ...\n",
      "JJR: adjective, comparative\n",
      "    bleaker braver breezier briefer brighter brisker broader bumper busier\n",
      "    calmer cheaper choosier cleaner clearer closer colder commoner costlier\n",
      "    cozier creamier crunchier cuter ...\n",
      "JJS: adjective, superlative\n",
      "    calmest cheapest choicest classiest cleanest clearest closest commonest\n",
      "    corniest costliest crassest creepiest crudest cutest darkest deadliest\n",
      "    dearest deepest densest dinkiest ...\n",
      "LS: list item marker\n",
      "    A A. B B. C C. D E F First G H I J K One SP-44001 SP-44002 SP-44005\n",
      "    SP-44007 Second Third Three Two * a b c d first five four one six three\n",
      "    two\n",
      "MD: modal auxiliary\n",
      "    can cannot could couldn't dare may might must need ought shall should\n",
      "    shouldn't will would\n",
      "NN: noun, common, singular or mass\n",
      "    common-carrier cabbage knuckle-duster Casino afghan shed thermostat\n",
      "    investment slide humour falloff slick wind hyena override subhumanity\n",
      "    machinist ...\n",
      "NNP: noun, proper, singular\n",
      "    Motown Venneboerger Czestochwa Ranzer Conchita Trumplane Christos\n",
      "    Oceanside Escobar Kreisler Sawyer Cougar Yvette Ervin ODI Darryl CTCA\n",
      "    Shannon A.K.C. Meltex Liverpool ...\n",
      "NNPS: noun, proper, plural\n",
      "    Americans Americas Amharas Amityvilles Amusements Anarcho-Syndicalists\n",
      "    Andalusians Andes Andruses Angels Animals Anthony Antilles Antiques\n",
      "    Apache Apaches Apocrypha ...\n",
      "NNS: noun, common, plural\n",
      "    undergraduates scotches bric-a-brac products bodyguards facets coasts\n",
      "    divestitures storehouses designs clubs fragrances averages\n",
      "    subjectivists apprehensions muses factory-jobs ...\n",
      "PDT: pre-determiner\n",
      "    all both half many quite such sure this\n",
      "POS: genitive marker\n",
      "    ' 's\n",
      "PRP: pronoun, personal\n",
      "    hers herself him himself hisself it itself me myself one oneself ours\n",
      "    ourselves ownself self she thee theirs them themselves they thou thy us\n",
      "PRP$: pronoun, possessive\n",
      "    her his mine my our ours their thy your\n",
      "RB: adverb\n",
      "    occasionally unabatingly maddeningly adventurously professedly\n",
      "    stirringly prominently technologically magisterially predominately\n",
      "    swiftly fiscally pitilessly ...\n",
      "RBR: adverb, comparative\n",
      "    further gloomier grander graver greater grimmer harder harsher\n",
      "    healthier heavier higher however larger later leaner lengthier less-\n",
      "    perfectly lesser lonelier longer louder lower more ...\n",
      "RBS: adverb, superlative\n",
      "    best biggest bluntest earliest farthest first furthest hardest\n",
      "    heartiest highest largest least less most nearest second tightest worst\n",
      "RP: particle\n",
      "    aboard about across along apart around aside at away back before behind\n",
      "    by crop down ever fast for forth from go high i.e. in into just later\n",
      "    low more off on open out over per pie raising start teeth that through\n",
      "    under unto up up-pp upon whole with you\n",
      "SYM: symbol\n",
      "    % & ' '' ''. ) ). * + ,. < = > @ A[fj] U.S U.S.S.R * ** ***\n",
      "TO: \"to\" as preposition or infinitive marker\n",
      "    to\n",
      "UH: interjection\n",
      "    Goodbye Goody Gosh Wow Jeepers Jee-sus Hubba Hey Kee-reist Oops amen\n",
      "    huh howdy uh dammit whammo shucks heck anyways whodunnit honey golly\n",
      "    man baby diddle hush sonuvabitch ...\n",
      "VB: verb, base form\n",
      "    ask assemble assess assign assume atone attention avoid bake balkanize\n",
      "    bank begin behold believe bend benefit bevel beware bless boil bomb\n",
      "    boost brace break bring broil brush build ...\n",
      "VBD: verb, past tense\n",
      "    dipped pleaded swiped regummed soaked tidied convened halted registered\n",
      "    cushioned exacted snubbed strode aimed adopted belied figgered\n",
      "    speculated wore appreciated contemplated ...\n",
      "VBG: verb, present participle or gerund\n",
      "    telegraphing stirring focusing angering judging stalling lactating\n",
      "    hankerin' alleging veering capping approaching traveling besieging\n",
      "    encrypting interrupting erasing wincing ...\n",
      "VBN: verb, past participle\n",
      "    multihulled dilapidated aerosolized chaired languished panelized used\n",
      "    experimented flourished imitated reunifed factored condensed sheared\n",
      "    unsettled primed dubbed desired ...\n",
      "VBP: verb, present tense, not 3rd person singular\n",
      "    predominate wrap resort sue twist spill cure lengthen brush terminate\n",
      "    appear tend stray glisten obtain comprise detest tease attract\n",
      "    emphasize mold postpone sever return wag ...\n",
      "VBZ: verb, present tense, 3rd person singular\n",
      "    bases reconstructs marks mixes displeases seals carps weaves snatches\n",
      "    slumps stretches authorizes smolders pictures emerges stockpiles\n",
      "    seduces fizzes uses bolsters slaps speaks pleads ...\n",
      "WDT: WH-determiner\n",
      "    that what whatever which whichever\n",
      "WP: WH-pronoun\n",
      "    that what whatever whatsoever which who whom whosoever\n",
      "WP$: WH-pronoun, possessive\n",
      "    whose\n",
      "WRB: Wh-adverb\n",
      "    how however whence whenever where whereby whereever wherein whereof why\n",
      "``: opening quotation mark\n",
      "    ` ``\n"
     ]
    }
   ],
   "source": [
    "nltk.help.upenn_tagset()"
   ]
  },
  {
   "cell_type": "code",
   "execution_count": 17,
   "id": "83da7bae-bd91-4ff0-a4eb-f506ba28e4f5",
   "metadata": {},
   "outputs": [
    {
     "name": "stdout",
     "output_type": "stream",
     "text": [
      "Once I finally figured out all of life's answers, they changed the questions. Anonymous 5.3.\n"
     ]
    }
   ],
   "source": [
    "print(wisdom)"
   ]
  },
  {
   "cell_type": "code",
   "execution_count": 19,
   "id": "86e0098f-500d-401f-be8d-c9e8708434f8",
   "metadata": {},
   "outputs": [
    {
     "name": "stdout",
     "output_type": "stream",
     "text": [
      "Once RB\n",
      "I PRP\n",
      "finally RB\n",
      "figured VBD\n",
      "out RP\n",
      "all DT\n",
      "of IN\n",
      "life NN\n",
      "'s POS\n",
      "answers NNS\n",
      "they PRP\n",
      "changed VBD\n",
      "the DT\n",
      "questions NNS\n",
      "Anonymous JJ\n",
      "5.3 CD\n"
     ]
    }
   ],
   "source": [
    "for word, tag in blob.pos_tags:\n",
    "    print(word, tag)"
   ]
  },
  {
   "cell_type": "code",
   "execution_count": 20,
   "id": "dcfce020-1e1d-47c0-ab79-035d894debe7",
   "metadata": {},
   "outputs": [
    {
     "data": {
      "text/plain": [
       "[('Time', 'NNP'),\n",
       " ('flies', 'NNS'),\n",
       " ('like', 'IN'),\n",
       " ('an', 'DT'),\n",
       " ('arrow', 'NN')]"
      ]
     },
     "execution_count": 20,
     "metadata": {},
     "output_type": "execute_result"
    }
   ],
   "source": [
    "b2 = TextBlob(\"Time flies like an arrow\")\n",
    "b2.pos_tags"
   ]
  },
  {
   "cell_type": "code",
   "execution_count": null,
   "id": "d9b43722-b383-49c3-9e30-828d27a8d8d2",
   "metadata": {},
   "outputs": [],
   "source": [
    "# 37. Sentiment Analysis "
   ]
  },
  {
   "cell_type": "code",
   "execution_count": 21,
   "id": "3c9822f3-291d-4546-8b46-d92e8a86d78e",
   "metadata": {},
   "outputs": [
    {
     "name": "stdout",
     "output_type": "stream",
     "text": [
      "It's great to learn Python. But it's hard to learn it well.\n",
      "Everything starts hard, but then becomes easy. So you should be happy,\n",
      "because it all ends soon\n"
     ]
    }
   ],
   "source": [
    "song = \"\"\"It's great to learn Python. But it's hard to learn it well.\n",
    "Everything starts hard, but then becomes easy. So you should be happy,\n",
    "because it all ends soon\"\"\"\n",
    "print(song)"
   ]
  },
  {
   "cell_type": "code",
   "execution_count": 22,
   "id": "8e60c54e-9e8f-453e-a11a-bcfaa48ff933",
   "metadata": {},
   "outputs": [
    {
     "data": {
      "text/plain": [
       "Sentiment(polarity=0.29, subjectivity=0.7333333333333333)"
      ]
     },
     "execution_count": 22,
     "metadata": {},
     "output_type": "execute_result"
    }
   ],
   "source": [
    "blob = TextBlob(song)\n",
    "blob.sentiment"
   ]
  },
  {
   "cell_type": "code",
   "execution_count": 23,
   "id": "22d460dd-45e8-4081-985b-0c3516673485",
   "metadata": {},
   "outputs": [
    {
     "name": "stdout",
     "output_type": "stream",
     "text": [
      "It's great to learn Python. Sentiment(polarity=0.8, subjectivity=0.75)\n",
      "But it's hard to learn it well. Sentiment(polarity=-0.2916666666666667, subjectivity=0.5416666666666666)\n",
      "Everything starts hard, but then becomes easy. Sentiment(polarity=0.07083333333333333, subjectivity=0.6875)\n",
      "So you should be happy,\n",
      "because it all ends soon Sentiment(polarity=0.8, subjectivity=1.0)\n"
     ]
    }
   ],
   "source": [
    "for sent in blob.sentences:\n",
    "    print(sent, sent.sentiment)"
   ]
  },
  {
   "cell_type": "code",
   "execution_count": 27,
   "id": "1ccf10dd-6beb-491f-9353-315eb6e084df",
   "metadata": {},
   "outputs": [
    {
     "ename": "OSError",
     "evalue": "[E050] Can't find model 'en_core_web_sm'. It doesn't seem to be a Python package or a valid path to a data directory.",
     "output_type": "error",
     "traceback": [
      "\u001b[0;31m---------------------------------------------------------------------------\u001b[0m",
      "\u001b[0;31mOSError\u001b[0m                                   Traceback (most recent call last)",
      "\u001b[0;32m/tmp/ipykernel_12735/1392401143.py\u001b[0m in \u001b[0;36m<module>\u001b[0;34m\u001b[0m\n\u001b[0;32m----> 1\u001b[0;31m \u001b[0mnlp\u001b[0m \u001b[0;34m=\u001b[0m \u001b[0mspacy\u001b[0m\u001b[0;34m.\u001b[0m\u001b[0mload\u001b[0m\u001b[0;34m(\u001b[0m\u001b[0;34m'en_core_web_sm'\u001b[0m\u001b[0;34m)\u001b[0m\u001b[0;34m\u001b[0m\u001b[0;34m\u001b[0m\u001b[0m\n\u001b[0m",
      "\u001b[0;32m~/anaconda3/lib/python3.9/site-packages/spacy/__init__.py\u001b[0m in \u001b[0;36mload\u001b[0;34m(name, vocab, disable, exclude, config)\u001b[0m\n\u001b[1;32m     49\u001b[0m     \u001b[0mRETURNS\u001b[0m \u001b[0;34m(\u001b[0m\u001b[0mLanguage\u001b[0m\u001b[0;34m)\u001b[0m\u001b[0;34m:\u001b[0m \u001b[0mThe\u001b[0m \u001b[0mloaded\u001b[0m \u001b[0mnlp\u001b[0m \u001b[0mobject\u001b[0m\u001b[0;34m.\u001b[0m\u001b[0;34m\u001b[0m\u001b[0;34m\u001b[0m\u001b[0m\n\u001b[1;32m     50\u001b[0m     \"\"\"\n\u001b[0;32m---> 51\u001b[0;31m     return util.load_model(\n\u001b[0m\u001b[1;32m     52\u001b[0m         \u001b[0mname\u001b[0m\u001b[0;34m,\u001b[0m \u001b[0mvocab\u001b[0m\u001b[0;34m=\u001b[0m\u001b[0mvocab\u001b[0m\u001b[0;34m,\u001b[0m \u001b[0mdisable\u001b[0m\u001b[0;34m=\u001b[0m\u001b[0mdisable\u001b[0m\u001b[0;34m,\u001b[0m \u001b[0mexclude\u001b[0m\u001b[0;34m=\u001b[0m\u001b[0mexclude\u001b[0m\u001b[0;34m,\u001b[0m \u001b[0mconfig\u001b[0m\u001b[0;34m=\u001b[0m\u001b[0mconfig\u001b[0m\u001b[0;34m\u001b[0m\u001b[0;34m\u001b[0m\u001b[0m\n\u001b[1;32m     53\u001b[0m     )\n",
      "\u001b[0;32m~/anaconda3/lib/python3.9/site-packages/spacy/util.py\u001b[0m in \u001b[0;36mload_model\u001b[0;34m(name, vocab, disable, exclude, config)\u001b[0m\n\u001b[1;32m    425\u001b[0m     \u001b[0;32mif\u001b[0m \u001b[0mname\u001b[0m \u001b[0;32min\u001b[0m \u001b[0mOLD_MODEL_SHORTCUTS\u001b[0m\u001b[0;34m:\u001b[0m\u001b[0;34m\u001b[0m\u001b[0;34m\u001b[0m\u001b[0m\n\u001b[1;32m    426\u001b[0m         \u001b[0;32mraise\u001b[0m \u001b[0mIOError\u001b[0m\u001b[0;34m(\u001b[0m\u001b[0mErrors\u001b[0m\u001b[0;34m.\u001b[0m\u001b[0mE941\u001b[0m\u001b[0;34m.\u001b[0m\u001b[0mformat\u001b[0m\u001b[0;34m(\u001b[0m\u001b[0mname\u001b[0m\u001b[0;34m=\u001b[0m\u001b[0mname\u001b[0m\u001b[0;34m,\u001b[0m \u001b[0mfull\u001b[0m\u001b[0;34m=\u001b[0m\u001b[0mOLD_MODEL_SHORTCUTS\u001b[0m\u001b[0;34m[\u001b[0m\u001b[0mname\u001b[0m\u001b[0;34m]\u001b[0m\u001b[0;34m)\u001b[0m\u001b[0;34m)\u001b[0m  \u001b[0;31m# type: ignore[index]\u001b[0m\u001b[0;34m\u001b[0m\u001b[0;34m\u001b[0m\u001b[0m\n\u001b[0;32m--> 427\u001b[0;31m     \u001b[0;32mraise\u001b[0m \u001b[0mIOError\u001b[0m\u001b[0;34m(\u001b[0m\u001b[0mErrors\u001b[0m\u001b[0;34m.\u001b[0m\u001b[0mE050\u001b[0m\u001b[0;34m.\u001b[0m\u001b[0mformat\u001b[0m\u001b[0;34m(\u001b[0m\u001b[0mname\u001b[0m\u001b[0;34m=\u001b[0m\u001b[0mname\u001b[0m\u001b[0;34m)\u001b[0m\u001b[0;34m)\u001b[0m\u001b[0;34m\u001b[0m\u001b[0;34m\u001b[0m\u001b[0m\n\u001b[0m\u001b[1;32m    428\u001b[0m \u001b[0;34m\u001b[0m\u001b[0m\n\u001b[1;32m    429\u001b[0m \u001b[0;34m\u001b[0m\u001b[0m\n",
      "\u001b[0;31mOSError\u001b[0m: [E050] Can't find model 'en_core_web_sm'. It doesn't seem to be a Python package or a valid path to a data directory."
     ]
    }
   ],
   "source": [
    "nlp = spacy.load('en_core_web_sm')"
   ]
  },
  {
   "cell_type": "code",
   "execution_count": null,
   "id": "2696f023-009c-45eb-a844-9a58ba4dd903",
   "metadata": {},
   "outputs": [],
   "source": [
    "# 38. Basic Network Concepts "
   ]
  },
  {
   "cell_type": "code",
   "execution_count": 33,
   "id": "95a58c6c-27c0-4179-871c-2fd8b437ab2b",
   "metadata": {},
   "outputs": [],
   "source": [
    "net1 = nx.Graph()"
   ]
  },
  {
   "cell_type": "code",
   "execution_count": 34,
   "id": "7b769ceb-c580-439f-b409-bb93a3b9c127",
   "metadata": {},
   "outputs": [],
   "source": [
    "net1.add_node('Alice')\n",
    "net1.add_node('Bob')\n",
    "net1.add_node('Chuck')\n",
    "net1.add_edge('Alice', 'Bob')\n",
    "net1.add_edge('Bob', 'Chuck')"
   ]
  },
  {
   "cell_type": "code",
   "execution_count": 35,
   "id": "75112fde-444c-4261-adf7-f1fe5ea0c994",
   "metadata": {},
   "outputs": [
    {
     "data": {
      "text/plain": [
       "NodeView(('Alice', 'Bob', 'Chuck'))"
      ]
     },
     "execution_count": 35,
     "metadata": {},
     "output_type": "execute_result"
    }
   ],
   "source": [
    "net1.nodes()"
   ]
  },
  {
   "cell_type": "code",
   "execution_count": 36,
   "id": "522a6464-0bc7-4d05-aadb-ef94813d00c5",
   "metadata": {},
   "outputs": [
    {
     "data": {
      "text/plain": [
       "EdgeView([('Alice', 'Bob'), ('Bob', 'Chuck')])"
      ]
     },
     "execution_count": 36,
     "metadata": {},
     "output_type": "execute_result"
    }
   ],
   "source": [
    "net1.edges()"
   ]
  },
  {
   "cell_type": "code",
   "execution_count": 37,
   "id": "3fbed351-1ba9-4a56-bd1d-d3548bf6745a",
   "metadata": {},
   "outputs": [
    {
     "data": {
      "image/png": "[encoded data removed]",
      "text/plain": [
       "<Figure size 432x288 with 1 Axes>"
      ]
     },
     "metadata": {},
     "output_type": "display_data"
    }
   ],
   "source": [
    "nx.draw(net1, with_labels = True) "
   ]
  },
  {
   "cell_type": "code",
   "execution_count": 38,
   "id": "2eba1b8f-a271-4f1d-80ab-d7febae29e75",
   "metadata": {},
   "outputs": [],
   "source": [
    "net2 = nx.DiGraph()\n",
    "net2.add_node('Alice')\n",
    "net2.add_node('Bob')\n",
    "net2.add_node('Chuck')\n",
    "net2.add_edge('Alice', 'Bob')\n",
    "net2.add_edge('Bob', 'Chuck')"
   ]
  },
  {
   "cell_type": "code",
   "execution_count": 39,
   "id": "b117c287-4b84-4dd0-bd2a-5d6403f64135",
   "metadata": {},
   "outputs": [
    {
     "data": {
      "text/plain": [
       "OutEdgeView([('Alice', 'Bob'), ('Bob', 'Chuck')])"
      ]
     },
     "execution_count": 39,
     "metadata": {},
     "output_type": "execute_result"
    }
   ],
   "source": [
    "net2.edges()"
   ]
  },
  {
   "cell_type": "code",
   "execution_count": 40,
   "id": "2436c98d-3e0c-44c5-9258-7e7f83abb4d6",
   "metadata": {},
   "outputs": [
    {
     "data": {
      "image/png": "[encoded data removed]",
      "text/plain": [
       "<Figure size 432x288 with 1 Axes>"
      ]
     },
     "metadata": {},
     "output_type": "display_data"
    }
   ],
   "source": [
    "nx.draw(net2, with_labels = True)"
   ]
  },
  {
   "cell_type": "code",
   "execution_count": 41,
   "id": "ceb12f5c-8f82-4aa9-af6e-0b3b85948994",
   "metadata": {},
   "outputs": [],
   "source": [
    "net3 = nx.Graph()\n",
    "net3.add_node('Alice')\n",
    "net3.add_node('Bob')\n",
    "net3.add_node('Chuck')\n",
    "net3.add_edge('Alice', 'Bob', weight = 2)\n",
    "net3.add_edge('Bob', 'Chuck', weight = 1)"
   ]
  },
  {
   "cell_type": "code",
   "execution_count": 42,
   "id": "91a3a8d9-5180-49b5-99b7-fc6f2a52950c",
   "metadata": {},
   "outputs": [
    {
     "data": {
      "text/plain": [
       "EdgeView([('Alice', 'Bob'), ('Bob', 'Chuck')])"
      ]
     },
     "execution_count": 42,
     "metadata": {},
     "output_type": "execute_result"
    }
   ],
   "source": [
    "net3.edges()"
   ]
  },
  {
   "cell_type": "code",
   "execution_count": 43,
   "id": "641eeb6b-7091-432c-bbd5-765214968de0",
   "metadata": {},
   "outputs": [
    {
     "data": {
      "text/plain": [
       "EdgeDataView([('Alice', 'Bob', {'weight': 2}), ('Bob', 'Chuck', {'weight': 1})])"
      ]
     },
     "execution_count": 43,
     "metadata": {},
     "output_type": "execute_result"
    }
   ],
   "source": [
    "net3.edges(data = True)"
   ]
  },
  {
   "cell_type": "code",
   "execution_count": 44,
   "id": "b67e78ee-6040-42a8-bc17-e82d7c1c1e40",
   "metadata": {},
   "outputs": [
    {
     "data": {
      "image/png": "[encoded data removed]",
      "text/plain": [
       "<Figure size 432x288 with 1 Axes>"
      ]
     },
     "metadata": {},
     "output_type": "display_data"
    }
   ],
   "source": [
    "nx.draw(net3, with_labels = True)"
   ]
  },
  {
   "cell_type": "code",
   "execution_count": 45,
   "id": "1790e57b-35a6-4223-8466-bf56bbdc7bc5",
   "metadata": {},
   "outputs": [],
   "source": [
    "apollo = nx.Graph()\n",
    "apollo.add_node(\"Tom Hanks\")\n",
    "apollo.add_node(\"Bill Paxton\")\n",
    "apollo.add_node(\"Gary Sinise\")\n",
    "apollo.add_node(\"Ed Harris\")\n",
    "apollo.add_node(\"Kevin Bacon\")\n",
    "apollo.add_edge(\"Tom Hanks\", \"Bill Paxton\", movies = [\"Magnificent Desolation: Walking on the Moon\"])\n",
    "apollo.add_edge(\"Tom Hanks\", \"Gary Sinise\", movies = [\"The Green Mile\"])\n",
    "apollo.add_edge(\"Bill Paxton\", \"Gary Sinise\", movies = [\"Magnificent Desolation: Walking on the Moon\"])\n",
    "apollo.add_edge(\"Gary Sinise\", \"Kevin Bacon\", movies = [\"Beyond All Boundaries\"])\n",
    "apollo.add_edge(\"Gary Sinise\", \"Ed Harris\", movies = [\"The Human Stain\"])"
   ]
  },
  {
   "cell_type": "code",
   "execution_count": 46,
   "id": "f671f7c9-68d6-4ebf-a62d-f8e48bc9d4bb",
   "metadata": {},
   "outputs": [
    {
     "data": {
      "image/png": "[encoded data removed]",
      "text/plain": [
       "<Figure size 432x288 with 1 Axes>"
      ]
     },
     "metadata": {},
     "output_type": "display_data"
    }
   ],
   "source": [
    "nx.draw(apollo, with_labels = True)"
   ]
  },
  {
   "cell_type": "code",
   "execution_count": 47,
   "id": "c91c10df-ae73-4c90-b801-88e593d19bd7",
   "metadata": {},
   "outputs": [
    {
     "data": {
      "text/plain": [
       "['Bill Paxton', 'Gary Sinise']"
      ]
     },
     "execution_count": 47,
     "metadata": {},
     "output_type": "execute_result"
    }
   ],
   "source": [
    "list(apollo.neighbors('Tom Hanks'))"
   ]
  },
  {
   "cell_type": "code",
   "execution_count": 51,
   "id": "f3341201-6bc3-464b-a8c4-182450ef18fa",
   "metadata": {},
   "outputs": [
    {
     "data": {
      "text/plain": [
       "matrix([[0, 1, 1, 0, 0],\n",
       "        [1, 0, 1, 0, 0],\n",
       "        [1, 1, 0, 1, 1],\n",
       "        [0, 0, 1, 0, 0],\n",
       "        [0, 0, 1, 0, 0]])"
      ]
     },
     "execution_count": 51,
     "metadata": {},
     "output_type": "execute_result"
    }
   ],
   "source": [
    "nx.adjacency_matrix(apollo).todense()"
   ]
  },
  {
   "cell_type": "code",
   "execution_count": 52,
   "id": "ecaae0ab-05f7-4f35-94e9-122e34aaa392",
   "metadata": {},
   "outputs": [
    {
     "data": {
      "text/plain": [
       "NodeView(('Tom Hanks', 'Bill Paxton', 'Gary Sinise', 'Ed Harris', 'Kevin Bacon'))"
      ]
     },
     "execution_count": 52,
     "metadata": {},
     "output_type": "execute_result"
    }
   ],
   "source": [
    "apollo.nodes()"
   ]
  },
  {
   "cell_type": "code",
   "execution_count": 53,
   "id": "b5896be3-0abe-4cf5-837b-5906f78500e1",
   "metadata": {},
   "outputs": [
    {
     "data": {
      "text/plain": [
       "EdgeView([('Tom Hanks', 'Bill Paxton'), ('Tom Hanks', 'Gary Sinise'), ('Bill Paxton', 'Gary Sinise'), ('Gary Sinise', 'Kevin Bacon'), ('Gary Sinise', 'Ed Harris')])"
      ]
     },
     "execution_count": 53,
     "metadata": {},
     "output_type": "execute_result"
    }
   ],
   "source": [
    "apollo.edges()"
   ]
  },
  {
   "cell_type": "code",
   "execution_count": 54,
   "id": "4d19fd91-2243-46c7-abdc-b49f699b18f6",
   "metadata": {},
   "outputs": [
    {
     "data": {
      "text/plain": [
       "{'Tom Hanks': [['Gary Sinise', 'Tom Hanks', 'Bill Paxton']],\n",
       " 'Bill Paxton': [['Gary Sinise', 'Tom Hanks', 'Bill Paxton']],\n",
       " 'Gary Sinise': [['Gary Sinise', 'Kevin Bacon'],\n",
       "  ['Gary Sinise', 'Tom Hanks', 'Bill Paxton'],\n",
       "  ['Gary Sinise', 'Ed Harris']],\n",
       " 'Ed Harris': [['Gary Sinise', 'Ed Harris']],\n",
       " 'Kevin Bacon': [['Gary Sinise', 'Kevin Bacon']]}"
      ]
     },
     "execution_count": 54,
     "metadata": {},
     "output_type": "execute_result"
    }
   ],
   "source": [
    "nx.cliques_containing_node(apollo)"
   ]
  },
  {
   "cell_type": "code",
   "execution_count": 55,
   "id": "3e9e783a-32ab-4fca-a98f-17c13ea7a3dc",
   "metadata": {},
   "outputs": [
    {
     "data": {
      "text/plain": [
       "['Tom Hanks', 'Gary Sinise', 'Kevin Bacon']"
      ]
     },
     "execution_count": 55,
     "metadata": {},
     "output_type": "execute_result"
    }
   ],
   "source": [
    "nx.shortest_path(apollo, 'Tom Hanks', 'Kevin Bacon')"
   ]
  },
  {
   "cell_type": "code",
   "execution_count": 56,
   "id": "5f4b68c5-11fc-4d3e-99ec-3a3312d22817",
   "metadata": {},
   "outputs": [],
   "source": [
    "apollo.add_node('Hani Safadi')"
   ]
  },
  {
   "cell_type": "code",
   "execution_count": 57,
   "id": "2910a59e-8dc6-472d-a601-368dcec5b584",
   "metadata": {},
   "outputs": [
    {
     "data": {
      "image/png": "[encoded data removed]",
      "text/plain": [
       "<Figure size 432x288 with 1 Axes>"
      ]
     },
     "metadata": {},
     "output_type": "display_data"
    }
   ],
   "source": [
    "nx.draw(apollo, with_labels = True)"
   ]
  },
  {
   "cell_type": "code",
   "execution_count": null,
   "id": "f2f636a7-e3a3-4166-9d08-a593787b097e",
   "metadata": {},
   "outputs": [],
   "source": [
    "# 39. Network Structures "
   ]
  },
  {
   "cell_type": "code",
   "execution_count": 58,
   "id": "11e93716-c053-4e37-a723-b264e809fc42",
   "metadata": {},
   "outputs": [],
   "source": [
    "net = nx.Graph()\n",
    "net.add_node(\"Tom Hanks\")\n",
    "net.add_node(\"Bill Paxton\")\n",
    "net.add_node(\"Gary Sinise\")\n",
    "net.add_node(\"Ed Harris\")\n",
    "net.add_node(\"Kevin Bacon\")\n",
    "net.add_edge(\"Tom Hanks\", \"Bill Paxton\", movies = [\"Magnificent Desolation: Walking on the Moon\"])\n",
    "net.add_edge(\"Tom Hanks\", \"Gary Sinise\", movies = [\"The Green Mile\"])\n",
    "net.add_edge(\"Bill Paxton\", \"Gary Sinise\", movies = [\"Magnificent Desolation: Walking on the Moon\"])\n",
    "net.add_edge(\"Gary Sinise\", \"Kevin Bacon\", movies = [\"Beyond All Boundaries\"])\n",
    "net.add_edge(\"Gary Sinise\", \"Ed Harris\", movies = [\"The Human Stain\"])"
   ]
  },
  {
   "cell_type": "code",
   "execution_count": 59,
   "id": "0cf2512b-9de3-47bb-9c9f-4595df5123ee",
   "metadata": {},
   "outputs": [
    {
     "data": {
      "image/png": "[encoded data removed]",
      "text/plain": [
       "<Figure size 432x288 with 1 Axes>"
      ]
     },
     "metadata": {},
     "output_type": "display_data"
    }
   ],
   "source": [
    "nx.draw(net, with_labels = True)"
   ]
  },
  {
   "cell_type": "code",
   "execution_count": null,
   "id": "be66724a-933b-4ad4-a17f-ab74ac86c342",
   "metadata": {},
   "outputs": [
    {
     "data": {
      "text/plain": [
       "DegreeView({'Tom Hanks': 2, 'Bill Paxton': 2, 'Gary Sinise': 4, 'Ed Harris': 1, 'Kevin Bacon': 1})"
      ]
     },
     "execution_count": 60,
     "metadata": {},
     "output_type": "execute_result"
    }
   ],
   "source": [
    "nx.degree(net)"
   ]
  },
  {
   "cell_type": "code",
   "execution_count": 62,
   "id": "2c4bb301-ab83-455e-9ff5-39389fbef655",
   "metadata": {},
   "outputs": [
    {
     "data": {
      "text/plain": [
       "[0, 2, 2, 0, 1]"
      ]
     },
     "execution_count": 62,
     "metadata": {},
     "output_type": "execute_result"
    }
   ],
   "source": [
    "nx.degree_histogram(net)"
   ]
  },
  {
   "cell_type": "code",
   "execution_count": 64,
   "id": "68e673b3-8edb-4c15-a843-c93db6426395",
   "metadata": {},
   "outputs": [
    {
     "data": {
      "text/html": [
       "<div>\n",
       "<style scoped>\n",
       "    .dataframe tbody tr th:only-of-type {\n",
       "        vertical-align: middle;\n",
       "    }\n",
       "\n",
       "    .dataframe tbody tr th {\n",
       "        vertical-align: top;\n",
       "    }\n",
       "\n",
       "    .dataframe thead th {\n",
       "        text-align: right;\n",
       "    }\n",
       "</style>\n",
       "<table border=\"1\" class=\"dataframe\">\n",
       "  <thead>\n",
       "    <tr style=\"text-align: right;\">\n",
       "      <th></th>\n",
       "      <th>degree</th>\n",
       "      <th>count</th>\n",
       "    </tr>\n",
       "  </thead>\n",
       "  <tbody>\n",
       "    <tr>\n",
       "      <th>0</th>\n",
       "      <td>0</td>\n",
       "      <td>0</td>\n",
       "    </tr>\n",
       "    <tr>\n",
       "      <th>1</th>\n",
       "      <td>1</td>\n",
       "      <td>2</td>\n",
       "    </tr>\n",
       "    <tr>\n",
       "      <th>2</th>\n",
       "      <td>2</td>\n",
       "      <td>2</td>\n",
       "    </tr>\n",
       "    <tr>\n",
       "      <th>3</th>\n",
       "      <td>3</td>\n",
       "      <td>0</td>\n",
       "    </tr>\n",
       "    <tr>\n",
       "      <th>4</th>\n",
       "      <td>4</td>\n",
       "      <td>1</td>\n",
       "    </tr>\n",
       "  </tbody>\n",
       "</table>\n",
       "</div>"
      ],
      "text/plain": [
       "   degree  count\n",
       "0       0      0\n",
       "1       1      2\n",
       "2       2      2\n",
       "3       3      0\n",
       "4       4      1"
      ]
     },
     "execution_count": 64,
     "metadata": {},
     "output_type": "execute_result"
    }
   ],
   "source": [
    "df = pd.DataFrame(nx.degree_histogram(net)).reset_index()\n",
    "df.columns = ['degree', 'count']\n",
    "df"
   ]
  },
  {
   "cell_type": "code",
   "execution_count": 69,
   "id": "f6d1330e-eb3b-43b6-9cfe-6c198c27bccb",
   "metadata": {},
   "outputs": [
    {
     "data": {
      "text/html": [
       "\n",
       "<div id=\"altair-viz-e5b7a6a1d3d442f98a6f7fb8caa53871\"></div>\n",
       "<script type=\"text/javascript\">\n",
       "  var VEGA_DEBUG = (typeof VEGA_DEBUG == \"undefined\") ? {} : VEGA_DEBUG;\n",
       "  (function(spec, embedOpt){\n",
       "    let outputDiv = document.currentScript.previousElementSibling;\n",
       "    if (outputDiv.id !== \"altair-viz-e5b7a6a1d3d442f98a6f7fb8caa53871\") {\n",
       "      outputDiv = document.getElementById(\"altair-viz-e5b7a6a1d3d442f98a6f7fb8caa53871\");\n",
       "    }\n",
       "    const paths = {\n",
       "      \"vega\": \"https://cdn.jsdelivr.net/npm//vega@5?noext\",\n",
       "      \"vega-lib\": \"https://cdn.jsdelivr.net/npm//vega-lib?noext\",\n",
       "      \"vega-lite\": \"https://cdn.jsdelivr.net/npm//vega-lite@4.17.0?noext\",\n",
       "      \"vega-embed\": \"https://cdn.jsdelivr.net/npm//vega-embed@6?noext\",\n",
       "    };\n",
       "\n",
       "    function maybeLoadScript(lib, version) {\n",
       "      var key = `${lib.replace(\"-\", \"\")}_version`;\n",
       "      return (VEGA_DEBUG[key] == version) ?\n",
       "        Promise.resolve(paths[lib]) :\n",
       "        new Promise(function(resolve, reject) {\n",
       "          var s = document.createElement('script');\n",
       "          document.getElementsByTagName(\"head\")[0].appendChild(s);\n",
       "          s.async = true;\n",
       "          s.onload = () => {\n",
       "            VEGA_DEBUG[key] = version;\n",
       "            return resolve(paths[lib]);\n",
       "          };\n",
       "          s.onerror = () => reject(`Error loading script: ${paths[lib]}`);\n",
       "          s.src = paths[lib];\n",
       "        });\n",
       "    }\n",
       "\n",
       "    function showError(err) {\n",
       "      outputDiv.innerHTML = `<div class=\"error\" style=\"color:red;\">${err}</div>`;\n",
       "      throw err;\n",
       "    }\n",
       "\n",
       "    function displayChart(vegaEmbed) {\n",
       "      vegaEmbed(outputDiv, spec, embedOpt)\n",
       "        .catch(err => showError(`Javascript Error: ${err.message}<br>This usually means there's a typo in your chart specification. See the javascript console for the full traceback.`));\n",
       "    }\n",
       "\n",
       "    if(typeof define === \"function\" && define.amd) {\n",
       "      requirejs.config({paths});\n",
       "      require([\"vega-embed\"], displayChart, err => showError(`Error loading script: ${err.message}`));\n",
       "    } else {\n",
       "      maybeLoadScript(\"vega\", \"5\")\n",
       "        .then(() => maybeLoadScript(\"vega-lite\", \"4.17.0\"))\n",
       "        .then(() => maybeLoadScript(\"vega-embed\", \"6\"))\n",
       "        .catch(showError)\n",
       "        .then(() => displayChart(vegaEmbed));\n",
       "    }\n",
       "  })({\"config\": {\"view\": {\"continuousWidth\": 400, \"continuousHeight\": 300}}, \"data\": {\"name\": \"data-706ebbe0d2b657a8a04c6de812d2aad6\"}, \"mark\": \"bar\", \"encoding\": {\"x\": {\"field\": \"degree\", \"type\": \"nominal\"}, \"y\": {\"field\": \"count\", \"type\": \"quantitative\"}}, \"$schema\": \"https://vega.github.io/schema/vega-lite/v4.17.0.json\", \"datasets\": {\"data-706ebbe0d2b657a8a04c6de812d2aad6\": [{\"degree\": 0, \"count\": 0}, {\"degree\": 1, \"count\": 2}, {\"degree\": 2, \"count\": 2}, {\"degree\": 3, \"count\": 0}, {\"degree\": 4, \"count\": 1}]}}, {\"mode\": \"vega-lite\"});\n",
       "</script>"
      ],
      "text/plain": [
       "alt.Chart(...)"
      ]
     },
     "execution_count": 69,
     "metadata": {},
     "output_type": "execute_result"
    }
   ],
   "source": [
    "alt.renderers.enable('default')\n",
    "alt.Chart(df).mark_bar().encode(\n",
    "    alt.X('degree:N'),\n",
    "    alt.Y('count'))"
   ]
  },
  {
   "cell_type": "code",
   "execution_count": 70,
   "id": "0c39fcc1-996a-420d-91c5-c2f8faa5b1d9",
   "metadata": {},
   "outputs": [
    {
     "data": {
      "text/plain": [
       "0.5"
      ]
     },
     "execution_count": 70,
     "metadata": {},
     "output_type": "execute_result"
    }
   ],
   "source": [
    "nx.density(net)"
   ]
  },
  {
   "cell_type": "code",
   "execution_count": 71,
   "id": "16ee4d88-9d37-40f7-ac58-f52baad50f56",
   "metadata": {},
   "outputs": [
    {
     "data": {
      "text/plain": [
       "1.5"
      ]
     },
     "execution_count": 71,
     "metadata": {},
     "output_type": "execute_result"
    }
   ],
   "source": [
    "nx.average_shortest_path_length(net)"
   ]
  },
  {
   "cell_type": "code",
   "execution_count": 72,
   "id": "f380ff29-99ce-496d-9211-567f5bcbeee6",
   "metadata": {},
   "outputs": [
    {
     "data": {
      "text/plain": [
       "0.4333333333333333"
      ]
     },
     "execution_count": 72,
     "metadata": {},
     "output_type": "execute_result"
    }
   ],
   "source": [
    "nx.average_clustering(net)"
   ]
  },
  {
   "cell_type": "code",
   "execution_count": 73,
   "id": "40c7c8bb-b86d-4a22-97fb-52bf12803de4",
   "metadata": {},
   "outputs": [
    {
     "data": {
      "text/plain": [
       "DegreeView({'Tom Hanks': 2, 'Bill Paxton': 2, 'Gary Sinise': 4, 'Ed Harris': 1, 'Kevin Bacon': 1})"
      ]
     },
     "execution_count": 73,
     "metadata": {},
     "output_type": "execute_result"
    }
   ],
   "source": [
    "nx.degree(net)"
   ]
  },
  {
   "cell_type": "code",
   "execution_count": 74,
   "id": "cde03f6f-10c3-40cf-b5c6-369355b137b0",
   "metadata": {},
   "outputs": [
    {
     "data": {
      "text/plain": [
       "{'Tom Hanks': 1.0,\n",
       " 'Bill Paxton': 1.0,\n",
       " 'Gary Sinise': 0.16666666666666666,\n",
       " 'Ed Harris': 0,\n",
       " 'Kevin Bacon': 0}"
      ]
     },
     "execution_count": 74,
     "metadata": {},
     "output_type": "execute_result"
    }
   ],
   "source": [
    "nx.clustering(net)"
   ]
  },
  {
   "cell_type": "code",
   "execution_count": 75,
   "id": "033002cf-4d3f-435b-8c32-83bca480fb8f",
   "metadata": {},
   "outputs": [
    {
     "data": {
      "text/plain": [
       "{'Tom Hanks': 0.6666666666666666,\n",
       " 'Bill Paxton': 0.6666666666666666,\n",
       " 'Gary Sinise': 1.0,\n",
       " 'Ed Harris': 0.5714285714285714,\n",
       " 'Kevin Bacon': 0.5714285714285714}"
      ]
     },
     "execution_count": 75,
     "metadata": {},
     "output_type": "execute_result"
    }
   ],
   "source": [
    "nx.closeness_centrality(net)"
   ]
  },
  {
   "cell_type": "code",
   "execution_count": 76,
   "id": "dbb49b0c-5f41-490a-8f9e-031a5e53216a",
   "metadata": {},
   "outputs": [
    {
     "data": {
      "text/plain": [
       "{'Tom Hanks': 0.0,\n",
       " 'Bill Paxton': 0.0,\n",
       " 'Gary Sinise': 0.8333333333333333,\n",
       " 'Ed Harris': 0.0,\n",
       " 'Kevin Bacon': 0.0}"
      ]
     },
     "execution_count": 76,
     "metadata": {},
     "output_type": "execute_result"
    }
   ],
   "source": [
    "nx.betweenness_centrality(net)"
   ]
  },
  {
   "cell_type": "code",
   "execution_count": 77,
   "id": "e9456a40-805b-4564-9451-bd83e57d9bb2",
   "metadata": {},
   "outputs": [
    {
     "data": {
      "text/plain": [
       "{'Tom Hanks': 0.47348538364848347,\n",
       " 'Bill Paxton': 0.47348538364848347,\n",
       " 'Gary Sinise': 0.6358559007605201,\n",
       " 'Ed Harris': 0.2713949671701046,\n",
       " 'Kevin Bacon': 0.2713949671701046}"
      ]
     },
     "execution_count": 77,
     "metadata": {},
     "output_type": "execute_result"
    }
   ],
   "source": [
    "nx.eigenvector_centrality(net)"
   ]
  },
  {
   "cell_type": "code",
   "execution_count": 78,
   "id": "5de601be-ca35-4719-a255-0d0281a11fe0",
   "metadata": {},
   "outputs": [
    {
     "data": {
      "text/plain": [
       "{'Tom Hanks': 0.19487677106494403,\n",
       " 'Bill Paxton': 0.19487677106494403,\n",
       " 'Gary Sinise': 0.3861385366103877,\n",
       " 'Ed Harris': 0.11205396062986217,\n",
       " 'Kevin Bacon': 0.11205396062986217}"
      ]
     },
     "execution_count": 78,
     "metadata": {},
     "output_type": "execute_result"
    }
   ],
   "source": [
    "nx.pagerank(net)"
   ]
  },
  {
   "cell_type": "code",
   "execution_count": null,
   "id": "1d4419c6-f086-45f4-9407-7fb7df46c1d2",
   "metadata": {},
   "outputs": [],
   "source": []
  },
  {
   "cell_type": "code",
   "execution_count": null,
   "id": "1b6346f3-b086-4a23-90c1-5d7367ac7aae",
   "metadata": {},
   "outputs": [],
   "source": []
  },
  {
   "cell_type": "code",
   "execution_count": null,
   "id": "ae831111-db30-490c-b2ce-6c28844610bc",
   "metadata": {},
   "outputs": [],
   "source": []
  },
  {
   "cell_type": "code",
   "execution_count": null,
   "id": "19704454-22d8-41c3-8415-bea5696b77d0",
   "metadata": {},
   "outputs": [],
   "source": []
  },
  {
   "cell_type": "code",
   "execution_count": null,
   "id": "a16f016d-7170-46e1-bbab-a3cb6cf7fd58",
   "metadata": {},
   "outputs": [],
   "source": []
  },
  {
   "cell_type": "code",
   "execution_count": null,
   "id": "cc55ae95-7c88-433a-b6bf-7c7445df0780",
   "metadata": {},
   "outputs": [],
   "source": []
  },
  {
   "cell_type": "code",
   "execution_count": null,
   "id": "b6aee3d4-9b1f-40dc-ad97-9fb0b8b12966",
   "metadata": {},
   "outputs": [],
   "source": []
  },
  {
   "cell_type": "code",
   "execution_count": null,
   "id": "3b1c0ef3-7f38-40b7-a7e7-9fccb0f24eed",
   "metadata": {},
   "outputs": [],
   "source": []
  },
  {
   "cell_type": "code",
   "execution_count": null,
   "id": "53c9d9ea-2f12-4df4-9534-dc9b7720c20a",
   "metadata": {},
   "outputs": [],
   "source": []
  }
 ],
 "metadata": {
  "kernelspec": {
   "display_name": "Python 3 (ipykernel)",
   "language": "python",
   "name": "python3"
  },
  "language_info": {
   "codemirror_mode": {
    "name": "ipython",
    "version": 3
   },
   "file_extension": ".py",
   "mimetype": "text/x-python",
   "name": "python",
   "nbconvert_exporter": "python",
   "pygments_lexer": "ipython3",
   "version": "3.9.7"
  }
 },
 "nbformat": 4,
 "nbformat_minor": 5
}
