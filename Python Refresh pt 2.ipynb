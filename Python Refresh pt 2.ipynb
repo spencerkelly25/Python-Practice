{
 "cells": [
  {
   "cell_type": "code",
   "execution_count": null,
   "id": "eef343f5-aae2-4bf4-b07a-7499933577f4",
   "metadata": {},
   "outputs": [],
   "source": [
    "!pip install functools'"
   ]
  },
  {
   "cell_type": "code",
   "execution_count": null,
   "id": "101266e9-5ef4-415f-841e-5dc1625e324f",
   "metadata": {},
   "outputs": [],
   "source": [
    "!pip install pandas_datareader"
   ]
  },
  {
   "cell_type": "code",
   "execution_count": null,
   "id": "4f55cf9d-21a0-443e-baf7-cf8965b17254",
   "metadata": {},
   "outputs": [],
   "source": [
    "pip install altair vega notebook vega_datasets"
   ]
  },
  {
   "cell_type": "code",
   "execution_count": null,
   "id": "886e899b-ea9a-4384-b683-0dbd3ecfebba",
   "metadata": {},
   "outputs": [],
   "source": [
    "from functools import reduce\n",
    "import re \n",
    "import pandas as pd\n",
    "import numpy as np \n",
    "import seaborn as sns\n",
    "import requests \n",
    "import xml.etree.ElementTree as ET\n",
    "from bs4 import BeautifulSoup\n",
    "import datetime\n",
    "from pandas_datareader import data\n",
    "import matplotlib.pyplot as plt \n",
    "import json\n",
    "from IPython.core.display import display, HTML\n",
    "import altair as alt"
   ]
  },
  {
   "cell_type": "code",
   "execution_count": null,
   "id": "af06bb2e-f635-442b-85b8-ee87300c9cef",
   "metadata": {},
   "outputs": [],
   "source": [
    "data = pd.read_csv('data/gapminder.tsv', sep = '\\t')\n",
    "movies = pd.read_csv('data/movies.csv')"
   ]
  },
  {
   "cell_type": "code",
   "execution_count": null,
   "id": "a4219df2-bbb0-4eeb-bd51-b47cac7ff3c8",
   "metadata": {},
   "outputs": [],
   "source": [
    "#30. Introduction to Altair "
   ]
  },
  {
   "cell_type": "code",
   "execution_count": null,
   "id": "751b9bf0-e6fb-4edc-b96f-2edaf27cf19e",
   "metadata": {},
   "outputs": [],
   "source": [
    "df = pd.DataFrame({\n",
    "    'city': ['Seattle', 'Seattle', 'Seattle', 'New York', 'New York', 'New York', 'Chicago', 'Chicago', 'Chicago'],\n",
    "    'month': ['Apr', 'Aug', 'Dec', 'Apr', 'Aug', 'Dec', 'Apr', 'Aug', 'Dec'],\n",
    "    'precip': [2.68, 0.87, 5.31, 3.94, 4.13, 3.58, 3.62, 3.98, 2.56]\n",
    "})\n",
    "\n",
    "df"
   ]
  },
  {
   "cell_type": "code",
   "execution_count": null,
   "id": "0c34a82d-7764-4536-9b11-4d4049ddb445",
   "metadata": {},
   "outputs": [],
   "source": [
    "# the chart object \n",
    "\n",
    "chart = alt.Chart(df)\n",
    "chart"
   ]
  },
  {
   "cell_type": "code",
   "execution_count": null,
   "id": "51d1192b-98c3-43ec-a138-710bd55eeef0",
   "metadata": {},
   "outputs": [],
   "source": [
    "# marks and encoding \n",
    "\n",
    "ch2 = chart.mark_rect()\n",
    "ch2"
   ]
  },
  {
   "cell_type": "code",
   "execution_count": null,
   "id": "8b9b302c-e267-4120-8814-705ee03723a9",
   "metadata": {},
   "outputs": [],
   "source": [
    "alt.Chart(df).mark_point().encode(\n",
    "    y = 'city', )"
   ]
  },
  {
   "cell_type": "code",
   "execution_count": null,
   "id": "6641a55c-65c7-4825-babd-2778bd76cf2f",
   "metadata": {},
   "outputs": [],
   "source": [
    "alt.Chart(df).mark_point().encode(\n",
    "    x = 'city',\n",
    "    y = 'precip')"
   ]
  },
  {
   "cell_type": "code",
   "execution_count": null,
   "id": "0f180b52-5505-4e6c-9267-611a45b393e5",
   "metadata": {},
   "outputs": [],
   "source": [
    "alt.Chart(df).mark_point().encode(\n",
    "    alt.X('precip'),\n",
    "    alt.Y('city'))"
   ]
  },
  {
   "cell_type": "code",
   "execution_count": null,
   "id": "440f748e-8f50-4c0a-9407-d7ea425bd64a",
   "metadata": {},
   "outputs": [],
   "source": [
    "# data aggregation\n",
    "\n",
    "alt.Chart(df).mark_point().encode(\n",
    "    alt.X('average(precip)'),\n",
    "    alt.Y('city'))"
   ]
  },
  {
   "cell_type": "code",
   "execution_count": null,
   "id": "410bc3da-addb-4c8c-9838-5de5a40f0f84",
   "metadata": {},
   "outputs": [],
   "source": [
    "df2 = df.groupby('city').mean().reset_index()\n",
    "alt.Chart(df2).mark_point().encode(\n",
    "    alt.X('precip'),\n",
    "    alt.Y('city'))"
   ]
  },
  {
   "cell_type": "code",
   "execution_count": null,
   "id": "22724025-4b78-4ad6-9560-9f2d8f05ad16",
   "metadata": {},
   "outputs": [],
   "source": [
    "# changing the mark type \n",
    "\n",
    "alt.Chart(df).mark_bar().encode(\n",
    "    alt.X('average(precip)'),\n",
    "    alt.Y('city'))"
   ]
  },
  {
   "cell_type": "code",
   "execution_count": null,
   "id": "255a3b1b-a415-475a-8d85-dfc9a67e52cc",
   "metadata": {},
   "outputs": [],
   "source": [
    "alt.Chart(df).mark_bar().encode(\n",
    "    alt.X('city'),\n",
    "    alt.Y('average(precip)'))"
   ]
  },
  {
   "cell_type": "code",
   "execution_count": null,
   "id": "baaeb6e3-643d-44c2-9041-7cc5f928f0b4",
   "metadata": {},
   "outputs": [],
   "source": [
    "# combining charts \n",
    "\n",
    "chart1 = alt.Chart(df).mark_line().encode(\n",
    "            alt.X('month'),\n",
    "            alt.Y('average(precip)'),\n",
    "            color = 'city')\n",
    "chart1"
   ]
  },
  {
   "cell_type": "code",
   "execution_count": null,
   "id": "2a2eac33-9036-44d1-8c1f-baa0af8dd1e4",
   "metadata": {},
   "outputs": [],
   "source": [
    "chart2 = alt.Chart(df).mark_point().encode(\n",
    "            alt.X('month'),\n",
    "            alt.Y('average(precip)'),\n",
    "            color = 'city')\n",
    "chart2"
   ]
  },
  {
   "cell_type": "code",
   "execution_count": null,
   "id": "08f57938-dbc4-48bd-931d-b87a046d9107",
   "metadata": {},
   "outputs": [],
   "source": [
    "chart3 = chart1 | chart2\n",
    "chart3"
   ]
  },
  {
   "cell_type": "code",
   "execution_count": null,
   "id": "6cb29923-a42a-4dda-9cff-f94300cb85b7",
   "metadata": {},
   "outputs": [],
   "source": [
    "chart4 = chart1 & chart2 \n",
    "chart4"
   ]
  },
  {
   "cell_type": "code",
   "execution_count": null,
   "id": "be44e20c-278d-46af-916a-d36995150794",
   "metadata": {},
   "outputs": [],
   "source": [
    "chart5 = chart1 + chart2 \n",
    "chart5 "
   ]
  },
  {
   "cell_type": "code",
   "execution_count": null,
   "id": "91e27ae6-f8b0-43c8-a049-1cd276c8bda8",
   "metadata": {},
   "outputs": [],
   "source": [
    "chart5 | chart4"
   ]
  },
  {
   "cell_type": "code",
   "execution_count": null,
   "id": "ee0833f2-6511-4ef5-a77d-6cc8c57fdb64",
   "metadata": {},
   "outputs": [],
   "source": [
    "chart5.interactive()"
   ]
  },
  {
   "cell_type": "code",
   "execution_count": null,
   "id": "795a064e-7aee-4e36-b7e3-1a072fdc6702",
   "metadata": {},
   "outputs": [],
   "source": [
    "chart5.save('chart.html')"
   ]
  },
  {
   "cell_type": "code",
   "execution_count": null,
   "id": "d9404e4e-cca8-4dc5-96fa-32ce9f805e15",
   "metadata": {},
   "outputs": [],
   "source": [
    "# 31. Data Typesm Graphical Marks, and Visual Encoding Channels "
   ]
  },
  {
   "cell_type": "code",
   "execution_count": null,
   "id": "ca13051c-08ca-4349-ae30-061e521a6ce1",
   "metadata": {},
   "outputs": [],
   "source": [
    "data = pd.read_csv('data/gapminder.tsv', sep = '\\t')\n",
    "data.head(5)"
   ]
  },
  {
   "cell_type": "code",
   "execution_count": null,
   "id": "7663d64f-aaa0-44c8-8e1d-55612a446ae9",
   "metadata": {},
   "outputs": [],
   "source": [
    "# data types \n",
    "# nominal -> consists of category names; can compare the equality of values; when visualizing we should readily be able to see if values are the same or different posiiton \n",
    "# ordinal -> consists of values that have a specific ordering; can compare the rank ordering of values; when visualizing we should be able to perceive a sense of rank order \n",
    "# quantitative -> able to measure numerical differences among values; \n",
    "#   for interval data, we can measure the distance between points \n",
    "#   for ratio data, the zero point is meaningful and so we can alos measure proportions or scale values \n",
    "#   can be visualized using position, size, or color values \n",
    "#   axises with zero baselines are essential for visualizing ratio data\n",
    "# temporal -> measures time points or intervals"
   ]
  },
  {
   "cell_type": "code",
   "execution_count": null,
   "id": "c8db45ab-a93d-47cb-83e6-414c050f5ea4",
   "metadata": {},
   "outputs": [],
   "source": [
    "data.dtypes"
   ]
  },
  {
   "cell_type": "code",
   "execution_count": null,
   "id": "988e904c-18bb-4f14-a9ef-81e229882377",
   "metadata": {},
   "outputs": [],
   "source": [
    "alt.Chart(data).mark_point().encode(\n",
    "    alt.X('lifeExp:Q'))"
   ]
  },
  {
   "cell_type": "code",
   "execution_count": null,
   "id": "823ee776-e110-4820-a4fc-117afe7eef2e",
   "metadata": {},
   "outputs": [],
   "source": [
    "alt.Chart(data).mark_point().encode(\n",
    "    alt.X('lifeExp:N'))"
   ]
  },
  {
   "cell_type": "code",
   "execution_count": null,
   "id": "b8f8c964-1dab-4aac-99fe-6ef67faca077",
   "metadata": {},
   "outputs": [],
   "source": [
    "alt.Chart(data).mark_point().encode(\n",
    "    alt.X('lifeExp:O'))"
   ]
  },
  {
   "cell_type": "code",
   "execution_count": null,
   "id": "8ecb12d7-94f0-4adf-a307-dd2e4f9f71db",
   "metadata": {},
   "outputs": [],
   "source": [
    "# encoding channels: \n",
    "# x -> horizontal position of the mark \n",
    "# y -> vertical position of the mark \n",
    "# size -> size of the mark; may correspond to area or length \n",
    "# color -> mark color; specified a a legal CSS color \n",
    "# opacity -> mark opacity ranging from 0 (full transparent) to 1 (fully opaque)\n",
    "# shape -> plotting symbol shape for point marks \n",
    "# tooltip -> specifies that text should be displayed upon the mouse hovering over the mark \n",
    "# order -> mark ordering; determines line/area point order and drawing order \n",
    "# column -> facet the data into horizontally aligned subplots \n",
    "# row -> facet the data into vertically aligned subplots \n"
   ]
  },
  {
   "cell_type": "code",
   "execution_count": null,
   "id": "900edfad-72a0-4edf-82cb-882be2173f6b",
   "metadata": {},
   "outputs": [],
   "source": [
    "alt.Chart(data).mark_point().encode(\n",
    "    alt.X('lifeExp:Q'))"
   ]
  },
  {
   "cell_type": "code",
   "execution_count": null,
   "id": "0c240e60-a7d4-4805-903f-3aa151dc1032",
   "metadata": {},
   "outputs": [],
   "source": [
    "alt.Chart(data).mark_point().encode(\n",
    "    alt.X('lifeExp:Q'),\n",
    "    alt.Y('continent:O'))"
   ]
  },
  {
   "cell_type": "code",
   "execution_count": null,
   "id": "5c04cdc1-9d44-44ca-816b-eae2acb0987d",
   "metadata": {},
   "outputs": [],
   "source": [
    "alt.Chart(data).mark_point().encode(\n",
    "    alt.X('lifeExp:Q'),\n",
    "    alt.Y('pop:Q'))"
   ]
  },
  {
   "cell_type": "code",
   "execution_count": null,
   "id": "73cbe05e-5176-47cb-ae68-97fec067de55",
   "metadata": {},
   "outputs": [],
   "source": [
    "alt.Chart(data).mark_point().encode(\n",
    "    alt.X('lifeExp:Q', scale = alt.Scale(zero = False)),\n",
    "    alt.Y('pop:Q', scale = alt.Scale(zero = False)))"
   ]
  },
  {
   "cell_type": "code",
   "execution_count": null,
   "id": "a45f003e-2477-48c3-80c4-32d2bbafad48",
   "metadata": {},
   "outputs": [],
   "source": [
    "alt.Chart(data).mark_point().encode(\n",
    "    alt.X('gdpPercap:Q'),\n",
    "    alt.Y('lifeExp:Q'),\n",
    "    alt.Size('pop:Q'))"
   ]
  },
  {
   "cell_type": "code",
   "execution_count": null,
   "id": "95548be1-381d-4ac3-a374-80a846da8066",
   "metadata": {},
   "outputs": [],
   "source": [
    "alt.Chart(data).mark_point().encode(\n",
    "    alt.X('gdpPercap:Q'),\n",
    "    alt.Y('lifeExp:Q'),\n",
    "    alt.Size('pop:Q', scale = alt.Scale(range = [0, 1000])))"
   ]
  },
  {
   "cell_type": "code",
   "execution_count": null,
   "id": "fc6520a0-3392-47d3-bd95-a6baa1605889",
   "metadata": {},
   "outputs": [],
   "source": [
    "alt.Chart(data).mark_point().encode(\n",
    "    alt.X('lifeExp:Q'),\n",
    "    alt.Y('pop:Q'),\n",
    "    alt.Color('continent:N'))"
   ]
  },
  {
   "cell_type": "code",
   "execution_count": null,
   "id": "6e9ca5b0-108d-49fb-ac16-ec0fd111f863",
   "metadata": {},
   "outputs": [],
   "source": [
    "alt.Chart(data).mark_point(filled = True).encode(\n",
    "    alt.X('lifeExp:Q'),\n",
    "    alt.Y('pop:Q'),\n",
    "    alt.Color('continent:N'))"
   ]
  },
  {
   "cell_type": "code",
   "execution_count": null,
   "id": "bf969683-d06a-497d-b52d-43074300549a",
   "metadata": {},
   "outputs": [],
   "source": [
    "alt.Chart(data).mark_point(filled = True, opacity = 0.5).encode(\n",
    "    alt.X('lifeExp:Q'),\n",
    "    alt.Y('pop:Q'),\n",
    "    alt.Color('continent:N'))"
   ]
  },
  {
   "cell_type": "code",
   "execution_count": null,
   "id": "2be27d62-c7cb-4c7a-b593-5da51fb835c1",
   "metadata": {},
   "outputs": [],
   "source": [
    "alt.Chart(data).mark_point(filled = True, opacity = 0.5).encode(\n",
    "    alt.X('lifeExp:Q'),\n",
    "    alt.Y('pop:Q'),\n",
    "    alt.Shape('continent:N'))"
   ]
  },
  {
   "cell_type": "code",
   "execution_count": null,
   "id": "3b786ca2-9333-414c-9956-91b9ad491a03",
   "metadata": {},
   "outputs": [],
   "source": [
    "alt.Chart(data).mark_point(filled = True, opacity = 0.5).encode(\n",
    "    alt.X('lifeExp:Q'),\n",
    "    alt.Y('pop:Q'),\n",
    "    alt.Color('continent:N'),\n",
    "    alt.Tooltip('country'))"
   ]
  },
  {
   "cell_type": "code",
   "execution_count": null,
   "id": "2cd33db5-4896-4ab3-be28-d840cd2f9495",
   "metadata": {},
   "outputs": [],
   "source": [
    "alt.Chart(data).mark_point(filled = True, opacity = 1).encode(\n",
    "    alt.X('gdpPercap:Q'),\n",
    "    alt.Y('lifeExp:Q'),\n",
    "    alt.Size('pop:Q', scale = alt.Scale(range = [0, 1000])),\n",
    "    alt.Color('continent:N'),\n",
    "    alt.Tooltip('country:N'),\n",
    "    alt.Order('pop:Q', sort = 'descending'))"
   ]
  },
  {
   "cell_type": "code",
   "execution_count": null,
   "id": "b3f6e18e-543b-40ab-a2bc-23fad9ccc64c",
   "metadata": {},
   "outputs": [],
   "source": [
    "alt.Chart(data).mark_point(filled = True, opacity = 1).encode(\n",
    "    alt.X('gdpPercap:Q'),\n",
    "    alt.Y('lifeExp:Q'),\n",
    "    alt.Size('pop:Q', scale = alt.Scale(range = [0,1000])),\n",
    "    alt.Color('continent:N'),\n",
    "    alt.Order('pop:Q', sort = 'descending'),\n",
    "    alt.Tooltip(['country:N', 'year:O']))"
   ]
  },
  {
   "cell_type": "code",
   "execution_count": null,
   "id": "c418c69c-2613-41a1-afdb-7974be687bb5",
   "metadata": {},
   "outputs": [],
   "source": [
    "alt.Chart(data).mark_point(filled = True, opacity = 1).encode(\n",
    "    alt.X('gdpPercap:Q'),\n",
    "    alt.Y('lifeExp:Q'),\n",
    "    alt.Size('pop:Q', scale = alt.Scale(range = [0,1000])),\n",
    "    alt.Color('continent:N'),\n",
    "    alt.Order('pop:Q', sort = 'descending'),\n",
    "    alt.Column('year'))"
   ]
  },
  {
   "cell_type": "code",
   "execution_count": null,
   "id": "97f701d3-8866-45c0-abfd-a5572673cb35",
   "metadata": {},
   "outputs": [],
   "source": [
    "alt.Chart(data).mark_point(filled = True, opacity = 1).encode(\n",
    "    alt.X('gdpPercap:Q'),\n",
    "    alt.Y('lifeExp:Q'),\n",
    "    alt.Size('pop:Q', scale = alt.Scale(range = [0,1000])),\n",
    "    alt.Color('continent:N'),\n",
    "    alt.Order('pop:Q', sort = 'descending'),\n",
    "    alt.Column('year')).properties(width = 135, height = 135)"
   ]
  },
  {
   "cell_type": "code",
   "execution_count": null,
   "id": "6a2496ba-bd78-4aed-a1ea-df2ff7b1cc36",
   "metadata": {},
   "outputs": [],
   "source": [
    "# graphical marks \n",
    "# mark_area() -> filled areas defined bya top line and a baseline \n",
    "# mark_bar() -> rectangular bars \n",
    "# mark_circle() -> scallter plot points as filled circles\n",
    "# mark_line() -> connected line segments \n",
    "# mark_point() -> scatter plot points with configurable shapes \n",
    "# mark_rect() -> filled rectangles; useful for heatmaps \n",
    "# mark_rule() -> vertical or horizontal lines spanning the axis \n",
    "# mark_square() -> scatter plot points as filled squares \n",
    "# mark_text() -> scatter plot points represented by text \n",
    "# mark_tick() -> vertical or horizontal tick marks "
   ]
  },
  {
   "cell_type": "code",
   "execution_count": null,
   "id": "1164df73-da22-45e8-84a7-524b283c8b1e",
   "metadata": {},
   "outputs": [],
   "source": [
    "alt.Chart(data).mark_point().encode(\n",
    "    alt.X('lifeExp:Q'),\n",
    "    alt.Y('continent:N'),\n",
    "    alt.Shape('continent:N'))"
   ]
  },
  {
   "cell_type": "code",
   "execution_count": null,
   "id": "e1fc2dc0-66ae-4ebc-8c4e-77f3869cf624",
   "metadata": {},
   "outputs": [],
   "source": [
    "alt.Chart(data).mark_point(filled = True, size = 100).encode(\n",
    "    alt.X('lifeExp:Q'),\n",
    "    alt.Y('continent:N'),\n",
    "    alt.Shape('continent:N'))"
   ]
  },
  {
   "cell_type": "code",
   "execution_count": null,
   "id": "6a72b574-6981-4351-9d12-2e612cb8f19f",
   "metadata": {},
   "outputs": [],
   "source": [
    "alt.Chart(data).mark_circle().encode(\n",
    "    alt.X('lifeExp:Q'),\n",
    "    alt.Y('continent:N'),\n",
    "    alt.Shape('continent:N'))"
   ]
  },
  {
   "cell_type": "code",
   "execution_count": null,
   "id": "ab510dbc-01bc-4af3-8177-c967c7aec83c",
   "metadata": {},
   "outputs": [],
   "source": [
    "alt.Chart(data).mark_square().encode(\n",
    "    alt.X('lifeExp:Q'),\n",
    "    alt.Y('continent:N'),\n",
    "    alt.Shape('continent:N'))"
   ]
  },
  {
   "cell_type": "code",
   "execution_count": null,
   "id": "b33157ec-54c4-463c-b252-030fb4053234",
   "metadata": {},
   "outputs": [],
   "source": [
    "alt.Chart(data).mark_tick().encode(\n",
    "    alt.X('lifeExp:Q'),\n",
    "    alt.Y('continent:N'),\n",
    "    alt.Shape('continent:N'))"
   ]
  },
  {
   "cell_type": "code",
   "execution_count": null,
   "id": "440c436d-d397-4fae-94c9-3fc6688b4a2f",
   "metadata": {},
   "outputs": [],
   "source": [
    "alt.Chart(data).mark_bar().encode(\n",
    "    alt.X('lifeExp:Q'),\n",
    "    alt.Y('continent:N'))"
   ]
  },
  {
   "cell_type": "code",
   "execution_count": null,
   "id": "7d31c6be-5eba-491d-b97a-4b35373f1d6a",
   "metadata": {},
   "outputs": [],
   "source": [
    "alt.Chart(data).mark_bar().encode(\n",
    "    alt.X('average(lifeExp)'),\n",
    "    alt.Y('continent:N'))"
   ]
  },
  {
   "cell_type": "code",
   "execution_count": null,
   "id": "b1fa2776-99c4-4f72-b244-03dd7b1e90e4",
   "metadata": {},
   "outputs": [],
   "source": [
    "alt.Chart(data).mark_bar().encode(\n",
    "    alt.X('lifeExp:Q'),\n",
    "    alt.Y('continent:N'),\n",
    "    alt.Color('country'))"
   ]
  },
  {
   "cell_type": "code",
   "execution_count": null,
   "id": "33f43d9b-24b3-4674-87a8-b51f9f5534ec",
   "metadata": {},
   "outputs": [],
   "source": [
    "alt.Chart(data).mark_bar().encode(\n",
    "    alt.X('year:O'),\n",
    "    alt.Y('lifeExp:Q'),\n",
    "    alt.Color('continent:N'))"
   ]
  },
  {
   "cell_type": "code",
   "execution_count": null,
   "id": "89ad432d-ff1e-42b3-962d-1762e7308097",
   "metadata": {},
   "outputs": [],
   "source": [
    "alt.Chart(data).mark_bar().encode(\n",
    "    alt.X('min(lifeExp):Q'),\n",
    "    alt.X2('max(lifeExp):Q'),\n",
    "    alt.Y('continent:N'))"
   ]
  },
  {
   "cell_type": "code",
   "execution_count": null,
   "id": "cb9361a1-8850-4815-8e45-661d7c0b95c3",
   "metadata": {},
   "outputs": [],
   "source": [
    "alt.Chart(data).mark_line().encode(\n",
    "    alt.X('year:O'),\n",
    "    alt.Y('average(lifeExp):Q'),\n",
    "    alt.Color('continent:N', legend = None)).properties(width = 400)"
   ]
  },
  {
   "cell_type": "code",
   "execution_count": null,
   "id": "2721c4de-1e60-421e-9e4e-fbf58e454777",
   "metadata": {},
   "outputs": [],
   "source": [
    "alt.Chart(data).mark_line(strokeWidth = 3, opacity = 0.5, interpolate = 'monotone').encode(\n",
    "    alt.X('year:O'),\n",
    "    alt.Y('lifeExp:Q'),\n",
    "    alt.Color('country:N', legend = None)).properties(width = 400)"
   ]
  },
  {
   "cell_type": "code",
   "execution_count": null,
   "id": "8e4746ef-3691-4a44-a589-c9853be31e8e",
   "metadata": {},
   "outputs": [],
   "source": [
    "dataUS = data.loc[data['country'] == 'United States']\n",
    "\n",
    "alt.Chart(dataUS).mark_area().encode(\n",
    "    alt.X('year:O'),\n",
    "    alt.Y('gdpPercap:Q'))"
   ]
  },
  {
   "cell_type": "code",
   "execution_count": null,
   "id": "6efd1f8c-f4ce-4345-b71c-393f47eda022",
   "metadata": {},
   "outputs": [],
   "source": [
    "dataNA = data.loc[\n",
    "    (data['country'] == 'United States') |\n",
    "    (data['country'] == 'Canada') |\n",
    "    (data['country'] == 'Mexico')]\n",
    "\n",
    "alt.Chart(dataNA).mark_area().encode(\n",
    "    alt.X('year:O'),\n",
    "    alt.Y('gdpPercap:Q'),\n",
    "    alt.Color('country:N'))"
   ]
  },
  {
   "cell_type": "code",
   "execution_count": null,
   "id": "6874ca93-2bfc-4b58-a33c-26bb6d110720",
   "metadata": {},
   "outputs": [],
   "source": [
    "alt.Chart(dataNA).mark_area().encode(\n",
    "    alt.X('year:O'),\n",
    "    alt.Y('gdpPercap:Q', stack = 'center'),\n",
    "    alt.Color('country:N'))"
   ]
  },
  {
   "cell_type": "code",
   "execution_count": null,
   "id": "fa778f5d-c1f7-440b-aeb4-4da6c75a5252",
   "metadata": {},
   "outputs": [],
   "source": [
    "alt.Chart(dataNA).mark_area(opacity = 0.5).encode(\n",
    "    alt.X('year:O'),\n",
    "    alt.Y('gdpPercap:Q', stack = None),\n",
    "    alt.Color('country:N'))"
   ]
  },
  {
   "cell_type": "code",
   "execution_count": null,
   "id": "463dc89e-d64c-40b2-ba34-032c2ba4d220",
   "metadata": {},
   "outputs": [],
   "source": [
    "alt.Chart(dataNA).mark_area().encode(\n",
    "    alt.X('year:O'),\n",
    "    alt.Y('min(gdpPercap):Q'),\n",
    "    alt.Y2('max(gdpPercap):Q'))"
   ]
  },
  {
   "cell_type": "code",
   "execution_count": null,
   "id": "6c78c9ad-8451-4739-ad3b-07a7249883a3",
   "metadata": {},
   "outputs": [],
   "source": [
    "# 32. Data Transformation "
   ]
  },
  {
   "cell_type": "code",
   "execution_count": null,
   "id": "26cba13f-c03d-4941-9df5-cd2cecdbc481",
   "metadata": {},
   "outputs": [],
   "source": [
    "movies = pd.read_csv('data/movies.csv')\n",
    "movies.shape "
   ]
  },
  {
   "cell_type": "code",
   "execution_count": null,
   "id": "8be72908-fab1-47fb-8167-6fd4c5edca4f",
   "metadata": {},
   "outputs": [],
   "source": [
    "movies.head(5)"
   ]
  },
  {
   "cell_type": "code",
   "execution_count": null,
   "id": "6d018d1d-9ade-44be-a78c-7e9a92128786",
   "metadata": {},
   "outputs": [],
   "source": [
    "alt.Chart(movies).mark_circle().encode(\n",
    "    alt.X('Rotten_Tomatoes_Rating:Q'),\n",
    "    alt.Y('IMDB_Rating:Q'))"
   ]
  },
  {
   "cell_type": "code",
   "execution_count": null,
   "id": "7039b561-2979-4721-af3e-37137c86190c",
   "metadata": {},
   "outputs": [],
   "source": [
    "movies['binned_rating'] = pd.cut(movies['Rotten_Tomatoes_Rating'], 20).apply(lambda x: x.mid)\n",
    "movies.dropna().head()"
   ]
  },
  {
   "cell_type": "code",
   "execution_count": null,
   "id": "2af2ea24-8f0b-4414-8a08-3758fc80595f",
   "metadata": {},
   "outputs": [],
   "source": [
    "df = movies.groupby('binned_rating')[['Title']].count().reset_index()\n",
    "df.head()"
   ]
  },
  {
   "cell_type": "code",
   "execution_count": null,
   "id": "26a11d29-cd61-4dbc-9918-5c0fc72c9852",
   "metadata": {},
   "outputs": [],
   "source": [
    "alt.Chart(df).mark_bar().encode(\n",
    "    alt.X('binned_rating:Q'),\n",
    "    alt.Y('Title:Q'))"
   ]
  },
  {
   "cell_type": "code",
   "execution_count": null,
   "id": "a0ef3907-1bd1-4fe2-9832-a9d08f94fd04",
   "metadata": {},
   "outputs": [],
   "source": [
    "alt.Chart(movies).mark_circle().encode(\n",
    "    alt.X('Rotten_Tomatoes_Rating:Q', bin = True),\n",
    "    alt.Y('IMDB_Rating:Q'))"
   ]
  },
  {
   "cell_type": "code",
   "execution_count": null,
   "id": "9fd0ac02-20e8-4c2a-9b7f-6455174aacd1",
   "metadata": {},
   "outputs": [],
   "source": [
    "alt.Chart(movies).mark_bar().encode(\n",
    "    alt.X('Rotten_Tomatoes_Rating:Q', bin = True),\n",
    "    alt.Y('count()'))"
   ]
  },
  {
   "cell_type": "code",
   "execution_count": null,
   "id": "e9763b23-1af5-4205-b769-e4d425184b44",
   "metadata": {},
   "outputs": [],
   "source": [
    "alt.Chart(movies).mark_bar().encode(\n",
    "    alt.X('Rotten_Tomatoes_Rating:Q', bin = alt.BinParams(maxbins = 20)),\n",
    "    alt.Y('count()'))"
   ]
  },
  {
   "cell_type": "code",
   "execution_count": null,
   "id": "3312f846-0419-43a2-bea8-8ea69aaa3914",
   "metadata": {},
   "outputs": [],
   "source": [
    "alt.Chart(movies).mark_bar().encode(\n",
    "    alt.X('IMDB_Rating:Q', bin = alt.BinParams(maxbins = 20)),\n",
    "    alt.Y('count()'))"
   ]
  },
  {
   "cell_type": "code",
   "execution_count": null,
   "id": "4d2f7111-4d13-4aca-b4b4-31a484bf33a8",
   "metadata": {},
   "outputs": [],
   "source": [
    "alt.Chart(movies).mark_circle().encode(\n",
    "    alt.X('Rotten_Tomatoes_Rating:Q', bin=alt.BinParams(maxbins=20)),\n",
    "    alt.Y('IMDB_Rating:Q', bin=alt.BinParams(maxbins=20)))"
   ]
  },
  {
   "cell_type": "code",
   "execution_count": null,
   "id": "ce61c6ea-4cfa-4be5-949a-aef0557294c9",
   "metadata": {},
   "outputs": [],
   "source": [
    "alt.Chart(movies).mark_circle().encode(\n",
    "    alt.X('Rotten_Tomatoes_Rating:Q', bin=alt.BinParams(maxbins=20)),\n",
    "    alt.Y('IMDB_Rating:Q', bin=alt.BinParams(maxbins=20)),\n",
    "    alt.Size('count()')\n",
    ")"
   ]
  },
  {
   "cell_type": "code",
   "execution_count": null,
   "id": "542640f6-c87f-4349-8568-ef023b75a863",
   "metadata": {},
   "outputs": [],
   "source": [
    "alt.Chart(movies).mark_bar().encode(\n",
    "    alt.X('Rotten_Tomatoes_Rating:Q', bin = alt.BinParams(maxbins = 20)),\n",
    "    alt.Y('IMDB_Rating:Q', bin = alt.BinParams(maxbins = 20)),\n",
    "    alt.Color('count()'))"
   ]
  },
  {
   "cell_type": "code",
   "execution_count": null,
   "id": "b5a5a52b-6e4b-4ff5-ab20-27320f5e5f43",
   "metadata": {},
   "outputs": [],
   "source": [
    "alt.Chart(movies).mark_bar().encode(\n",
    "    alt.X('average(Rotten_Tomatoes_Rating):Q'),\n",
    "    alt.Y('Major_Genre:N'))"
   ]
  },
  {
   "cell_type": "code",
   "execution_count": null,
   "id": "18ce7ef9-5b10-4316-afac-9b316c0b0ba0",
   "metadata": {},
   "outputs": [],
   "source": [
    "alt.Chart(movies).mark_bar().encode(\n",
    "    alt.X('average(Rotten_Tomatoes_Rating):Q'),\n",
    "    alt.Y('Major_Genre:N', sort = alt.EncodingSortField(\n",
    "        op = 'average', field = 'Rotten_Tomatoes_Rating', order = 'descending')))"
   ]
  },
  {
   "cell_type": "code",
   "execution_count": null,
   "id": "eae1767a-a7d4-4bfd-b3f9-014515c2c82f",
   "metadata": {},
   "outputs": [],
   "source": [
    "alt.Chart(movies).mark_bar().encode(\n",
    "    alt.X('median(Rotten_Tomatoes_Rating):Q'),\n",
    "    alt.Y('Major_Genre:N', sort = alt.EncodingSortField(\n",
    "        op = 'median', field = 'Rotten_Tomatoes_Rating', order = 'descending')))"
   ]
  },
  {
   "cell_type": "code",
   "execution_count": null,
   "id": "14d487ba-1944-4469-8a73-f85113dc26c9",
   "metadata": {},
   "outputs": [],
   "source": [
    "alt.Chart(movies).mark_bar().encode(\n",
    "    alt.X('q1(Rotten_Tomatoes_Rating):Q'),\n",
    "    alt.X2('q3(Rotten_Tomatoes_Rating):Q'),\n",
    "    alt.Y('Major_Genre:N', sort = alt.EncodingSortField(\n",
    "        op = 'median', field = 'Rotten_Tomatoes_Rating', order = 'descending')))"
   ]
  },
  {
   "cell_type": "code",
   "execution_count": null,
   "id": "932ac160-5305-4bfc-8153-7f9a1930c61b",
   "metadata": {},
   "outputs": [],
   "source": [
    "alt.Chart(movies).mark_area().encode(\n",
    "    alt.X('month(Release_Date):T'),\n",
    "    alt.Y('median(US_Gross):Q'))"
   ]
  },
  {
   "cell_type": "code",
   "execution_count": null,
   "id": "f987358b-9daa-4c2b-b64e-d0a15bc2063b",
   "metadata": {},
   "outputs": [],
   "source": [
    "alt.Chart(movies).mark_area().encode(\n",
    "    alt.X('month(Release_Date):T'),\n",
    "    alt.Y('median(Worldwide_Gross):Q'))"
   ]
  },
  {
   "cell_type": "code",
   "execution_count": null,
   "id": "9a741e1d-c3de-49ee-9328-2a1ade3359a3",
   "metadata": {},
   "outputs": [],
   "source": [
    "# 36. Tokenization"
   ]
  },
  {
   "cell_type": "code",
   "execution_count": null,
   "id": "2991bd6b-349e-4d71-950b-0bd84ef03490",
   "metadata": {},
   "outputs": [],
   "source": []
  },
  {
   "cell_type": "code",
   "execution_count": null,
   "id": "94260c26-799e-49af-addb-0d7ebb47866b",
   "metadata": {},
   "outputs": [],
   "source": []
  },
  {
   "cell_type": "code",
   "execution_count": null,
   "id": "c4e3ec4e-e6fd-4870-9268-12ba068f7ff7",
   "metadata": {},
   "outputs": [],
   "source": []
  },
  {
   "cell_type": "code",
   "execution_count": null,
   "id": "7beb7a7d-c0cc-4525-a7ff-5dd040d63a8e",
   "metadata": {},
   "outputs": [],
   "source": []
  },
  {
   "cell_type": "code",
   "execution_count": null,
   "id": "67c8a75c-375b-4211-bd09-be7c11111474",
   "metadata": {},
   "outputs": [],
   "source": []
  }
 ],
 "metadata": {
  "kernelspec": {
   "display_name": "Python 3 (ipykernel)",
   "language": "python",
   "name": "python3"
  },
  "language_info": {
   "codemirror_mode": {
    "name": "ipython",
    "version": 3
   },
   "file_extension": ".py",
   "mimetype": "text/x-python",
   "name": "python",
   "nbconvert_exporter": "python",
   "pygments_lexer": "ipython3",
   "version": "3.9.7"
  }
 },
 "nbformat": 4,
 "nbformat_minor": 5
}
